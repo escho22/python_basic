{
 "cells": [
  {
   "cell_type": "code",
   "execution_count": 4,
   "metadata": {},
   "outputs": [
    {
     "name": "stdout",
     "output_type": "stream",
     "text": [
      "25\n",
      "뭔가 답답하다 답답해\n"
     ]
    }
   ],
   "source": [
    "def add_number(n1, n2):\n",
    "    ret = n1 + n2\n",
    "    return ret\n",
    "\n",
    "def add_txt(t1, t2):\n",
    "    print(t1 + t2)\n",
    "    \n",
    "ans = add_number(10, 15)\n",
    "print(ans)\n",
    "\n",
    "add_txt('뭔가 ', '답답하다 답답해')"
   ]
  },
  {
   "cell_type": "code",
   "execution_count": 7,
   "metadata": {},
   "outputs": [
    {
     "name": "stdout",
     "output_type": "stream",
     "text": [
      "-3의 절대값 :  3\n",
      "10의 절대값 :  10\n",
      "계산 결과 :  82.0\n"
     ]
    }
   ],
   "source": [
    "def abs(number):\n",
    "    if number < 0:\n",
    "        number = -number\n",
    "    return number\n",
    "\n",
    "print('-3의 절대값 : ', abs(-3))\n",
    "print('10의 절대값 : ', abs(10))\n",
    "\n",
    "temp = abs(-9) / 3 * abs(20) + 3 + abs(-19)\n",
    "print('계산 결과 : ', temp)"
   ]
  },
  {
   "cell_type": "code",
   "execution_count": 10,
   "metadata": {},
   "outputs": [
    {
     "name": "stdout",
     "output_type": "stream",
     "text": [
      "두 수의 합을 구하고 출력해주는 함수입니다.\n",
      "10 20 의 합은 30 입니다.\n",
      "두 수의 합을 구하고 출력해주는 함수입니다.\n",
      "-87 172 의 합은 85 입니다.\n"
     ]
    }
   ],
   "source": [
    "def add_test(a, b): #매개변수\n",
    "    result = a + b #result : 지역변수\n",
    "    print('두 수의 합을 구하고 출력해주는 함수입니다.')\n",
    "    print(a, b, '의 합은', result, '입니다.')\n",
    "\n",
    "add_test(10, 20) #인자값\n",
    "add_test(-87, 172)"
   ]
  },
  {
   "cell_type": "code",
   "execution_count": 15,
   "metadata": {},
   "outputs": [
    {
     "name": "stdout",
     "output_type": "stream",
     "text": [
      "<class 'function'>\n"
     ]
    },
    {
     "data": {
      "text/plain": [
       "True"
      ]
     },
     "execution_count": 15,
     "metadata": {},
     "output_type": "execute_result"
    }
   ],
   "source": [
    "print(type(add_test))\n",
    "\n",
    "import types\n",
    "type(add_test) == types.FunctionType\n",
    "\n",
    "types.FunctionType.__name__ #스페셜 속성\n",
    "\n",
    "isinstance(add_test, types.FunctionType) #함수는 FunctionType 타입의 객체"
   ]
  },
  {
   "cell_type": "code",
   "execution_count": 18,
   "metadata": {},
   "outputs": [
    {
     "name": "stdout",
     "output_type": "stream",
     "text": [
      "The string inside the function: Hello_changed\n",
      "Hello\n"
     ]
    }
   ],
   "source": [
    "def changestr(mystr):\n",
    "    mystr = mystr + '_changed'\n",
    "    print('The string inside the function: {}' .format(mystr))\n",
    "    return\n",
    "\n",
    "mystr = 'Hello'\n",
    "changestr(mystr) #반횐되는건 지역변수\n",
    "\n",
    "print(mystr) #서로 다른 변수이기 때문에 변경되지 않음"
   ]
  },
  {
   "cell_type": "code",
   "execution_count": 21,
   "metadata": {},
   "outputs": [
    {
     "name": "stdout",
     "output_type": "stream",
     "text": [
      "2337401122352\n",
      "2337401122352\n",
      "The string inside the function: Hello_changed\n",
      "2337396385520\n"
     ]
    }
   ],
   "source": [
    "def changestr(mystr):\n",
    "    print(id(mystr)) #매개변수 #2337401122352\n",
    "    mystr = mystr + '_changed'\n",
    "    print('The string inside the function: {}' .format(mystr))\n",
    "    print(id(mystr)) #변경된 지역변수 2337401122352 #서로 다른 메모리 => 문자열은 불변 => 새로운 메모리\n",
    "    return\n",
    "\n",
    "mystr = 'Hello'\n",
    "print(id(mystr)) #2337401122352\n",
    "changestr(mystr)"
   ]
  },
  {
   "cell_type": "code",
   "execution_count": 25,
   "metadata": {},
   "outputs": [
    {
     "name": "stdout",
     "output_type": "stream",
     "text": [
      "8\n",
      "6\n"
     ]
    }
   ],
   "source": [
    "def perform_calc(value1, value2, func):\n",
    "    return func(value1, value2)\n",
    "\n",
    "def mult_values(value1, value2):\n",
    "    return value1 * value2\n",
    "\n",
    "print(perform_calc(2, 4, mult_values))\n",
    "\n",
    "def add_values(value1, value2):\n",
    "    return value1 + value2\n",
    "\n",
    "print(perform_calc(2, 4, add_values))"
   ]
  },
  {
   "cell_type": "code",
   "execution_count": 26,
   "metadata": {},
   "outputs": [
    {
     "name": "stdout",
     "output_type": "stream",
     "text": [
      "good morning Everyone\n",
      "good morning Mr. Park\n"
     ]
    }
   ],
   "source": [
    "def report(message, who='Everyone'): #기본값이 설정된 매개변수는 항상 기본값이 없는 매개변수 뒤에 와야 함\n",
    "    print(message, who)\n",
    " \n",
    "report('good morning')\n",
    "report('good morning', 'Mr. Park')"
   ]
  },
  {
   "cell_type": "code",
   "execution_count": 32,
   "metadata": {
    "scrolled": true
   },
   "outputs": [
    {
     "name": "stdout",
     "output_type": "stream",
     "text": [
      "name = 박길동\n",
      "position = staff\n",
      "nationality = Korea\n",
      "----------------------\n",
      "name = 박길동\n",
      "position = staff\n",
      "nationality = ROK\n",
      "----------------------\n",
      "name = 박길동\n",
      "position = intern\n",
      "nationality = Korea\n",
      "----------------------\n",
      "name = 박길동\n",
      "position = ROK\n",
      "nationality = intern\n",
      "----------------------\n"
     ]
    }
   ],
   "source": [
    "def print_personnel(name, position = 'staff', nationality = 'Korea'):\n",
    "    print('name = {}' .format(name))\n",
    "    print('position = {}' .format(position))\n",
    "    print('nationality = {}' .format(nationality))\n",
    "    print('----------------------')\n",
    "    \n",
    "print_personnel('박길동')\n",
    "print_personnel(nationality = 'ROK', name = '박길동')\n",
    "print_personnel(position = 'intern', name = '박길동')\n",
    "#print_personnel(position = 'intern', '박길동') #위치매핑이 키워드매핑보다 선행되어야 함\n",
    "print_personnel('박길동', 'ROK', 'intern')"
   ]
  },
  {
   "cell_type": "code",
   "execution_count": 37,
   "metadata": {},
   "outputs": [
    {
     "name": "stdout",
     "output_type": "stream",
     "text": [
      "[2, 4]\n",
      "[-12, 2, 48, 20]\n"
     ]
    }
   ],
   "source": [
    "def select_even(*arg): #인자 개수가 가변적일때(튜플형식) 매개변수 앞 *     \n",
    "    result = []\n",
    "    for num in arg:\n",
    "        if num % 2 == 1:\n",
    "            continue\n",
    "        else:\n",
    "            result.append(num)\n",
    "    return result\n",
    "\n",
    "print(select_even(1,2,3,4))\n",
    "print(select_even(-12, 2, 81, 99, 48, 20))\n",
    "#print(select_even([1,2,3,4,5])) #list형식 불가능"
   ]
  },
  {
   "cell_type": "code",
   "execution_count": 2,
   "metadata": {},
   "outputs": [
    {
     "name": "stdout",
     "output_type": "stream",
     "text": [
      "None\n"
     ]
    }
   ],
   "source": [
    "#함수 리턴값\n",
    "def turnNone(value):\n",
    "    x = value\n",
    "\n",
    "print(turnNone(10))"
   ]
  },
  {
   "cell_type": "code",
   "execution_count": 3,
   "metadata": {},
   "outputs": [
    {
     "name": "stdout",
     "output_type": "stream",
     "text": [
      "10\n"
     ]
    }
   ],
   "source": [
    "def turnNone(value):\n",
    "    x = value\n",
    "    return x\n",
    "\n",
    "print(turnNone(10))"
   ]
  },
  {
   "cell_type": "code",
   "execution_count": 5,
   "metadata": {},
   "outputs": [
    {
     "name": "stdout",
     "output_type": "stream",
     "text": [
      "{10, 11, 12}\n"
     ]
    }
   ],
   "source": [
    "def turnSet(value):\n",
    "    x = {value, value+1, value+2} #집합 반환\n",
    "    return x\n",
    "\n",
    "print(turnSet(10))"
   ]
  },
  {
   "cell_type": "code",
   "execution_count": 7,
   "metadata": {},
   "outputs": [
    {
     "name": "stdout",
     "output_type": "stream",
     "text": [
      "(10, 11, 12)\n"
     ]
    }
   ],
   "source": [
    "def turnTuple(value): \n",
    "    x = value, value+1, value+2 #튜플 반환 #() 추가해도 튜플\n",
    "    return x\n",
    "\n",
    "print(turnTuple(10))"
   ]
  },
  {
   "cell_type": "code",
   "execution_count": 13,
   "metadata": {},
   "outputs": [
    {
     "name": "stdout",
     "output_type": "stream",
     "text": [
      "Help on function print_odd in module __main__:\n",
      "\n",
      "print_odd(start, end)\n",
      "    주어진 범위에서 홀수를 리스트로 만들어주는 함수입니다.\n",
      "    start : 시작값을 지정합니다.\n",
      "    end : 끝값을 지정합니다.\n",
      "\n",
      "--------------------------------------------------\n",
      "Help on function print_odd in module __main__:\n",
      "\n",
      "print_odd(start, end)\n",
      "    이건 연습\n",
      "\n",
      "--------------------------------------------------\n",
      "[3, 5, 7, 9, 11, 13, 15, 17, 19]\n"
     ]
    }
   ],
   "source": [
    "def print_odd(start, end):\n",
    "    \n",
    "    '''\n",
    "    주어진 범위에서 홀수를 리스트로 만들어주는 함수입니다.\n",
    "    start : 시작값을 지정합니다.\n",
    "    end : 끝값을 지정합니다.\n",
    "    '''\n",
    "    \n",
    "    result = []\n",
    "    for num in range(start, end+1):\n",
    "        if num % 2 == 0:\n",
    "            continue\n",
    "        result.append(num)\n",
    "    return result\n",
    "\n",
    "help(print_odd) #함수 정보 확인\n",
    "print('-' * 50)\n",
    "\n",
    "print_odd.__doc__ = '''이건 연습''' #함수 정보 수정\n",
    "help(print_odd)\n",
    "\n",
    "print('-' * 50)\n",
    "print(print_odd(3,19))"
   ]
  }
 ],
 "metadata": {
  "kernelspec": {
   "display_name": "pydata",
   "language": "python",
   "name": "pydata"
  },
  "language_info": {
   "codemirror_mode": {
    "name": "ipython",
    "version": 3
   },
   "file_extension": ".py",
   "mimetype": "text/x-python",
   "name": "python",
   "nbconvert_exporter": "python",
   "pygments_lexer": "ipython3",
   "version": "3.7.10"
  }
 },
 "nbformat": 4,
 "nbformat_minor": 4
}
