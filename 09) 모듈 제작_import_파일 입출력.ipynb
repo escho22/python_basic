{
 "cells": [
  {
   "cell_type": "code",
   "execution_count": 3,
   "metadata": {},
   "outputs": [
    {
     "name": "stdout",
     "output_type": "stream",
     "text": [
      "Overwriting myMath.py\n"
     ]
    }
   ],
   "source": [
    "%%writefile myMath.py\n",
    "\n",
    "'''\n",
    "모듈을 작성합니다.\n",
    "pi 변수와 두개의 함수가 있습니다.\n",
    "'''\n",
    "\n",
    "pi = 3.14\n",
    "\n",
    "def oneSumN(end): #함수 : 클래스와 상관없이 사용되는 #자바는 메소드만 단독 사용 불가능\n",
    "    sum = 0\n",
    "    for i in range(end):\n",
    "        sum += i + 1\n",
    "    return sum\n",
    "\n",
    "def oneMultN(end):\n",
    "    total = 1\n",
    "    for i in range(end):\n",
    "        total *= i + 1\n",
    "    return total"
   ]
  },
  {
   "cell_type": "code",
   "execution_count": 8,
   "metadata": {},
   "outputs": [
    {
     "name": "stdout",
     "output_type": "stream",
     "text": [
      "\n",
      "모듈을 작성합니다.\n",
      "pi 변수와 두개의 함수가 있습니다.\n",
      "\n",
      "합 55\n",
      "곱 6\n"
     ]
    }
   ],
   "source": [
    "import myMath\n",
    "\n",
    "print(myMath.__doc__)\n",
    "print('합', myMath.oneSumN(10))\n",
    "print('곱', myMath.oneMultN(3))"
   ]
  },
  {
   "cell_type": "code",
   "execution_count": 9,
   "metadata": {},
   "outputs": [
    {
     "data": {
      "text/plain": [
       "3.141592653589793"
      ]
     },
     "execution_count": 9,
     "metadata": {},
     "output_type": "execute_result"
    }
   ],
   "source": [
    "import math #내장 모듈\n",
    "\n",
    "math.pi"
   ]
  },
  {
   "cell_type": "code",
   "execution_count": 21,
   "metadata": {},
   "outputs": [
    {
     "name": "stdout",
     "output_type": "stream",
     "text": [
      "Overwriting first.py\n"
     ]
    }
   ],
   "source": [
    "%%writefile first.py\n",
    "\n",
    "'''\n",
    "직접 작성된 모듈입니다.\n",
    "내부에는 변수와 함수가 하나씩 있습니다.\n",
    "'''\n",
    "\n",
    "print(__name__)\n",
    "\n",
    "first_value = 100\n",
    "\n",
    "def first_func(x, y):\n",
    "    return x + y\n",
    "\n",
    "if __name__ == '__main__': #직접 실행 시\n",
    "    print()\n",
    "    print(__doc__)\n",
    "    print(first_value)\n",
    "    print(first_func(10, 5))"
   ]
  },
  {
   "cell_type": "code",
   "execution_count": 23,
   "metadata": {},
   "outputs": [
    {
     "name": "stdout",
     "output_type": "stream",
     "text": [
      "__main__\n",
      "\n",
      "\n",
      "직접 작성된 모듈입니다.\n",
      "내부에는 변수와 함수가 하나씩 있습니다.\n",
      "\n",
      "100\n",
      "15\n",
      "----------------------------------------\n",
      "first\n"
     ]
    }
   ],
   "source": [
    "%run first.py #직접 실행"
   ]
  },
  {
   "cell_type": "code",
   "execution_count": 25,
   "metadata": {},
   "outputs": [
    {
     "name": "stdout",
     "output_type": "stream",
     "text": [
      "100\n",
      "30\n",
      "\n",
      "직접 작성된 모듈입니다.\n",
      "내부에는 변수와 함수가 하나씩 있습니다.\n",
      "\n"
     ]
    }
   ],
   "source": [
    "import first #import 실행되면 __name__에 모듈이름이 출력됨\n",
    "\n",
    "print(first.first_value)\n",
    "print(first.first_func(10, 20))\n",
    "print(__doc__)"
   ]
  },
  {
   "cell_type": "code",
   "execution_count": 27,
   "metadata": {},
   "outputs": [
    {
     "data": {
      "text/plain": [
       "55"
      ]
     },
     "execution_count": 27,
     "metadata": {},
     "output_type": "execute_result"
    }
   ],
   "source": [
    "import myMath as my\n",
    "\n",
    "my.pi\n",
    "my.oneSumN(10)"
   ]
  },
  {
   "cell_type": "code",
   "execution_count": 30,
   "metadata": {},
   "outputs": [
    {
     "name": "stdout",
     "output_type": "stream",
     "text": [
      "3.14\n",
      "120\n",
      "15\n"
     ]
    }
   ],
   "source": [
    "from myMath import pi, oneMultN\n",
    "\n",
    "print(pi)\n",
    "print(oneMultN(5))\n",
    "#print(oneSumN(5))\n",
    "print(myMath.oneSumN(5))"
   ]
  },
  {
   "cell_type": "code",
   "execution_count": 31,
   "metadata": {},
   "outputs": [
    {
     "name": "stdout",
     "output_type": "stream",
     "text": [
      "3.14\n"
     ]
    }
   ],
   "source": [
    "from math import *\n",
    "from myMath import *\n",
    "\n",
    "print(pi) #같은 객체가 있다면 후자쪽 객체를 호출"
   ]
  },
  {
   "cell_type": "code",
   "execution_count": 33,
   "metadata": {},
   "outputs": [
    {
     "data": {
      "text/plain": [
       "['False',\n",
       " 'None',\n",
       " 'True',\n",
       " 'and',\n",
       " 'as',\n",
       " 'assert',\n",
       " 'async',\n",
       " 'await',\n",
       " 'break',\n",
       " 'class',\n",
       " 'continue',\n",
       " 'def',\n",
       " 'del',\n",
       " 'elif',\n",
       " 'else',\n",
       " 'except',\n",
       " 'finally']"
      ]
     },
     "execution_count": 33,
     "metadata": {},
     "output_type": "execute_result"
    }
   ],
   "source": [
    "import keyword\n",
    "len(keyword.kwlist)\n",
    "keyword.kwlist[:17] #0번째부터 16번째까지 키워드 확인"
   ]
  },
  {
   "cell_type": "code",
   "execution_count": 34,
   "metadata": {},
   "outputs": [
    {
     "name": "stdout",
     "output_type": "stream",
     "text": [
      "9 15 15 23 44 15 "
     ]
    }
   ],
   "source": [
    "import random\n",
    "\n",
    "for i in range(6):\n",
    "    number = random.randint(1, 45) # 1 ~ 44\n",
    "    print(number, end = ' ')"
   ]
  },
  {
   "cell_type": "code",
   "execution_count": 37,
   "metadata": {},
   "outputs": [
    {
     "name": "stdout",
     "output_type": "stream",
     "text": [
      "['A', '2', '3', '4', '5', '6', '7', '8', '9', '10', 'J', 'Q', 'K']\n",
      "['3', '10', 'K', '7', '2', '5', 'A', 'Q', '8', 'J', '9', '4', '6']\n",
      "A\n"
     ]
    }
   ],
   "source": [
    "card = ['A', '2', '3', '4', '5', '6', '7', '8', '9', '10', 'J', 'Q', 'K']\n",
    "print(card)\n",
    "\n",
    "random.shuffle(card)\n",
    "print(card)\n",
    "\n",
    "print(random.choice(card))"
   ]
  },
  {
   "cell_type": "code",
   "execution_count": null,
   "metadata": {},
   "outputs": [],
   "source": []
  },
  {
   "cell_type": "code",
   "execution_count": 1,
   "metadata": {},
   "outputs": [],
   "source": [
    "#write\n",
    "f = open('c:/CES/python/pywork/myfile.txt', 'w')\n",
    "\n",
    "f.write('파일을 열었습니다. 데이터가 저장됩니다.')\n",
    "f.close()"
   ]
  },
  {
   "cell_type": "code",
   "execution_count": 7,
   "metadata": {},
   "outputs": [
    {
     "name": "stdout",
     "output_type": "stream",
     "text": [
      "\n",
      "라인1\n",
      "라인2\n",
      "라인3\n",
      "\n",
      "['첫번째\\n', '두번째\\n', '세번째\\n']\n"
     ]
    }
   ],
   "source": [
    "#writelines\n",
    "#파일에 문자열, list 데이터를 저장\n",
    "#한 파일에 여러 라인을 가져올 수 있음\n",
    "s1 = '''\n",
    "라인1\n",
    "라인2\n",
    "라인3\n",
    "'''\n",
    "print(s1)\n",
    "\n",
    "s2 = ['첫번째\\n', '두번째\\n', '세번째\\n']\n",
    "print(s2)\n",
    "\n",
    "f = open('./files/data.txt', 'x', encoding='utf-8') #../ 현재경로를 나가서\n",
    "f.writelines(s1)\n",
    "f.writelines(s2)\n",
    "f.close()"
   ]
  },
  {
   "cell_type": "code",
   "execution_count": 11,
   "metadata": {},
   "outputs": [],
   "source": [
    "#write\n",
    "f = open('./files/myfile.txt', 'w', encoding='utf-8')\n",
    "\n",
    "poem = '''자세히 보아야 예쁘다.\n",
    "오래 보아야 사랑스럽다.\n",
    "너도 그렇다.\n",
    "\n",
    "-풀꽃:나태주-\n",
    "'''\n",
    "\n",
    "f.write(poem)\n",
    "f.close()"
   ]
  },
  {
   "cell_type": "code",
   "execution_count": 27,
   "metadata": {},
   "outputs": [
    {
     "name": "stdout",
     "output_type": "stream",
     "text": [
      "자세히 보아야 예쁘다.\n",
      "\n",
      "오래 보아야 사랑스럽다.\n",
      "\n",
      "너도 그렇다.\n",
      "\n",
      "\n",
      "\n",
      "-풀꽃:나태주-\n",
      "\n"
     ]
    }
   ],
   "source": [
    "#readline()\n",
    "f = open('./files/myfile.txt', 'r', encoding='utf-8')\n",
    "\n",
    "while True: #무한반복 => break 필요\n",
    "    sentence = f.readline() #한줄씩\n",
    "    if not sentence:\n",
    "        break\n",
    "    print(sentence)\n",
    "f.close()"
   ]
  },
  {
   "cell_type": "code",
   "execution_count": 28,
   "metadata": {},
   "outputs": [
    {
     "name": "stdout",
     "output_type": "stream",
     "text": [
      "print(all) : \n",
      "\n",
      " ['자세히 보아야 예쁘다.\\n', '오래 보아야 사랑스럽다.\\n', '너도 그렇다.\\n', '\\n', '-풀꽃:나태주-\\n']\n",
      "\n",
      "for print() : \n",
      "\n",
      "자세히 보아야 예쁘다.\n",
      "\n",
      "오래 보아야 사랑스럽다.\n",
      "\n",
      "너도 그렇다.\n",
      "\n",
      "\n",
      "\n",
      "-풀꽃:나태주-\n",
      "\n"
     ]
    }
   ],
   "source": [
    "#readlines\n",
    "f = open('./files/myfile.txt', 'r', encoding='utf-8')\n",
    "all = f.readlines()\n",
    "f.close()\n",
    "\n",
    "print('print(all) : \\n\\n',all)\n",
    "\n",
    "print('\\nfor print() : \\n')\n",
    "for sentence in all:\n",
    "    print(sentence)"
   ]
  },
  {
   "cell_type": "code",
   "execution_count": 12,
   "metadata": {},
   "outputs": [
    {
     "name": "stdout",
     "output_type": "stream",
     "text": [
      "자세히 보아야 예쁘다.\n",
      "오래 보아야 사랑스럽다.\n",
      "너도 그렇다.\n",
      "\n",
      "-풀꽃:나태주-\n",
      "\n"
     ]
    }
   ],
   "source": [
    "#read\n",
    "#파일 내용 전체를 문자열로 반환\n",
    "f = open('./files/myfile.txt', 'r', encoding='utf-8')\n",
    "string = f.read()\n",
    "print(string)\n",
    "f.close()"
   ]
  },
  {
   "cell_type": "code",
   "execution_count": 32,
   "metadata": {},
   "outputs": [
    {
     "name": "stdout",
     "output_type": "stream",
     "text": [
      "자세히 보아야 예쁘다.\n",
      "오래 보아야 사랑스럽다.\n",
      "너도 그렇다.\n",
      "\n",
      "-풀꽃:나태주-\n"
     ]
    }
   ],
   "source": [
    "#파일객체로 read\n",
    "f = open('./files/myfile.txt', 'r', encoding='utf-8')\n",
    "for line in f:\n",
    "    print(line, end='')\n",
    "f.close()"
   ]
  },
  {
   "cell_type": "code",
   "execution_count": 1,
   "metadata": {},
   "outputs": [
    {
     "name": "stdout",
     "output_type": "stream",
     "text": [
      "['첫번째\\n', '두번째\\n', '세번째\\n']\n",
      "첫번째\n",
      "두번째\n",
      "세번째\n"
     ]
    }
   ],
   "source": [
    "s2 = ['첫번째\\n', '두번째\\n', '세번째\\n']\n",
    "print(s2)\n",
    "\n",
    "fr = open('c:/CES/python/pywork/myfile_2.txt', 'x', encoding='utf-8')\n",
    "fr.writelines(s2) #list => writelines\n",
    "\n",
    "fr = open('c:/CES/python/pywork/myfile_2.txt', 'r', encoding='utf-8')\n",
    "for i in fr:\n",
    "    print(i, end='')\n",
    "fr.close()"
   ]
  },
  {
   "cell_type": "code",
   "execution_count": 3,
   "metadata": {},
   "outputs": [
    {
     "name": "stdout",
     "output_type": "stream",
     "text": [
      "\n",
      "자세히 보아야 예쁘다.\n",
      "오래 보아야 사랑스럽다.\n",
      "너도 그렇다\n",
      "\n",
      "-풀꽃:나태주-\n"
     ]
    }
   ],
   "source": [
    "#with\n",
    "with open('./files/myfile.txt', 'r', encoding='utf-8') as f:\n",
    "    for line in f:\n",
    "        print(line, end='')\n",
    "#f.close() 하지 않아도 닫힘"
   ]
  },
  {
   "cell_type": "code",
   "execution_count": 13,
   "metadata": {},
   "outputs": [
    {
     "name": "stdout",
     "output_type": "stream",
     "text": [
      "----- 원본 파일 -----\n",
      "자세히 보아야 예쁘다.\n",
      "오래 보아야 사랑스럽다.\n",
      "너도 그렇다.\n",
      "\n",
      "-풀꽃:나태주-\n",
      "\n",
      "----- 데이터 appending 후 -----\n",
      "자세히 보아야 예쁘다.\n",
      "오래 보아야 사랑스럽다.\n",
      "너도 그렇다.\n",
      "\n",
      "-풀꽃:나태주-\n",
      "\n",
      "하늘 아래 내가 받은 \n",
      "가장 커다란 선물은 \n",
      "오늘입니다.\n",
      "\n",
      "오늘 받은 선물 가운데서도 \n",
      "가장 아름다운 선물은 \n",
      "당신입니다.\n",
      "\n",
      "-선물:나태주-\n",
      "\n"
     ]
    }
   ],
   "source": [
    "with open('./files/myfile.txt', 'r', encoding='utf-8') as f:\n",
    "    print('----- 원본 파일 -----')\n",
    "    print(f.read())\n",
    "\n",
    "poem2 = '''\n",
    "하늘 아래 내가 받은 \n",
    "가장 커다란 선물은 \n",
    "오늘입니다.\n",
    "\n",
    "오늘 받은 선물 가운데서도 \n",
    "가장 아름다운 선물은 \n",
    "당신입니다.\n",
    "\n",
    "-선물:나태주-\n",
    "'''\n",
    "\n",
    "with open('./files/myfile.txt', 'a', encoding='utf-8') as f:\n",
    "    f.write(poem2)\n",
    "    \n",
    "with open('./files/myfile.txt', 'r', encoding='utf-8') as f:\n",
    "    print('----- 데이터 appending 후 -----')\n",
    "    print(f.read())"
   ]
  },
  {
   "cell_type": "code",
   "execution_count": 14,
   "metadata": {},
   "outputs": [
    {
     "name": "stdout",
     "output_type": "stream",
     "text": [
      "자세히 보아야 예쁘다.\n",
      "오래 보아야 사랑스럽다.\n",
      "너도 그렇다.\n",
      "\n",
      "-풀꽃:나태주-\n",
      "\n",
      "하늘 아래 내가 받은 \n",
      "가장 커다란 선물은 \n",
      "오늘입니다.\n",
      "\n",
      "오늘 받은 선물 가운데서도 \n",
      "가장 아름다운 선물은 \n",
      "당신입니다.\n",
      "\n",
      "-선물:나태주-\n"
     ]
    }
   ],
   "source": [
    "with open('./files/myfile.txt', 'r', encoding='utf-8') as fr:\n",
    "    with open('./files/myfile_copy.txt', 'w', encoding='utf-8') as fw:\n",
    "        fw.write(fr.read())\n",
    "\n",
    "with open('./files/myfile_copy.txt', 'r', encoding='utf-8') as fr:\n",
    "    for i in fr:\n",
    "        print(i, end='')"
   ]
  },
  {
   "cell_type": "code",
   "execution_count": 23,
   "metadata": {},
   "outputs": [],
   "source": [
    "#???????\n",
    "#바이너리 파일 복사\n",
    "bufsize = 1024\n",
    "\n",
    "with open('./files/sample.jpg', 'rb') as frb:\n",
    "    with open('./files/sample_copy.jpg', 'wb') as fwb:\n",
    "        data = frb.read(bufsize)\n",
    "        while data:\n",
    "            fwb.write(data)\n",
    "            data = frb.read(bufsize)"
   ]
  },
  {
   "cell_type": "code",
   "execution_count": 26,
   "metadata": {},
   "outputs": [
    {
     "name": "stdout",
     "output_type": "stream",
     "text": [
      "[./files/sample_copy.jpg] 파일을 삭제하겠습니까? (Y/N) =>d\n",
      "[./files/sample_copy.jpg] 파일을 정상적으로 삭제하지 못했습니다.\n"
     ]
    }
   ],
   "source": [
    "#파일 삭제\n",
    "from os import remove\n",
    "\n",
    "target_file = './files/sample_copy.jpg'\n",
    "k = input('[{}] 파일을 삭제하겠습니까? (Y/N) =>' .format(target_file))\n",
    "\n",
    "if k == 'Y':\n",
    "    remove(target_file)\n",
    "    print('[{}] 파일을 정상적으로 삭제했습니다.' .format(target_file))\n",
    "else:\n",
    "    print('[{}] 파일을 정상적으로 삭제하지 못했습니다.' .format(target_file))"
   ]
  },
  {
   "cell_type": "code",
   "execution_count": 31,
   "metadata": {},
   "outputs": [
    {
     "name": "stdout",
     "output_type": "stream",
     "text": [
      "생성할 디렉토리 이름을 입력하세요. : ../newdir\n",
      "[../newdir] 디렉토리를 생성했습니다.\n"
     ]
    }
   ],
   "source": [
    "#디렉토리 생성\n",
    "import os\n",
    "\n",
    "newfolder = input('생성할 디렉토리 이름을 입력하세요. : ')\n",
    "\n",
    "try:\n",
    "    os.mkdir(newfolder)\n",
    "    print('[{}] 디렉토리를 생성했습니다.' .format(newfolder))\n",
    "    \n",
    "except Exception as e:\n",
    "    print(e)"
   ]
  },
  {
   "cell_type": "code",
   "execution_count": 33,
   "metadata": {},
   "outputs": [
    {
     "name": "stdout",
     "output_type": "stream",
     "text": [
      "[../newdir] 디렉토리를 삭제하겠습니까? (Y/N) => Y\n",
      "[../newdir] 디렉토리를 정상적으로 삭제했습니다.\n"
     ]
    }
   ],
   "source": [
    "#디렉토리 삭제\n",
    "import os\n",
    "\n",
    "target_folder = '../newdir'\n",
    "k = input('[{}] 디렉토리를 삭제하겠습니까? (Y/N) => ' .format(target_folder))\n",
    "\n",
    "if k == 'Y':\n",
    "    try:\n",
    "        os.rmdir(target_folder)\n",
    "        print('[{}] 디렉토리를 정상적으로 삭제했습니다.' .format(target_folder))\n",
    "        \n",
    "    except Exception as e:\n",
    "        print(e)"
   ]
  }
 ],
 "metadata": {
  "kernelspec": {
   "display_name": "pydata",
   "language": "python",
   "name": "pydata"
  },
  "language_info": {
   "codemirror_mode": {
    "name": "ipython",
    "version": 3
   },
   "file_extension": ".py",
   "mimetype": "text/x-python",
   "name": "python",
   "nbconvert_exporter": "python",
   "pygments_lexer": "ipython3",
   "version": "3.7.10"
  }
 },
 "nbformat": 4,
 "nbformat_minor": 4
}
