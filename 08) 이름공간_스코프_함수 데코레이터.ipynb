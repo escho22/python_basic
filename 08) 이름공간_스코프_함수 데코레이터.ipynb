{
 "cells": [
  {
   "cell_type": "code",
   "execution_count": 5,
   "metadata": {},
   "outputs": [
    {
     "name": "stdout",
     "output_type": "stream",
     "text": [
      "1\n"
     ]
    }
   ],
   "source": [
    "#local scope : 해당 함수안에서만 존재\n",
    "def func():\n",
    "    a = 1\n",
    "    print(a)\n",
    "\n",
    "func()\n",
    "#print(a) #지역변수 => 선언된 변수 x"
   ]
  },
  {
   "cell_type": "code",
   "execution_count": 15,
   "metadata": {},
   "outputs": [
    {
     "name": "stdout",
     "output_type": "stream",
     "text": [
      "1\n",
      "8\n",
      "1\n"
     ]
    }
   ],
   "source": [
    "#enclosed scope : 중첩함수안까지 존재\n",
    "def outer():\n",
    "    a = 1\n",
    "    print(a)\n",
    "    \n",
    "    def inner():\n",
    "        b = 7\n",
    "        print(a+b)\n",
    "    \n",
    "    inner()\n",
    "    print(a)\n",
    "    #print(b) #inner()을 나와서 사라짐 \n",
    "\n",
    "outer()\n",
    "#print(a)\n"
   ]
  },
  {
   "cell_type": "code",
   "execution_count": 18,
   "metadata": {},
   "outputs": [
    {
     "name": "stdout",
     "output_type": "stream",
     "text": [
      "2\n",
      "9\n"
     ]
    }
   ],
   "source": [
    "#global scope : 함수밖에서 선언된 변수, 선언된 지역 ~ 안쪽까지 존재\n",
    "k = 1\n",
    "def outer():\n",
    "    a = 1\n",
    "    print(a+k)\n",
    "    \n",
    "    def inner():\n",
    "        b = 7\n",
    "        print(a+b+k)\n",
    "        \n",
    "    inner()\n",
    "    \n",
    "outer()"
   ]
  },
  {
   "cell_type": "code",
   "execution_count": 23,
   "metadata": {},
   "outputs": [
    {
     "name": "stdout",
     "output_type": "stream",
     "text": [
      "전역변수\n",
      "지역변수\n",
      "전역변수\n"
     ]
    }
   ],
   "source": [
    "global_var = '전역변수'\n",
    "\n",
    "def scope():\n",
    "    local_var = '지역변수'\n",
    "    print(global_var)\n",
    "    print(local_var)\n",
    "    \n",
    "scope()\n",
    "print(global_var)\n",
    "#print(local_var)"
   ]
  },
  {
   "cell_type": "code",
   "execution_count": 24,
   "metadata": {},
   "outputs": [
    {
     "name": "stdout",
     "output_type": "stream",
     "text": [
      "지역변수\n",
      "전역변수\n"
     ]
    }
   ],
   "source": [
    "var = '전역변수'\n",
    " \n",
    "def scope():\n",
    "    var = '지역변수'\n",
    "    print(var)\n",
    "     \n",
    "scope()\n",
    "print(var)"
   ]
  },
  {
   "cell_type": "code",
   "execution_count": 26,
   "metadata": {},
   "outputs": [
    {
     "name": "stdout",
     "output_type": "stream",
     "text": [
      "함수 내 var 호출 :  지역변수의 전역화\n",
      "함수 밖 var 호출 :  지역변수의 전역화\n"
     ]
    }
   ],
   "source": [
    "var = '전역변수'\n",
    "\n",
    "def scope():\n",
    "    global var\n",
    "    var = '지역변수의 전역화'\n",
    "    print('함수 내 var 호출 : ', var)\n",
    "    \n",
    "scope()\n",
    "print('함수 밖 var 호출 : ', var)"
   ]
  },
  {
   "cell_type": "code",
   "execution_count": 27,
   "metadata": {},
   "outputs": [
    {
     "data": {
      "text/plain": [
       "15"
      ]
     },
     "execution_count": 27,
     "metadata": {},
     "output_type": "execute_result"
    }
   ],
   "source": [
    "def outer(x): #x=10\n",
    "    def inner(y): #내부함수 선언\n",
    "        return x + y\n",
    "    return inner(5) #내부함수 실행\n",
    "\n",
    "outer(10)"
   ]
  },
  {
   "cell_type": "code",
   "execution_count": 28,
   "metadata": {},
   "outputs": [
    {
     "ename": "UnboundLocalError",
     "evalue": "local variable 'x' referenced before assignment",
     "output_type": "error",
     "traceback": [
      "\u001b[1;31m---------------------------------------------------------------------------\u001b[0m",
      "\u001b[1;31mUnboundLocalError\u001b[0m                         Traceback (most recent call last)",
      "\u001b[1;32m<ipython-input-28-12c390b709a9>\u001b[0m in \u001b[0;36m<module>\u001b[1;34m\u001b[0m\n\u001b[0;32m      5\u001b[0m     \u001b[1;32mreturn\u001b[0m \u001b[0minner\u001b[0m\u001b[1;33m(\u001b[0m\u001b[1;36m5\u001b[0m\u001b[1;33m)\u001b[0m\u001b[1;33m\u001b[0m\u001b[1;33m\u001b[0m\u001b[0m\n\u001b[0;32m      6\u001b[0m \u001b[1;33m\u001b[0m\u001b[0m\n\u001b[1;32m----> 7\u001b[1;33m \u001b[0mouter\u001b[0m\u001b[1;33m(\u001b[0m\u001b[1;36m10\u001b[0m\u001b[1;33m)\u001b[0m\u001b[1;33m\u001b[0m\u001b[1;33m\u001b[0m\u001b[0m\n\u001b[0m",
      "\u001b[1;32m<ipython-input-28-12c390b709a9>\u001b[0m in \u001b[0;36mouter\u001b[1;34m(x)\u001b[0m\n\u001b[0;32m      3\u001b[0m         \u001b[0mx\u001b[0m \u001b[1;33m+=\u001b[0m \u001b[1;36m1\u001b[0m\u001b[1;33m\u001b[0m\u001b[1;33m\u001b[0m\u001b[0m\n\u001b[0;32m      4\u001b[0m         \u001b[1;32mreturn\u001b[0m \u001b[0mx\u001b[0m \u001b[1;33m+\u001b[0m \u001b[0my\u001b[0m\u001b[1;33m\u001b[0m\u001b[1;33m\u001b[0m\u001b[0m\n\u001b[1;32m----> 5\u001b[1;33m     \u001b[1;32mreturn\u001b[0m \u001b[0minner\u001b[0m\u001b[1;33m(\u001b[0m\u001b[1;36m5\u001b[0m\u001b[1;33m)\u001b[0m\u001b[1;33m\u001b[0m\u001b[1;33m\u001b[0m\u001b[0m\n\u001b[0m\u001b[0;32m      6\u001b[0m \u001b[1;33m\u001b[0m\u001b[0m\n\u001b[0;32m      7\u001b[0m \u001b[0mouter\u001b[0m\u001b[1;33m(\u001b[0m\u001b[1;36m10\u001b[0m\u001b[1;33m)\u001b[0m\u001b[1;33m\u001b[0m\u001b[1;33m\u001b[0m\u001b[0m\n",
      "\u001b[1;32m<ipython-input-28-12c390b709a9>\u001b[0m in \u001b[0;36minner\u001b[1;34m(y)\u001b[0m\n\u001b[0;32m      1\u001b[0m \u001b[1;32mdef\u001b[0m \u001b[0mouter\u001b[0m\u001b[1;33m(\u001b[0m\u001b[0mx\u001b[0m\u001b[1;33m)\u001b[0m\u001b[1;33m:\u001b[0m\u001b[1;33m\u001b[0m\u001b[1;33m\u001b[0m\u001b[0m\n\u001b[0;32m      2\u001b[0m     \u001b[1;32mdef\u001b[0m \u001b[0minner\u001b[0m\u001b[1;33m(\u001b[0m\u001b[0my\u001b[0m\u001b[1;33m)\u001b[0m\u001b[1;33m:\u001b[0m\u001b[1;33m\u001b[0m\u001b[1;33m\u001b[0m\u001b[0m\n\u001b[1;32m----> 3\u001b[1;33m         \u001b[0mx\u001b[0m \u001b[1;33m+=\u001b[0m \u001b[1;36m1\u001b[0m\u001b[1;33m\u001b[0m\u001b[1;33m\u001b[0m\u001b[0m\n\u001b[0m\u001b[0;32m      4\u001b[0m         \u001b[1;32mreturn\u001b[0m \u001b[0mx\u001b[0m \u001b[1;33m+\u001b[0m \u001b[0my\u001b[0m\u001b[1;33m\u001b[0m\u001b[1;33m\u001b[0m\u001b[0m\n\u001b[0;32m      5\u001b[0m     \u001b[1;32mreturn\u001b[0m \u001b[0minner\u001b[0m\u001b[1;33m(\u001b[0m\u001b[1;36m5\u001b[0m\u001b[1;33m)\u001b[0m\u001b[1;33m\u001b[0m\u001b[1;33m\u001b[0m\u001b[0m\n",
      "\u001b[1;31mUnboundLocalError\u001b[0m: local variable 'x' referenced before assignment"
     ]
    }
   ],
   "source": [
    "def outer(x):\n",
    "    def inner(y):\n",
    "        x += 1 #x = x +1 #지역변수 x 생성 = x 검색 + 1 #검색할 수 없음 => 할당 선행되어야 함\n",
    "        return x + y\n",
    "    return inner(5)\n",
    "\n",
    "outer(10)"
   ]
  },
  {
   "cell_type": "code",
   "execution_count": 29,
   "metadata": {},
   "outputs": [
    {
     "data": {
      "text/plain": [
       "16"
      ]
     },
     "execution_count": 29,
     "metadata": {},
     "output_type": "execute_result"
    }
   ],
   "source": [
    "def outer(x):\n",
    "    def inner(y):\n",
    "        nonlocal x #외부함수 x\n",
    "        x += 1\n",
    "        return x + y\n",
    "    return inner(5)\n",
    "\n",
    "outer(10)"
   ]
  },
  {
   "cell_type": "code",
   "execution_count": 30,
   "metadata": {},
   "outputs": [
    {
     "data": {
      "text/plain": [
       "(1598447862696, 1598447862696)"
      ]
     },
     "execution_count": 30,
     "metadata": {},
     "output_type": "execute_result"
    }
   ],
   "source": [
    "def sum_two(a,b):\n",
    "    return a+b\n",
    "\n",
    "sum_two(1,3)\n",
    "\n",
    "var = sum_two\n",
    "\n",
    "var(1,4)\n",
    "\n",
    "var is sum_two\n",
    "\n",
    "id(var), id(sum_two) #같은 id를 가지고 잇음 #call by reference"
   ]
  },
  {
   "cell_type": "code",
   "execution_count": 32,
   "metadata": {},
   "outputs": [
    {
     "data": {
      "text/plain": [
       "10"
      ]
     },
     "execution_count": 32,
     "metadata": {},
     "output_type": "execute_result"
    }
   ],
   "source": [
    "def add_to_3(func, num):\n",
    "    return func(3,  num)\n",
    "\n",
    "add_to_3(sum_two, 7)"
   ]
  },
  {
   "cell_type": "code",
   "execution_count": 43,
   "metadata": {},
   "outputs": [
    {
     "name": "stdout",
     "output_type": "stream",
     "text": [
      "함수가 시작됩니다.\n",
      "파이썬\n"
     ]
    }
   ],
   "source": [
    "def alert_start(func):\n",
    "    def new_func(*args, **kargs):\n",
    "        print('함수가 시작됩니다.')\n",
    "        return func(*args, **kargs)\n",
    "    return new_func\n",
    "\n",
    "alert_start(print)('파이썬')"
   ]
  },
  {
   "cell_type": "code",
   "execution_count": 58,
   "metadata": {},
   "outputs": [
    {
     "name": "stdout",
     "output_type": "stream",
     "text": [
      "함수가 시작됩니다.\n",
      "파이썬\n"
     ]
    }
   ],
   "source": [
    "def alert_end(func):\n",
    "    def new_func(*args, **kargs):\n",
    "        result =  func(*args, **kargs) #*args : 튜플, **kargs : 사전\n",
    "#         print(result)\n",
    "        print('함수가 끝났습니다.')\n",
    "        return result\n",
    "    return new_func\n",
    "\n",
    "alert_start(print)('파이썬')"
   ]
  },
  {
   "cell_type": "code",
   "execution_count": 59,
   "metadata": {},
   "outputs": [
    {
     "name": "stdout",
     "output_type": "stream",
     "text": [
      "함수가 시작됩니다.\n",
      "안녕하세요\n",
      "함수가 끝났습니다.\n"
     ]
    }
   ],
   "source": [
    "alert_start(alert_end(print))('안녕하세요') #alert_star의 func => alert_end "
   ]
  },
  {
   "cell_type": "code",
   "execution_count": 72,
   "metadata": {},
   "outputs": [
    {
     "name": "stdout",
     "output_type": "stream",
     "text": [
      "함수가 시작됩니다.\n",
      "15\n"
     ]
    }
   ],
   "source": [
    "def sum_all(*args):\n",
    "    print(sum(args))\n",
    "#     return sum(args)\n",
    "\n",
    "sum_func = alert_start(sum_all)\n",
    "\n",
    "sum_func(1,2,3,4,5)"
   ]
  },
  {
   "cell_type": "code",
   "execution_count": 69,
   "metadata": {},
   "outputs": [
    {
     "name": "stdout",
     "output_type": "stream",
     "text": [
      "함수가 시작됩니다.\n",
      "15\n",
      "함수가 끝났습니다.\n"
     ]
    }
   ],
   "source": [
    "@alert_end #데코레이션\n",
    "@alert_start #데코레이션\n",
    "def sum_all(*args) :\n",
    "    print(sum(args))\n",
    "#     return sum(args)\n",
    " \n",
    "sum_all(1,2,3,4,5)"
   ]
  },
  {
   "cell_type": "code",
   "execution_count": 74,
   "metadata": {},
   "outputs": [
    {
     "name": "stdout",
     "output_type": "stream",
     "text": [
      "함수가 시작됩니다.\n",
      "15\n",
      "함수가 끝났습니다.\n"
     ]
    }
   ],
   "source": [
    "alert_start(alert_end(sum_all))(1,2,3,4,5) #데코레이션을 사용하지 않을 경우"
   ]
  },
  {
   "cell_type": "code",
   "execution_count": 73,
   "metadata": {},
   "outputs": [
    {
     "name": "stdout",
     "output_type": "stream",
     "text": [
      "함수가 시작됩니다.\n",
      "15\n",
      "함수가 끝났습니다.\n"
     ]
    }
   ],
   "source": [
    "alert_end(alert_start(sum_all))(1,2,3,4,5) #데코레이션을 사용하지 않을 경우"
   ]
  }
 ],
 "metadata": {
  "kernelspec": {
   "display_name": "pydata",
   "language": "python",
   "name": "pydata"
  },
  "language_info": {
   "codemirror_mode": {
    "name": "ipython",
    "version": 3
   },
   "file_extension": ".py",
   "mimetype": "text/x-python",
   "name": "python",
   "nbconvert_exporter": "python",
   "pygments_lexer": "ipython3",
   "version": "3.7.10"
  }
 },
 "nbformat": 4,
 "nbformat_minor": 4
}
