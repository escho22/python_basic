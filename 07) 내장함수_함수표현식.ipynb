{
 "cells": [
  {
   "cell_type": "code",
   "execution_count": 3,
   "metadata": {},
   "outputs": [
    {
     "name": "stdout",
     "output_type": "stream",
     "text": [
      "10\n",
      "10\n",
      "전진\n"
     ]
    }
   ],
   "source": [
    "pos = 10\n",
    "neg = -10\n",
    "\n",
    "print(abs(pos))\n",
    "print(abs(neg))\n",
    "\n",
    "if neg > 0:\n",
    "    print('뒷걸음질')\n",
    "if abs(neg) > 0:\n",
    "    print('전진')"
   ]
  },
  {
   "cell_type": "code",
   "execution_count": 9,
   "metadata": {},
   "outputs": [
    {
     "name": "stdout",
     "output_type": "stream",
     "text": [
      "False\n",
      "False\n",
      "False\n",
      "True\n",
      "True\n",
      "True\n"
     ]
    }
   ],
   "source": [
    "num0 = 0\n",
    "num1 = 1\n",
    "empty_list = []\n",
    "full_list = [1,2,3]\n",
    "empty_str = ''\n",
    "full_str = 'Python'\n",
    "\n",
    "#빈값 false\n",
    "print(bool(num0))\n",
    "print(bool(empty_list))\n",
    "print(bool(empty_str))\n",
    "#데이터 채워진 값 true\n",
    "print(bool(num1))\n",
    "print(bool(full_list))\n",
    "print(bool(full_str))"
   ]
  },
  {
   "cell_type": "code",
   "execution_count": 11,
   "metadata": {},
   "outputs": [
    {
     "name": "stdout",
     "output_type": "stream",
     "text": [
      "좋아하는 색을 입력하세요: \n",
      "색을 반드시 입력해야 합니다.\n"
     ]
    }
   ],
   "source": [
    "color = input('좋아하는 색을 입력하세요: ')\n",
    "if not bool(color): #값이 비었을 때 : not false => true\n",
    "    print('색을 반드시 입력해야 합니다.')\n",
    "else:\n",
    "    print(color + '색을 좋아하구나.')"
   ]
  },
  {
   "cell_type": "code",
   "execution_count": 16,
   "metadata": {},
   "outputs": [
    {
     "name": "stdout",
     "output_type": "stream",
     "text": [
      "dir()\n",
      "['In', 'Out', '_', '__', '___', '__builtin__', '__builtins__', '__doc__', '__loader__', '__name__', '__package__', '__spec__', '_dh', '_i', '_i1', '_i10', '_i11', '_i12', '_i13', '_i14', '_i15', '_i16', '_i2', '_i3', '_i4', '_i5', '_i6', '_i7', '_i8', '_i9', '_ih', '_ii', '_iii', '_oh', 'color', 'empty_list', 'empty_str', 'exit', 'full_list', 'full_str', 'get_ipython', 'myList', 'neg', 'num0', 'num1', 'pos', 'quit']\n",
      "--------------------------------------------------\n",
      "dir(myList)\n",
      "['__add__', '__class__', '__contains__', '__delattr__', '__delitem__', '__dir__', '__doc__', '__eq__', '__format__', '__ge__', '__getattribute__', '__getitem__', '__gt__', '__hash__', '__iadd__', '__imul__', '__init__', '__init_subclass__', '__iter__', '__le__', '__len__', '__lt__', '__mul__', '__ne__', '__new__', '__reduce__', '__reduce_ex__', '__repr__', '__reversed__', '__rmul__', '__setattr__', '__setitem__', '__sizeof__', '__str__', '__subclasshook__', 'append', 'clear', 'copy', 'count', 'extend', 'index', 'insert', 'pop', 'remove', 'reverse', 'sort']\n",
      "--------------------------------------------------\n",
      "help(myList.append)\n",
      "Help on built-in function append:\n",
      "\n",
      "append(object, /) method of builtins.list instance\n",
      "    Append object to the end of the list.\n",
      "\n",
      "None\n",
      "--------------------------------------------------\n",
      "help(myList)\n",
      "Help on list object:\n",
      "\n",
      "class list(object)\n",
      " |  list(iterable=(), /)\n",
      " |  \n",
      " |  Built-in mutable sequence.\n",
      " |  \n",
      " |  If no argument is given, the constructor creates a new empty list.\n",
      " |  The argument must be an iterable if specified.\n",
      " |  \n",
      " |  Methods defined here:\n",
      " |  \n",
      " |  __add__(self, value, /)\n",
      " |      Return self+value.\n",
      " |  \n",
      " |  __contains__(self, key, /)\n",
      " |      Return key in self.\n",
      " |  \n",
      " |  __delitem__(self, key, /)\n",
      " |      Delete self[key].\n",
      " |  \n",
      " |  __eq__(self, value, /)\n",
      " |      Return self==value.\n",
      " |  \n",
      " |  __ge__(self, value, /)\n",
      " |      Return self>=value.\n",
      " |  \n",
      " |  __getattribute__(self, name, /)\n",
      " |      Return getattr(self, name).\n",
      " |  \n",
      " |  __getitem__(...)\n",
      " |      x.__getitem__(y) <==> x[y]\n",
      " |  \n",
      " |  __gt__(self, value, /)\n",
      " |      Return self>value.\n",
      " |  \n",
      " |  __iadd__(self, value, /)\n",
      " |      Implement self+=value.\n",
      " |  \n",
      " |  __imul__(self, value, /)\n",
      " |      Implement self*=value.\n",
      " |  \n",
      " |  __init__(self, /, *args, **kwargs)\n",
      " |      Initialize self.  See help(type(self)) for accurate signature.\n",
      " |  \n",
      " |  __iter__(self, /)\n",
      " |      Implement iter(self).\n",
      " |  \n",
      " |  __le__(self, value, /)\n",
      " |      Return self<=value.\n",
      " |  \n",
      " |  __len__(self, /)\n",
      " |      Return len(self).\n",
      " |  \n",
      " |  __lt__(self, value, /)\n",
      " |      Return self<value.\n",
      " |  \n",
      " |  __mul__(self, value, /)\n",
      " |      Return self*value.\n",
      " |  \n",
      " |  __ne__(self, value, /)\n",
      " |      Return self!=value.\n",
      " |  \n",
      " |  __repr__(self, /)\n",
      " |      Return repr(self).\n",
      " |  \n",
      " |  __reversed__(self, /)\n",
      " |      Return a reverse iterator over the list.\n",
      " |  \n",
      " |  __rmul__(self, value, /)\n",
      " |      Return value*self.\n",
      " |  \n",
      " |  __setitem__(self, key, value, /)\n",
      " |      Set self[key] to value.\n",
      " |  \n",
      " |  __sizeof__(self, /)\n",
      " |      Return the size of the list in memory, in bytes.\n",
      " |  \n",
      " |  append(self, object, /)\n",
      " |      Append object to the end of the list.\n",
      " |  \n",
      " |  clear(self, /)\n",
      " |      Remove all items from list.\n",
      " |  \n",
      " |  copy(self, /)\n",
      " |      Return a shallow copy of the list.\n",
      " |  \n",
      " |  count(self, value, /)\n",
      " |      Return number of occurrences of value.\n",
      " |  \n",
      " |  extend(self, iterable, /)\n",
      " |      Extend list by appending elements from the iterable.\n",
      " |  \n",
      " |  index(self, value, start=0, stop=9223372036854775807, /)\n",
      " |      Return first index of value.\n",
      " |      \n",
      " |      Raises ValueError if the value is not present.\n",
      " |  \n",
      " |  insert(self, index, object, /)\n",
      " |      Insert object before index.\n",
      " |  \n",
      " |  pop(self, index=-1, /)\n",
      " |      Remove and return item at index (default last).\n",
      " |      \n",
      " |      Raises IndexError if list is empty or index is out of range.\n",
      " |  \n",
      " |  remove(self, value, /)\n",
      " |      Remove first occurrence of value.\n",
      " |      \n",
      " |      Raises ValueError if the value is not present.\n",
      " |  \n",
      " |  reverse(self, /)\n",
      " |      Reverse *IN PLACE*.\n",
      " |  \n",
      " |  sort(self, /, *, key=None, reverse=False)\n",
      " |      Stable sort *IN PLACE*.\n",
      " |  \n",
      " |  ----------------------------------------------------------------------\n",
      " |  Static methods defined here:\n",
      " |  \n",
      " |  __new__(*args, **kwargs) from builtins.type\n",
      " |      Create and return a new object.  See help(type) for accurate signature.\n",
      " |  \n",
      " |  ----------------------------------------------------------------------\n",
      " |  Data and other attributes defined here:\n",
      " |  \n",
      " |  __hash__ = None\n",
      "\n",
      "None\n"
     ]
    }
   ],
   "source": [
    "myList = [1,2,3]\n",
    "\n",
    "input()\n",
    "print(dir()) #현재 사용 가능한 변수\n",
    "print('-' * 50)\n",
    "\n",
    "input()\n",
    "print(dir(myList)) #append ~ sort\n",
    "print('-' * 50)\n",
    "\n",
    "input()\n",
    "print(help(myList.append)) #appen 함수 사용법\n",
    "print('-' * 50)\n",
    "\n",
    "input()\n",
    "print(help(myList))"
   ]
  },
  {
   "cell_type": "code",
   "execution_count": 20,
   "metadata": {},
   "outputs": [
    {
     "name": "stdout",
     "output_type": "stream",
     "text": [
      "2000\n",
      "2\n"
     ]
    }
   ],
   "source": [
    "#eval : 수식 형태의 문자열을 수식으로 변환하여 실행\n",
    "print(eval('1000 * 2')) \n",
    "\n",
    "number = 1\n",
    "exp = 'print(number + 1)'\n",
    "eval(exp)\n",
    "\n",
    "#print(eval('안녕')) #수식 형태가 아니면 오류"
   ]
  },
  {
   "cell_type": "code",
   "execution_count": 39,
   "metadata": {},
   "outputs": [
    {
     "name": "stdout",
     "output_type": "stream",
     "text": [
      "I love Python\n",
      "1\n",
      "2\n"
     ]
    }
   ],
   "source": [
    "#exec : 문장을 받아 코드로 변환하고 실행\n",
    "#수식 : 변수, 연산자, 함수를 호출하여 최종값을 만들 수 있는 것 \n",
    "#문장 : 수식을 포함해 한 줄을 구성할 수 있는 모든 것\n",
    "    \n",
    "state1 = 'print(\"I love Python\")'\n",
    "exec(state1)\n",
    "\n",
    "state2 = '''\n",
    "number = 1\n",
    "for item in [1,2,3]:\n",
    "    number += 1\n",
    "    if item % 2: #1=True\n",
    "        break\n",
    "print(number)\n",
    "'''\n",
    "\n",
    "exec(state2)"
   ]
  },
  {
   "cell_type": "code",
   "execution_count": 25,
   "metadata": {},
   "outputs": [
    {
     "name": "stdout",
     "output_type": "stream",
     "text": [
      "1 100\n"
     ]
    }
   ],
   "source": [
    "number = 0\n",
    "exp = 'number + 1'\n",
    "code1 = compile(exp, '<string>', 'eval') #<string> 대신, 수식/문장이 저장된 파일명이 올수있음\n",
    "\n",
    "for h in range(100):\n",
    "    number = eval(code1)\n",
    "print('1', number)"
   ]
  },
  {
   "cell_type": "code",
   "execution_count": 26,
   "metadata": {},
   "outputs": [
    {
     "name": "stdout",
     "output_type": "stream",
     "text": [
      "2 200\n"
     ]
    }
   ],
   "source": [
    "state1 = 'number = number + 1'\n",
    "code2 = compile(state1, '<string>', 'single') #코드 변환만, 실행은 eval or exec\n",
    "\n",
    "for h in range(100):\n",
    "    exec(code2)\n",
    "print('2', number)"
   ]
  },
  {
   "cell_type": "code",
   "execution_count": 27,
   "metadata": {},
   "outputs": [
    {
     "name": "stdout",
     "output_type": "stream",
     "text": [
      "3 202\n"
     ]
    }
   ],
   "source": [
    "state2 = '''\n",
    "for item in [1, 2, 3]:\n",
    "    number = number + 1\n",
    "    if item == 2:\n",
    "        break;\n",
    "print('3', number)\n",
    "'''\n",
    "\n",
    "code3 = compile(state2, '<string>', 'exec')\n",
    "exec(code3)"
   ]
  },
  {
   "cell_type": "code",
   "execution_count": 29,
   "metadata": {},
   "outputs": [
    {
     "name": "stdout",
     "output_type": "stream",
     "text": [
      "0.0\n",
      "-10.0\n",
      "10.0\n",
      "3.14\n"
     ]
    }
   ],
   "source": [
    "print(float())\n",
    "print(float(-10))\n",
    "print(float('10')) #문자열도 실수로\n",
    "print(float('3.14'))"
   ]
  },
  {
   "cell_type": "code",
   "execution_count": 31,
   "metadata": {},
   "outputs": [
    {
     "name": "stdout",
     "output_type": "stream",
     "text": [
      "문자열 6\n",
      "리스트 7\n",
      "사전 0 : 호날두\n",
      "사전 1 : 메시\n",
      "사전 2 : 손흥민\n"
     ]
    }
   ],
   "source": [
    "print('문자열', len('python'))\n",
    "\n",
    "myList = [1,2,3,4,5,6,7]\n",
    "print('리스트', len(myList))\n",
    "\n",
    "myDict = {0:'호날두', 1:'메시', 2:'손흥민'}\n",
    "for item in range(len(myDict)):\n",
    "    print('사전', item, ':', myDict[item])"
   ]
  },
  {
   "cell_type": "code",
   "execution_count": 36,
   "metadata": {},
   "outputs": [
    {
     "name": "stdout",
     "output_type": "stream",
     "text": [
      "367.53\n",
      "367.5\n",
      "370.0\n",
      "400\n"
     ]
    }
   ],
   "source": [
    "print(round(367.5254, 2))\n",
    "print(round(367.5454, 1))\n",
    "print(round(367.5254, -1))\n",
    "print(round(round(367.5254, -2)))"
   ]
  },
  {
   "cell_type": "code",
   "execution_count": 37,
   "metadata": {},
   "outputs": [
    {
     "name": "stdout",
     "output_type": "stream",
     "text": [
      "100\n",
      "2 5\n",
      "21\n"
     ]
    }
   ],
   "source": [
    "print(pow(10, 2))\n",
    " \n",
    "print(round(2.3), round(4.6))\n",
    " \n",
    "myList = [1, 2, 3, 4, 5, 6]\n",
    "print(sum(myList))"
   ]
  },
  {
   "cell_type": "code",
   "execution_count": 38,
   "metadata": {},
   "outputs": [
    {
     "name": "stdout",
     "output_type": "stream",
     "text": [
      "99 1\n",
      "e\n",
      "a\n",
      "z\n",
      " \n"
     ]
    }
   ],
   "source": [
    "myTup = (56, 79, 82, 1, 22, 99)\n",
    "print(max(myTup), min(myTup))\n",
    " \n",
    "print(max('abcde'))\n",
    "print(max('0Aa'))\n",
    " \n",
    "print(max('I went to the zoo yesterday, 27 March.'))\n",
    "print(min('I went to the zoo yesterday, 27 March.')) #공백 32/숫자 48~/영대문자 65~/영소문자 97~"
   ]
  },
  {
   "cell_type": "code",
   "execution_count": 43,
   "metadata": {},
   "outputs": [
    {
     "name": "stdout",
     "output_type": "stream",
     "text": [
      "True\n",
      "False\n",
      "False\n",
      "False\n",
      "False\n",
      "True\n"
     ]
    }
   ],
   "source": [
    "i = [1,2,3,4,5]\n",
    "j = [1,2,None,4,5]\n",
    "print(any(j))\n",
    "print(bool(None))\n",
    "print(all(j))\n",
    "print(bool([]))\n",
    "print(any([]))\n",
    "print(all([]))#all은 빈값 True"
   ]
  },
  {
   "cell_type": "code",
   "execution_count": 50,
   "metadata": {},
   "outputs": [
    {
     "name": "stdout",
     "output_type": "stream",
     "text": [
      "1) 5\n",
      "2) 10\n"
     ]
    },
    {
     "data": {
      "text/plain": [
       "'<lambda>'"
      ]
     },
     "execution_count": 50,
     "metadata": {},
     "output_type": "execute_result"
    }
   ],
   "source": [
    "print('1)', (lambda x : x)(5))\n",
    "\n",
    "l1 =  lambda x, y : x+y\n",
    "print('2)', l1(5, 5))\n",
    "\n",
    "l1.__name__"
   ]
  },
  {
   "cell_type": "code",
   "execution_count": 52,
   "metadata": {},
   "outputs": [
    {
     "data": {
      "text/plain": [
       "300"
      ]
     },
     "execution_count": 52,
     "metadata": {},
     "output_type": "execute_result"
    }
   ],
   "source": [
    "def add(x, y):\n",
    "    return x + y\n",
    "    \n",
    "x= 10\n",
    "add((lambda z : z * z)(x), 200)  "
   ]
  },
  {
   "cell_type": "code",
   "execution_count": 55,
   "metadata": {},
   "outputs": [
    {
     "data": {
      "text/plain": [
       "[1, 4, 9, 16]"
      ]
     },
     "execution_count": 55,
     "metadata": {},
     "output_type": "execute_result"
    }
   ],
   "source": [
    "def apply(func, obj):\n",
    "    return func(obj)\n",
    "\n",
    "ll = [1,2,3,4]\n",
    "apply(lambda x : [i * i for i in x], ll) #[]:list, i*i 원소"
   ]
  },
  {
   "cell_type": "code",
   "execution_count": 58,
   "metadata": {},
   "outputs": [
    {
     "name": "stdout",
     "output_type": "stream",
     "text": [
      "1\n",
      "4\n",
      "9\n",
      "16\n"
     ]
    },
    {
     "data": {
      "text/plain": [
       "[1, 4, 9, 16]"
      ]
     },
     "execution_count": 58,
     "metadata": {},
     "output_type": "execute_result"
    }
   ],
   "source": [
    "l=[1,2,3,4]\n",
    "for i in map(lambda x : x * x, l): #map(lambda, parameter)\n",
    "    print(i)\n",
    "\n",
    "[*map(lambda x : x * x, l)]"
   ]
  },
  {
   "cell_type": "code",
   "execution_count": 61,
   "metadata": {},
   "outputs": [
    {
     "name": "stdout",
     "output_type": "stream",
     "text": [
      "2\n",
      "4\n"
     ]
    },
    {
     "data": {
      "text/plain": [
       "[2, 4]"
      ]
     },
     "execution_count": 61,
     "metadata": {},
     "output_type": "execute_result"
    }
   ],
   "source": [
    "l=[1,2,3,4]\n",
    "for i in filter(lambda x : (x % 2 == 0), l):\n",
    "    print(i)\n",
    "    \n",
    "[*filter(lambda x : (x % 2 == 0), l)]"
   ]
  },
  {
   "cell_type": "code",
   "execution_count": 64,
   "metadata": {},
   "outputs": [
    {
     "name": "stdout",
     "output_type": "stream",
     "text": [
      "15\n",
      "[5, 5]\n"
     ]
    }
   ],
   "source": [
    "_list = []\n",
    "def compose(x, func) :\n",
    "    _list.append(x)\n",
    "    return func\n",
    "\n",
    "\n",
    "def add(x) :\n",
    "    result = 0\n",
    "    for i in _list :\n",
    "        result += i\n",
    "    return result + x\n",
    "\n",
    "a = lambda x : compose(x, b) #lambda x 1st => b()\n",
    "b = lambda y : compose(y, c) #lambda y 2nd => c()\n",
    "c = lambda z : add(z) #lamda z 3rd => add\n",
    "\n",
    "print(a(5)(5)(5))\n",
    "\n",
    "print(_list)"
   ]
  }
 ],
 "metadata": {
  "kernelspec": {
   "display_name": "pydata",
   "language": "python",
   "name": "pydata"
  },
  "language_info": {
   "codemirror_mode": {
    "name": "ipython",
    "version": 3
   },
   "file_extension": ".py",
   "mimetype": "text/x-python",
   "name": "python",
   "nbconvert_exporter": "python",
   "pygments_lexer": "ipython3",
   "version": "3.7.10"
  }
 },
 "nbformat": 4,
 "nbformat_minor": 4
}
