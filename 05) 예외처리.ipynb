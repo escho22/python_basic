{
 "cells": [
  {
   "cell_type": "code",
   "execution_count": 7,
   "metadata": {},
   "outputs": [
    {
     "name": "stdout",
     "output_type": "stream",
     "text": [
      "안녕하세요.\n",
      "고길동\n"
     ]
    }
   ],
   "source": [
    "#param = '고길동'\n",
    "try:\n",
    "    print('안녕하세요.')\n",
    "    print(param)\n",
    "except:\n",
    "    print('예외 발생.')"
   ]
  },
  {
   "cell_type": "code",
   "execution_count": 8,
   "metadata": {},
   "outputs": [
    {
     "name": "stdout",
     "output_type": "stream",
     "text": [
      "예외 발생.\n"
     ]
    }
   ],
   "source": [
    "try:\n",
    "    print(1 / 0)\n",
    "except:\n",
    "    print('예외 발생.')"
   ]
  },
  {
   "cell_type": "code",
   "execution_count": 12,
   "metadata": {},
   "outputs": [
    {
     "data": {
      "text/plain": [
       "'You cannot divide by zero, try again...'"
      ]
     },
     "execution_count": 12,
     "metadata": {},
     "output_type": "execute_result"
    }
   ],
   "source": [
    "def divide_numbers(x, y):\n",
    "    try:\n",
    "        return x / y\n",
    "    except ZeroDivisionError:\n",
    "        return 'You cannot divide by zero, try again...'\n",
    "    \n",
    "divide_numbers(8, 3)\n",
    "divide_numbers(8, 0)"
   ]
  },
  {
   "cell_type": "code",
   "execution_count": 17,
   "metadata": {},
   "outputs": [
    {
     "name": "stdout",
     "output_type": "stream",
     "text": [
      "안녕하세요.\n",
      "예외 발생\n"
     ]
    }
   ],
   "source": [
    "#else 절 내에서는 어떤 예외가 발생하게 되어도 except로 돌아가지 못함\n",
    "try:\n",
    "    print('안녕하세요.')\n",
    "#     param = 100\n",
    "    print(param)\n",
    "except:\n",
    "    print('예외 발생')\n",
    "else:\n",
    "    print('예외 발생 하지 않음')"
   ]
  },
  {
   "cell_type": "code",
   "execution_count": null,
   "metadata": {},
   "outputs": [],
   "source": [
    "#try-except 중첩\n",
    "try:\n",
    "    try:\n",
    "        x = input('Enter a number for the divided.')\n",
    "        y = input('Enter a number to divisior.')\n",
    "        x = int(x)\n",
    "        y = int(y)\n",
    "        \n",
    "    except ValueError:\n",
    "        print('You must enter a numeric value.')\n",
    "    \n",
    "    z = x / y\n",
    "    \n",
    "except ZeroDicisionError:\n",
    "    print('You cannot divide by zero.')\n",
    "except TypeError:\n",
    "    print('Retry and only use numeric values this time.')\n",
    "else:\n",
    "    print('Your Quotient is %d' %(z))"
   ]
  },
  {
   "cell_type": "code",
   "execution_count": 7,
   "metadata": {},
   "outputs": [
    {
     "name": "stdout",
     "output_type": "stream",
     "text": [
      "인덱스를 입력하세요.\n",
      "5\n",
      "잘못된 인덱스입니다.\n"
     ]
    }
   ],
   "source": [
    "my_list = [1,2,3]\n",
    "try:\n",
    "    print('인덱스를 입력하세요.')\n",
    "    index = int(input())\n",
    "    print(my_list[index] / 0)\n",
    "    \n",
    "except ZeroDivisionError:\n",
    "    print('0으로 나눌 수 없습니다.')\n",
    "except IndexError:\n",
    "    print('잘못된 인덱스입니다.')"
   ]
  },
  {
   "cell_type": "code",
   "execution_count": 11,
   "metadata": {},
   "outputs": [
    {
     "name": "stdout",
     "output_type": "stream",
     "text": [
      "인덱스를 입력하세요.\n",
      "5\n",
      "잘못된 인덱스입니다. (list index out of range)\n"
     ]
    }
   ],
   "source": [
    "my_list = [1,2,3]\n",
    "try:\n",
    "    print('인덱스를 입력하세요.')\n",
    "    index = int(input())\n",
    "    print(my_list[index] / 0)\n",
    "except ZeroDivisionError as err:\n",
    "    print('0으로 나눌 수 없습니다. ({0})' .format(err)) #err 메세지 #({}) : 몇번째 error?\n",
    "except IndexError as err:\n",
    "    print('잘못된 인덱스입니다. ({})' .format(err))"
   ]
  },
  {
   "cell_type": "code",
   "execution_count": 12,
   "metadata": {},
   "outputs": [
    {
     "name": "stdout",
     "output_type": "stream",
     "text": [
      "인덱스를 입력하세요.\n",
      "5\n",
      "잘못된 인덱스입니다. (list index out of range)\n"
     ]
    }
   ],
   "source": [
    "my_list = [1,2,3]\n",
    "try:\n",
    "    print('인덱스를 입력하세요.')\n",
    "    index = int(input())\n",
    "    print(my_list[index] / 0)\n",
    "except ZeroDivisionError as err:\n",
    "    print('0으로 나눌 수 없습니다. ({0})' .format(err)) \n",
    "except Exception as err: #모든 예외\n",
    "    print('잘못된 인덱스입니다. ({})' .format(err))"
   ]
  },
  {
   "cell_type": "code",
   "execution_count": 15,
   "metadata": {},
   "outputs": [
    {
     "name": "stdout",
     "output_type": "stream",
     "text": [
      "인덱스를 입력하세요.\n",
      "6\n",
      "예외가 발생했습니다. (list index out of range)\n",
      "어떤 일이 있어도 출력됩니다.\n"
     ]
    }
   ],
   "source": [
    "my_list = [1,2,3]\n",
    "try:\n",
    "    print('인덱스를 입력하세요.')\n",
    "    index = int(input())\n",
    "    print('my_list[{0}] : {1}' .format(index, my_list[index])) #format : {1st}, {2nd}\n",
    "except Exception as err:\n",
    "    print('예외가 발생했습니다. ({})' .format(err))\n",
    "else: #예외 발생 안했을때\n",
    "    print('list 요소 출력을 성공하였습니다.')\n",
    "finally:\n",
    "    print('어떤 일이 있어도 출력됩니다.')"
   ]
  },
  {
   "cell_type": "code",
   "execution_count": 2,
   "metadata": {},
   "outputs": [
    {
     "name": "stdout",
     "output_type": "stream",
     "text": [
      "1 ~ 10 사이의 수를 입력하세요.\n",
      "555\n",
      "예외가 발생했습니다. (유효하지 않은 숫자입니다. (555))\n"
     ]
    }
   ],
   "source": [
    "def some_function():\n",
    "    print('1 ~ 10 사이의 수를 입력하세요.')\n",
    "    num = int(input())\n",
    "    if num < 1 or num > 10:\n",
    "        raise Exception('유효하지 않은 숫자입니다. ({})' .format(num)) #예외 객체 생성\n",
    "    else:\n",
    "        print('입력한 수는 {}입니다.' .format(num))\n",
    "        \n",
    "try:\n",
    "    some_function()\n",
    "except Exception as err:\n",
    "    print('예외가 발생했습니다. ({})'. format(err))"
   ]
  },
  {
   "cell_type": "code",
   "execution_count": 1,
   "metadata": {},
   "outputs": [
    {
     "name": "stdout",
     "output_type": "stream",
     "text": [
      "대입할 수 있는 표현식 : 10\n",
      "대입할 수 있는 표현식 : 10\n"
     ]
    }
   ],
   "source": [
    "print('대입할 수 있는 표현식 : %d' %(10))\n",
    "print('대입할 수 있는 표현식 : {}' .format(10))"
   ]
  },
  {
   "cell_type": "code",
   "execution_count": 1,
   "metadata": {},
   "outputs": [
    {
     "name": "stdout",
     "output_type": "stream",
     "text": [
      "1 ~ 10 사이의 수를 입력하세요.\n",
      "22\n",
      "1) 예외가 발생했습니다. (유효하지 않은 숫자입니다. (22))\n",
      "2) 예외가 발생했습니다. (유효하지 않은 숫자입니다. (22))\n"
     ]
    }
   ],
   "source": [
    "def some_function2():\n",
    "    print('1 ~ 10 사이의 수를 입력하세요.')\n",
    "    num = int(input())\n",
    "    if num < 1 or num > 10:\n",
    "        raise Exception('유효하지 않은 숫자입니다. ({})' .format(num)) #some_function2() 예외 객체 강제 생성\n",
    "    else:\n",
    "        print('입력된 수는  {}입니다.' .format(num))\n",
    "        \n",
    "def some_function_caller():\n",
    "    try:\n",
    "        some_function2()\n",
    "    except Exception as err: #some_function2() 예외 객체를 받아주는 곳\n",
    "        print('1) 예외가 발생했습니다. ({})' .format(err))\n",
    "        raise #some_function_caller() 예외 객체 강제 생성\n",
    "\n",
    "try:\n",
    "    some_function_caller() \n",
    "except Exception as err: #some_function_caller() 예외 객체를 받아주는 곳\n",
    "    print('2) 예외가 발생했습니다. ({})' .format(err))"
   ]
  }
 ],
 "metadata": {
  "kernelspec": {
   "display_name": "pydata",
   "language": "python",
   "name": "pydata"
  },
  "language_info": {
   "codemirror_mode": {
    "name": "ipython",
    "version": 3
   },
   "file_extension": ".py",
   "mimetype": "text/x-python",
   "name": "python",
   "nbconvert_exporter": "python",
   "pygments_lexer": "ipython3",
   "version": "3.7.10"
  }
 },
 "nbformat": 4,
 "nbformat_minor": 4
}
