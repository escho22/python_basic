{
 "cells": [
  {
   "cell_type": "code",
   "execution_count": 5,
   "metadata": {},
   "outputs": [
    {
     "name": "stdout",
     "output_type": "stream",
     "text": [
      "i\n",
      "!\n"
     ]
    },
    {
     "data": {
      "text/plain": [
       "'!'"
      ]
     },
     "execution_count": 5,
     "metadata": {},
     "output_type": "execute_result"
    }
   ],
   "source": [
    "strdata = 'Time is money!!'\n",
    "print(strdata[5])\n",
    "print(strdata[-2])\n",
    "strdata[-2]"
   ]
  },
  {
   "cell_type": "code",
   "execution_count": 12,
   "metadata": {},
   "outputs": [
    {
     "name": "stdout",
     "output_type": "stream",
     "text": [
      "1\n",
      "3\n"
     ]
    },
    {
     "data": {
      "text/plain": [
       "[1, 2, 3]"
      ]
     },
     "execution_count": 12,
     "metadata": {},
     "output_type": "execute_result"
    }
   ],
   "source": [
    "listdata = [1, 2, [1, 2, 3]]\n",
    "print(listdata[0])\n",
    "print(listdata[2][-1])\n",
    "listdata[-1]"
   ]
  },
  {
   "cell_type": "code",
   "execution_count": 21,
   "metadata": {},
   "outputs": [
    {
     "name": "stdout",
     "output_type": "stream",
     "text": [
      "ime \n",
      "Time is\n",
      "oney!!\n",
      "Time is mone\n",
      "y!!\n",
      "Time is money!!\n",
      "Tm smny!\n"
     ]
    }
   ],
   "source": [
    "# 시퀀스 슬라이딩\n",
    "print(strdata[1:5]) #strdata[1] ~ strdata[4]\n",
    "print(strdata[:7]) #~ strdata[7]\n",
    "print(strdata[9:]) #strdata[9] ~ \n",
    "print(strdata[:-3])\n",
    "print(strdata[-3:])\n",
    "print(strdata[:])\n",
    "print(strdata[::2]) #처음부터 끝까지 간격 2만큼"
   ]
  },
  {
   "cell_type": "code",
   "execution_count": 22,
   "metadata": {},
   "outputs": [
    {
     "name": "stdout",
     "output_type": "stream",
     "text": [
      "I love Python\n",
      "I love you\n",
      "[1, 2, 3, 4, 5, 6]\n"
     ]
    }
   ],
   "source": [
    "strdata1 = 'I love '; strdata2 = 'Python'; strdata3 = 'you'\n",
    "print(strdata1 + strdata2)    \n",
    "print(strdata1 + strdata3) \n",
    "\n",
    "listdata1 = [1, 2, 3]; listdata2 = [4, 5, 6]\n",
    "print(listdata1 + listdata2)"
   ]
  },
  {
   "cell_type": "code",
   "execution_count": 2,
   "metadata": {},
   "outputs": [
    {
     "data": {
      "text/plain": [
       "'fore sing innunaltra vita~ innunaltra vita~ innunaltra vita~ '"
      ]
     },
     "execution_count": 2,
     "metadata": {},
     "output_type": "execute_result"
    }
   ],
   "source": [
    "artist = 'fore'\n",
    "song = 'innunaltra vita~ '\n",
    "dispdata = artist + ' sing ' + song * 3\n",
    "dispdata"
   ]
  },
  {
   "cell_type": "code",
   "execution_count": 35,
   "metadata": {},
   "outputs": [
    {
     "data": {
      "text/plain": [
       "28"
      ]
     },
     "execution_count": 35,
     "metadata": {},
     "output_type": "execute_result"
    }
   ],
   "source": [
    "strdata1 = 'I love to watch phantomsinger'\n",
    "strdata2 = '나는 연극/뮤지컬 보는 걸 좋아합니다.'\n",
    "listdata = ['a', 'b', 'c', strdata1, strdata2]\n",
    "len(strdata1)\n",
    "len(strdata2)\n",
    "len(listdata)\n",
    "len(listdata[3])"
   ]
  },
  {
   "cell_type": "code",
   "execution_count": 42,
   "metadata": {},
   "outputs": [
    {
     "data": {
      "text/plain": [
       "True"
      ]
     },
     "execution_count": 42,
     "metadata": {},
     "output_type": "execute_result"
    }
   ],
   "source": [
    "listdata = [1,2,3,4]\n",
    "5 in listdata\n",
    "4 in listdata\n",
    "'watch' in strdata1\n",
    "'/' in strdata2"
   ]
  },
  {
   "cell_type": "code",
   "execution_count": 54,
   "metadata": {},
   "outputs": [
    {
     "name": "stdout",
     "output_type": "stream",
     "text": [
      "안녕하세요\n",
      "안녕하세요\n",
      "\n",
      "안녕하세요.\n",
      "여러개 줄 문장입니다.\n",
      "홑따옴표 3개\n",
      "\n",
      "\n",
      "안녕하세요.\n",
      "여러개 줄 문장입니다.\n",
      "쌍따옴표 3개\n",
      "\n",
      "안녕하세요.\n",
      "여러개 줄 문장입니다.\n",
      " \n",
      "  이용\n",
      "안녕하세요.\n",
      "여러개 줄 문장입니다.\n",
      "\"\\ n\" 이용\n"
     ]
    }
   ],
   "source": [
    "print('안녕하세요')\n",
    "print(\"안녕하세요\")\n",
    "\n",
    "print('''\n",
    "안녕하세요.\n",
    "여러개 줄 문장입니다.\n",
    "홑따옴표 3개\n",
    "''')\n",
    "print(\"\"\"\n",
    "안녕하세요.\n",
    "여러개 줄 문장입니다.\n",
    "쌍따옴표 3개\n",
    "\"\"\")\n",
    "\n",
    "print('안녕하세요.\\n'\n",
    "     '여러개 줄 문장입니다.\\n'\n",
    "     '\"\\ n\" 이용')"
   ]
  },
  {
   "cell_type": "code",
   "execution_count": 57,
   "metadata": {},
   "outputs": [
    {
     "name": "stdout",
     "output_type": "stream",
     "text": [
      "Python is the best language ever\n",
      "         python is the best language ever         \n",
      "---------python is the best language ever---------\n",
      "2\n",
      "2\n"
     ]
    }
   ],
   "source": [
    "# 문자열 메소드 사용하기 \n",
    "our_string='python is the best language ever'\n",
    " \n",
    "# 문자열의 첫 글자를 대문자로\n",
    "print(our_string.capitalize())\n",
    " \n",
    "# 가운데 정렬\n",
    "print(our_string.center(50))\n",
    " \n",
    "print(our_string.center(50,'-'))\n",
    " \n",
    "# 문자열 내에서 부분문자열 세기\n",
    "print(our_string.count('a'))\n",
    " \n",
    "# 부분문자열 발생 횟수 세기\n",
    "state = 'Mississippi'\n",
    "print(state.count('ss'))"
   ]
  },
  {
   "cell_type": "code",
   "execution_count": 60,
   "metadata": {},
   "outputs": [
    {
     "name": "stdout",
     "output_type": "stream",
     "text": [
      "('Hello, my ', 'n', 'ame is Josh')\n",
      "['He', '', 'o, my name is Josh']\n",
      "['He', 'lo, my name is Josh']\n",
      "['He', '', 'o, my name is Josh']\n"
     ]
    }
   ],
   "source": [
    "# 문자열을 분할(partition)하면, 분리자의 앞 부분, 분리자, \n",
    "# 그리고, 그 분리자의뒷 부분의 세 원소로 이루어진 튜플을 반환\n",
    "x = \"Hello, my name is Josh\"\n",
    "print(x.partition('n'))\n",
    " \n",
    "# 위와 똑같은 x가 있다고 할 때, 'l'을 분리자로 하여 문자열을 쪼개기(split)\n",
    "print(x.split('l'))\n",
    "# 보는 바와 같이 분리자는 반환되는 목록에 포함되지 않는다.\n",
    "# maxsplits 값을 1로 하여 추가하게 되면, 가장 왼쪽부터 쪼개기가 이루어진다.\n",
    "# maxsplits 값을 2로 주면, 가장 왼쪽 두 개의 쪼개기가 이루어진다.\n",
    "print(x.split('l',1)) #one l(the 1st)\n",
    "print(x.split('l',2)) #two l"
   ]
  },
  {
   "cell_type": "code",
   "execution_count": 64,
   "metadata": {},
   "outputs": [
    {
     "name": "stdout",
     "output_type": "stream",
     "text": [
      "나는 자바보다 파이썬에 더 익숙합니다.\n",
      "파이썬은 자바보다 5배 더 쉽습니다.\n",
      "5 + 10 = 15\n",
      "작년 세계 경제 성장률은 전년에 비해 5% 포인트 증가했다.\n",
      "12.35%\n",
      "12.35%\n",
      " 12.3%\n"
     ]
    }
   ],
   "source": [
    "txt1 = '자바';txt2='파이썬'\n",
    "num1= 5; num2=10\n",
    "print('나는 %s보다 %s에 더 익숙합니다.' %(txt1, txt2))\n",
    "print('%s은 %s보다 %d배 더 쉽습니다.' %(txt2, txt1, num1))\n",
    "print('%d + %d = %d' %(num1, num2, num1+num2))\n",
    "print('작년 세계 경제 성장률은 전년에 비해 %d%% 포인트 증가했다.' %num1)\n",
    " \n",
    "# 전체 자리수.소수 자리수f, 전체 자리수에 소수 자리수가 포함됨, 반올림 안됨\n",
    "no3 = 12.35\n",
    "print('%3.2f%%' % no3)\n",
    "print('%5.2f%%' % no3)\n",
    "print('%5.1f%%' % no3)"
   ]
  },
  {
   "cell_type": "code",
   "execution_count": 1,
   "metadata": {},
   "outputs": [
    {
     "name": "stdout",
     "output_type": "stream",
     "text": [
      "남은 작업  0%"
     ]
    }
   ],
   "source": [
    "##############################################################\n",
    "# end='' :줄바꿈 없이\n",
    "# \\r : 캐리지 리턴(Carriage Return) 은 현재 위치를 나타내는 커서 를 맨 앞으로\n",
    "#      이동시킨다는 뜻이다.\n",
    "from time import sleep\n",
    "\n",
    "for i in range(100): #0~99\n",
    "    msg = '\\r남은 작업 %2d%%' %(100-i-1) #\\r:커서를 맨앞으로 => 덮어쓰기 #2d는 2자리만 공간을 줌\n",
    "    print(msg, end='') #다음 라인으로 넘어가지 않음\n",
    "    sleep(0.1) # 0.1초동안 중지됨"
   ]
  },
  {
   "cell_type": "code",
   "execution_count": 1,
   "metadata": {},
   "outputs": [
    {
     "name": "stdout",
     "output_type": "stream",
     "text": [
      "나는 파이썬을 사랑합니다.\n",
      "파이썬은 자바보다 훨씬 쉽습니다.\n",
      "Name: John Smith\tgender: Male\tAge: 22\n",
      "이 문장은 화면폭에 비해 너무 길어 보기가 힘듭니다. 그래서 \\Enter키를 이용해 문장을 다음줄과 연속되도록 했습니다.\n",
      "작은따옴표(')와 큰 따옴표(\")는 문자열을 정의할 때 사용합니다.\n"
     ]
    }
   ],
   "source": [
    "print('나는 파이썬을 사랑합니다.\\n파이썬은 자바보다 훨씬 쉽습니다.')\n",
    "print('Name: John Smith\\tgender: Male\\tAge: 22')\n",
    "print('이 문장은 화면폭에 비해 너무 길어 보기가 힘듭니다. \\\n",
    "그래서 \\\\Enter키를 이용해 문장을 다음줄과 연속되도록 했습니다.')\n",
    "print('작은따옴표(\\')와 큰 따옴표(\")는 문자열을 정의할 때 사용합니다.')"
   ]
  },
  {
   "cell_type": "code",
   "execution_count": 2,
   "metadata": {},
   "outputs": [
    {
     "name": "stdout",
     "output_type": "stream",
     "text": [
      "임의의 문장을 입력하세요.My name is 고길동\n"
     ]
    }
   ],
   "source": [
    "msg = input('임의의 문장을 입력하세요.')"
   ]
  },
  {
   "cell_type": "code",
   "execution_count": 3,
   "metadata": {},
   "outputs": [
    {
     "name": "stdout",
     "output_type": "stream",
     "text": [
      "당신이 입력한 문장에는 'is'가 있습니다.\n"
     ]
    }
   ],
   "source": [
    "if 'is' in msg:\n",
    "    print('당신이 입력한 문장에는 \\'is\\'가 있습니다.')\n",
    "else:\n",
    "    print('당신이 입력한 문장에는 \\'is\\'가 없습니다.')"
   ]
  },
  {
   "cell_type": "code",
   "execution_count": 5,
   "metadata": {},
   "outputs": [
    {
     "name": "stdout",
     "output_type": "stream",
     "text": [
      "3\n",
      "2\n",
      "8\n"
     ]
    }
   ],
   "source": [
    "txt = 'A lot of things occur each day, every day.'\n",
    "word_count1 = txt.count('o')\n",
    "word_count2 = txt.count('day')\n",
    "word_count3 = txt.count(' ')\n",
    "print(word_count1)  # 3이 출력됨\n",
    "print(word_count2)  # 2가 출력됨\n",
    "print(word_count3)  # 8이 출력됨"
   ]
  },
  {
   "cell_type": "code",
   "execution_count": 6,
   "metadata": {},
   "outputs": [
    {
     "name": "stdout",
     "output_type": "stream",
     "text": [
      "True\n",
      "True\n",
      "False\n",
      "False\n"
     ]
    }
   ],
   "source": [
    "#isalpha() : 문자열 구성 확인\n",
    "# 빈공간이 있으면 isalpha()의 결과를 False값을 리턴하다.\n",
    "txt1 = 'A'\n",
    "txt2 = '안녕'\n",
    "txt3 = 'Warcraft Three'\n",
    "txt4 = '3PO'\n",
    "print(txt1.isalpha())        # True가 출력됨\n",
    "print(txt2.isalpha())        # True가 출력됨\n",
    "print(txt3.isalpha())        # False가 출력됨\n",
    "print(txt4.isalpha())        # False가 출력됨"
   ]
  },
  {
   "cell_type": "code",
   "execution_count": 8,
   "metadata": {},
   "outputs": [
    {
     "name": "stdout",
     "output_type": "stream",
     "text": [
      "False\n",
      "False\n",
      "True\n"
     ]
    }
   ],
   "source": [
    "#isdigit() : 숫자형 구성 확인\n",
    "txt1 = '010-1234-5678'\n",
    "txt2 = 'R2D2'\n",
    "txt3 = '1212'\n",
    "print(txt1.isdigit())\n",
    "print(txt2.isdigit())\n",
    "print(txt3.isdigit())"
   ]
  },
  {
   "cell_type": "code",
   "execution_count": 11,
   "metadata": {},
   "outputs": [
    {
     "name": "stdout",
     "output_type": "stream",
     "text": [
      "False\n",
      "False\n",
      "True\n"
     ]
    }
   ],
   "source": [
    "#isalnum() : 문자열과 숫자형 구성 확인\n",
    "# 문자나 숫자가 아닌 데이터(? . - 등 특수문자)가 들어가면 False\n",
    "txt1 = '안녕하세요?'\n",
    "txt2 = '1. Title-제목을 넣으세요'\n",
    "txt3 = '3피오R2D2'\n",
    "print(txt1.isalnum())\n",
    "print(txt2.isalnum())\n",
    "print(txt3.isalnum())"
   ]
  },
  {
   "cell_type": "code",
   "execution_count": 13,
   "metadata": {},
   "outputs": [
    {
     "name": "stdout",
     "output_type": "stream",
     "text": [
      "A LOT OF THINGS OCCUR EACH DAY.\n",
      "a lot of things occur each day.\n"
     ]
    }
   ],
   "source": [
    "txt = 'A lot of Things occur each day.'\n",
    "print(txt.upper())\n",
    "print(txt.lower())"
   ]
  },
  {
   "cell_type": "code",
   "execution_count": 15,
   "metadata": {},
   "outputs": [
    {
     "name": "stdout",
     "output_type": "stream",
     "text": [
      "<   양쪽에 공백이 있는 문자열입니다.   >\n",
      "<양쪽에 공백이 있는 문자열입니다.   >\n",
      "<   양쪽에 공백이 있는 문자열입니다.>\n",
      "<양쪽에 공백이 있는 문자열입니다.>\n"
     ]
    }
   ],
   "source": [
    "txt = '   양쪽에 공백이 있는 문자열입니다.   '\n",
    "print('<' + txt + '>')\n",
    "print('<' + txt.lstrip() + '>')\n",
    "print('<' + txt.rstrip() + '>')\n",
    "print('<' + txt.strip() + '>')"
   ]
  },
  {
   "cell_type": "code",
   "execution_count": 16,
   "metadata": {},
   "outputs": [
    {
     "data": {
      "text/plain": [
       "['Beautiful', 'is', 'better', 'than', 'ugly']"
      ]
     },
     "execution_count": 16,
     "metadata": {},
     "output_type": "execute_result"
    }
   ],
   "source": [
    "# list = str.split() : 문자열에서 리스트로, 공백으로 구분 \n",
    "a='Beautiful, is; better*than\\nugly'\n",
    "import re #re 모듈\n",
    "re.split('; | , | \\* | \\n',a) #\\* = *"
   ]
  },
  {
   "cell_type": "code",
   "execution_count": 23,
   "metadata": {},
   "outputs": [
    {
     "name": "stdout",
     "output_type": "stream",
     "text": [
      "['http:', '', 'www.naver.com', 'news', 'today=20160831']\n",
      "['http:', '/www.naver.com/news/today=20160831']\n",
      "['http:', '', 'www.naver.com/news/today=20160831']\n",
      "['http:', '', 'www.naver.com', 'news/today=20160831']\n",
      "name => 홍길동\n",
      "age => 17\n",
      "gender => 남자\n",
      "nation => 한국\n"
     ]
    }
   ],
   "source": [
    "url = 'http://www.naver.com/news/today=20160831'\n",
    "log = 'name:홍길동 age:17 gender:남자 nation:한국'\n",
    "\n",
    "print(url.split('/')) #모든 /\n",
    "print(url.split('/', 1))\n",
    "print(url.split('/', 2))\n",
    "print(url.split('/', 3))\n",
    "\n",
    "ret2 = log.split() #빈공간 split\n",
    "for data in ret2: #for(data int ret2)\n",
    "    d1, d2 = data.split(':') #튜플로 반환\n",
    "    print('%s => %s' %(d1, d2))"
   ]
  },
  {
   "cell_type": "code",
   "execution_count": 26,
   "metadata": {},
   "outputs": [
    {
     "name": "stdout",
     "output_type": "stream",
     "text": [
      "2016/08/26 10:12:11;200;OK;이 또한 지나가리라\n"
     ]
    }
   ],
   "source": [
    "# ” “.join( list ) : 리스트에서 문자열으로\n",
    "loglist = ['2016/08/26 10:12:11', '200', 'OK', '이 또한 지나가리라']\n",
    "bond = ';'\n",
    "log = bond.join(loglist)\n",
    "print(log)"
   ]
  },
  {
   "cell_type": "code",
   "execution_count": 28,
   "metadata": {
    "scrolled": true
   },
   "outputs": [
    {
     "name": "stdout",
     "output_type": "stream",
     "text": [
      "\u0004\n",
      "\n",
      "\n",
      "8.0\n",
      "65\n",
      "67\n",
      "122\n"
     ]
    }
   ],
   "source": [
    "# 정수가 나타내는 문자를 반환\n",
    "print(chr(4))\n",
    "print(chr(10)) #line skip\n",
    " \n",
    "# 정수를 부동소수점수로 변환\n",
    "print(float(8))\n",
    "\n",
    "# 문자를 나타내는 정수 값으로 변환\n",
    "print(ord('A'))\n",
    "print(ord('C'))\n",
    "print(ord('z'))"
   ]
  },
  {
   "cell_type": "code",
   "execution_count": 1,
   "metadata": {},
   "outputs": [
    {
     "name": "stdout",
     "output_type": "stream",
     "text": [
      "숫자를 입력하세요.8.2\n"
     ]
    }
   ],
   "source": [
    "numstr = input('숫자를 입력하세요.') "
   ]
  },
  {
   "cell_type": "code",
   "execution_count": 2,
   "metadata": {},
   "outputs": [
    {
     "name": "stdout",
     "output_type": "stream",
     "text": [
      "입력한 숫자는 실수 <8.200000>입니다.\n"
     ]
    }
   ],
   "source": [
    "try:\n",
    "    num = int(numstr)\n",
    "    print('입력한 숫자는 정수 <%d>입니다.' %num)\n",
    "except:\n",
    "    try:\n",
    "        num = float(numstr)\n",
    "        print('입력한 숫자는 실수 <%f>입니다.' %num)\n",
    "    except:\n",
    "        print('----- 숫자를 입력하세요. -----')"
   ]
  },
  {
   "cell_type": "code",
   "execution_count": 3,
   "metadata": {},
   "outputs": [
    {
     "name": "stdout",
     "output_type": "stream",
     "text": [
      "num1을 문자열로 변환한 값은 '1234'압니다.\n",
      "num2을 문자열로 변환한 값은 '3.14'압니다.\n"
     ]
    }
   ],
   "source": [
    "num1 = 1234\n",
    "num2 = 3.14\n",
    "numstr1 = str(num1)\n",
    "numstr2 = str(num2)\n",
    "print('num1을 문자열로 변환한 값은 \\'%s\\'입니다.' %numstr1)\n",
    "print('num2을 문자열로 변환한 값은 \\'%s\\'입니다.' %numstr2)"
   ]
  }
 ],
 "metadata": {
  "kernelspec": {
   "display_name": "pydata",
   "language": "python",
   "name": "pydata"
  },
  "language_info": {
   "codemirror_mode": {
    "name": "ipython",
    "version": 3
   },
   "file_extension": ".py",
   "mimetype": "text/x-python",
   "name": "python",
   "nbconvert_exporter": "python",
   "pygments_lexer": "ipython3",
   "version": "3.7.10"
  }
 },
 "nbformat": 4,
 "nbformat_minor": 4
}
