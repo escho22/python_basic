{
 "cells": [
  {
   "cell_type": "code",
   "execution_count": 2,
   "metadata": {},
   "outputs": [
    {
     "name": "stdout",
     "output_type": "stream",
     "text": [
      "jupyter notebook 출력\n"
     ]
    }
   ],
   "source": [
    "print('jupyter notebook 출력')"
   ]
  },
  {
   "cell_type": "code",
   "execution_count": 7,
   "metadata": {},
   "outputs": [
    {
     "name": "stdout",
     "output_type": "stream",
     "text": [
      "sw\n",
      "True\n",
      "False\n"
     ]
    }
   ],
   "source": [
    "#True, False 첫자는 대문자\n",
    "sw = True \n",
    "print(\"sw\")\n",
    "print(sw)\n",
    " \n",
    "sw = False\n",
    "print(sw)"
   ]
  },
  {
   "cell_type": "code",
   "execution_count": 6,
   "metadata": {},
   "outputs": [
    {
     "name": "stdout",
     "output_type": "stream",
     "text": [
      "10\n",
      "2\n",
      "8\n",
      "16\n",
      "12345678901234567891234567890123456789\n"
     ]
    }
   ],
   "source": [
    "int_data = 10\n",
    "bin_data = 0b10\n",
    "oct_data = 0o10\n",
    "hex_data = 0x10\n",
    "long_data = 12345678901234567891234567890123456789\n",
    "print(int_data)\n",
    "print(bin_data)\n",
    "print(oct_data)\n",
    "print(hex_data)\n",
    "print(long_data)"
   ]
  },
  {
   "cell_type": "code",
   "execution_count": 27,
   "metadata": {},
   "outputs": [
    {
     "name": "stdout",
     "output_type": "stream",
     "text": [
      "sw = False\n",
      "sw =  False\n",
      "sw = False\n",
      "sw =      False\n",
      "sw = False     \n",
      "sw = 2021\n",
      "sw = 10.554000\n",
      "sw = 10.551\n"
     ]
    }
   ],
   "source": [
    "# print(\"sw=\" + sw)  # ERROR\n",
    "print(\"sw = \" + str(sw)) # + 앞뒤항의 데이터는 같아야 함\n",
    "print(\"sw = \", sw)\n",
    "print(\"sw = %s\" %sw)\n",
    "print(\"sw = %10s\" %sw)\n",
    "print(\"sw = %-10s\" %sw)\n",
    "print(\"sw = %d\" %2021)\n",
    "print(\"sw = %f\" %10.554)\n",
    "print(\"sw = %.3f\" %10.551)"
   ]
  },
  {
   "cell_type": "code",
   "execution_count": 28,
   "metadata": {},
   "outputs": [
    {
     "name": "stdout",
     "output_type": "stream",
     "text": [
      "char=A\n",
      "movie=부산행\n",
      "count= 7500000\n",
      "percent: 1.25\n",
      "percent: 1.25\n"
     ]
    }
   ],
   "source": [
    "char = 'A'\n",
    "print('char=' + char)\n",
    " \n",
    "movie='부산행'\n",
    "print('movie=' + movie)\n",
    " \n",
    "count = 7500000\n",
    "print('count=', count)\n",
    " \n",
    "percent = 1.25\n",
    "print('percent: ' + str(percent))\n",
    "print('percent:',percent)"
   ]
  },
  {
   "cell_type": "code",
   "execution_count": 30,
   "metadata": {},
   "outputs": [
    {
     "name": "stdout",
     "output_type": "stream",
     "text": [
      "100의 100%: 100.0\n",
      "100의 50%: 50.0\n",
      "100의 50%: 50.0\n",
      "100의 10%: 10.0\n",
      "100의 1%: 1.0\n",
      "100의 1.5%: 1.5\n",
      "100의 1.5%: 1.5\n",
      "100의 13%: 13.0\n",
      "100의 13%: 13.0\n"
     ]
    }
   ],
   "source": [
    "print('100의 100%: ' + str(100 * 1.0))\n",
    "print('100의 50%: ' + str(100 * 0.5))\n",
    "print('100의 50%: ' + str(100 * (50/100))) # (50/100) -> 0.5\n",
    "print('100의 10%: ' + str(100 * 0.1))\n",
    "print('100의 1%: ' + str(100 * 0.01))\n",
    "print('100의 1.5%: ' + str(100 * 0.015))\n",
    "print('100의 1.5%: ' + str(100 * (1.5/100))) # 100 * 0.015\n",
    "print('100의 13%: ' + str(100 * (13/100)))  # 100 * 0.13\n",
    "print('100의 13%:', (100 * (13/100))) "
   ]
  },
  {
   "cell_type": "code",
   "execution_count": 32,
   "metadata": {},
   "outputs": [
    {
     "name": "stdout",
     "output_type": "stream",
     "text": [
      "1.0\n",
      "7.0\n",
      "(2+3j)\n"
     ]
    }
   ],
   "source": [
    "c1 = 1+7j\n",
    "print(c1.real) #실수부\n",
    "print(c1.imag) #허수부\n",
    "c2 = complex(2, 3)\n",
    "print(c2)"
   ]
  },
  {
   "cell_type": "code",
   "execution_count": 35,
   "metadata": {},
   "outputs": [
    {
     "name": "stdout",
     "output_type": "stream",
     "text": [
      "4\n",
      "63\n",
      "7\n",
      "7.2\n",
      "7.2\n",
      "1\n",
      "25\n",
      "10000\n"
     ]
    }
   ],
   "source": [
    "print(10 - 6) \n",
    "print(9 * 7)\n",
    "print(36 // 5)  #정수형 결과\n",
    "print(36 / 5) #실수형 결과\n",
    "print(36 / 5)\n",
    "# 나머지를 반환하는 \n",
    "print(36 % 5)\n",
    "# 5의 제곱 \n",
    "print(5**2)\n",
    "# 100의 제곱\n",
    "print(100**2) "
   ]
  },
  {
   "cell_type": "code",
   "execution_count": 38,
   "metadata": {},
   "outputs": [
    {
     "name": "stdout",
     "output_type": "stream",
     "text": [
      "6\n",
      "-2\n",
      "8\n",
      "0.5\n",
      "16\n",
      "6.0\n",
      "-12\n",
      "32\n"
     ]
    }
   ],
   "source": [
    "a = 2\n",
    "b = 4\n",
    "ret1 = a+b\n",
    "ret2 = a - b\n",
    "ret3 = a*b         \n",
    "ret4 = a/b         \n",
    "ret5 = a**b        \n",
    "ret6 = a+a*b/a     #*->/->+->-\n",
    "ret7 = (a+b)*(a-b)  #()\n",
    "ret8 = a*b**a   \n",
    "print (ret1)\n",
    "print (ret2)\n",
    "print (ret3)\n",
    "print (ret4)\n",
    "print (ret5)\n",
    "print (ret6)\n",
    "print (ret7)\n",
    "print (ret8)"
   ]
  },
  {
   "cell_type": "code",
   "execution_count": 40,
   "metadata": {},
   "outputs": [
    {
     "name": "stdout",
     "output_type": "stream",
     "text": [
      "0 % 3 = 0\n",
      "1 % 3 = 1\n",
      "2 % 3 = 2\n",
      "3 % 3 = 0\n",
      "4 % 3 = 1\n",
      "5 % 3 = 2\n",
      "1)2015 년\n",
      "2)2016 년\n",
      "3)2017 년\n",
      "4)2018 년\n",
      "5)2017 년\n",
      "최초의 값 val: 55.567\n",
      "val: 5556.7\n",
      "val: 55.56\n",
      "2 ** 3: 8\n"
     ]
    }
   ],
   "source": [
    "print(\"0 % 3 = \" + str(0 % 3))\n",
    "print(\"1 % 3 = \" + str(1 % 3))\n",
    "print(\"2 % 3 = \" + str(2 % 3))\n",
    "print(\"3 % 3 = \" + str(3 % 3))\n",
    "print(\"4 % 3 = \" + str(4 % 3))\n",
    "print(\"5 % 3 = \" + str(5 % 3))\n",
    " \n",
    "year = 2015\n",
    "print(\"1)\" + str(year) + \" 년\")\n",
    " \n",
    "year = year + 1\n",
    "print(\"2)\" + str(year) + \" 년\")\n",
    " \n",
    "year = year + 1\n",
    "print(\"3)\" + str(year) + \" 년\")\n",
    " \n",
    "year += 1\n",
    "print(\"4)\" + str(year) + \" 년\")\n",
    " \n",
    "year -= 1\n",
    "print(\"5)\" + str(year) + \" 년\")\n",
    " \n",
    "val = 55.567\n",
    "print(\"최초의 값 val: \" + str(val))\n",
    " \n",
    "val = val * 100\n",
    "print(\"val: \" + str(val))\n",
    " \n",
    "val = int(val)  #정수형으로 변환(정수만가져옴)\n",
    "val = val / 100\n",
    "print(\"val: \" + str(val))\n",
    " \n",
    "print(\"2 ** 3: \" + str(2 ** 3))"
   ]
  },
  {
   "cell_type": "code",
   "execution_count": 42,
   "metadata": {},
   "outputs": [
    {
     "name": "stdout",
     "output_type": "stream",
     "text": [
      "9\n",
      "9\n",
      "(2, 0)\n",
      "(4, 0)\n",
      "64\n",
      "1\n",
      "5.7\n",
      "6\n"
     ]
    }
   ],
   "source": [
    "#수학내장함수\n",
    "\n",
    "# 9의 절대값\n",
    "print(abs(9))\n",
    " \n",
    "# -9의 절대값\n",
    "print(abs(-9))\n",
    " \n",
    "# 8을 4로 나눈 몫과 나머지로 이루어진 튜플\n",
    "print(divmod(8,4))\n",
    " \n",
    "print(divmod(8,2))\n",
    " \n",
    "# 8의 제곱을 구함\n",
    "print(pow(8,2))\n",
    " \n",
    "# 8의 제곱을 3으로 나눈 나머지  ((8 **2) % 3)\n",
    "print(pow(8,2,3))\n",
    " \n",
    "# 반올림을 수행\n",
    "print(round(5.67,1))\n",
    " \n",
    "print(round(5.67))"
   ]
  },
  {
   "cell_type": "code",
   "execution_count": 1,
   "metadata": {},
   "outputs": [
    {
     "name": "stdout",
     "output_type": "stream",
     "text": [
      "True\n",
      "False\n",
      "False\n",
      "True\n",
      "True\n"
     ]
    }
   ],
   "source": [
    "# True(참,1)와 False(거짓,0)\n",
    "# 비교연산자\n",
    "a = True\n",
    "b = False\n",
    "print(a == 1)       # True가 출력됨\n",
    "print(b != 0)        # False가 출력됨\n",
    " \n",
    "print(8 > 10)\n",
    "print(256 < 725)\n",
    "print(10 == 10)"
   ]
  },
  {
   "cell_type": "code",
   "execution_count": 45,
   "metadata": {},
   "outputs": [
    {
     "name": "stdout",
     "output_type": "stream",
     "text": [
      "practice...\n",
      "practice...\n",
      "practice...\n"
     ]
    }
   ],
   "source": [
    "# 식 내 비교\n",
    "x = 2*8\n",
    "y = 2\n",
    "while x != y:\n",
    "    print('practice...')\n",
    "    y = y*2"
   ]
  },
  {
   "cell_type": "code",
   "execution_count": 1,
   "metadata": {},
   "outputs": [
    {
     "name": "stdout",
     "output_type": "stream",
     "text": [
      "False\n",
      "False\n",
      "True\n",
      "True\n"
     ]
    }
   ],
   "source": [
    "# 삼항비교 => and 연결\n",
    "print(3<1<3)\n",
    "print(3<1 and 1<3)\n",
    "print(3<4<8)\n",
    "print(3<4 and 4<8)"
   ]
  },
  {
   "cell_type": "code",
   "execution_count": 47,
   "metadata": {},
   "outputs": [
    {
     "name": "stdout",
     "output_type": "stream",
     "text": [
      "10\n",
      "31\n",
      "21\n",
      "-15\n",
      "-28\n"
     ]
    }
   ],
   "source": [
    "#비트연산자\n",
    "print(14 & 27)\n",
    "print(14 | 27)\n",
    "print(14 ^ 27)\n",
    "print(~14)\n",
    "print(~27)"
   ]
  },
  {
   "cell_type": "code",
   "execution_count": 48,
   "metadata": {},
   "outputs": [
    {
     "name": "stdout",
     "output_type": "stream",
     "text": [
      "6\n",
      "12\n",
      "96\n",
      "1\n",
      "4\n",
      "5\n",
      "2\n"
     ]
    }
   ],
   "source": [
    "#이동연산자\n",
    "print(3<<1)\n",
    " \n",
    "# 3*2*2와 동등함\n",
    "print(3<<2)\n",
    " \n",
    "# 3*2*2*2*2*2와 동등함\n",
    "print(3<<5)\n",
    " \n",
    "# 오른쪽으로 이동\n",
    "# 3/2와 동등함\n",
    "print(3>>1)\n",
    " \n",
    "# 9/2와 동등함\n",
    "print(9>>1)\n",
    " \n",
    "# 10/2와 동등함\n",
    "print(10>>1)\n",
    " \n",
    "# 10/2/2와 동등함\n",
    "print(10>>2)"
   ]
  },
  {
   "cell_type": "code",
   "execution_count": 49,
   "metadata": {},
   "outputs": [
    {
     "name": "stdout",
     "output_type": "stream",
     "text": [
      "5\n",
      "6\n",
      "30\n"
     ]
    }
   ],
   "source": [
    "x = 5  \n",
    "print(x)\n",
    " \n",
    "# x의 값에 1을 더하여 그 값을 x에 할당\n",
    "x+=1\n",
    "print(x)\n",
    " \n",
    "# x의 값에 5를 곱하여 그 값을 x에 할당\n",
    "x*=5\n",
    "print(x)"
   ]
  }
 ],
 "metadata": {
  "kernelspec": {
   "display_name": "pydata",
   "language": "python",
   "name": "pydata"
  },
  "language_info": {
   "codemirror_mode": {
    "name": "ipython",
    "version": 3
   },
   "file_extension": ".py",
   "mimetype": "text/x-python",
   "name": "python",
   "nbconvert_exporter": "python",
   "pygments_lexer": "ipython3",
   "version": "3.7.10"
  }
 },
 "nbformat": 4,
 "nbformat_minor": 4
}
