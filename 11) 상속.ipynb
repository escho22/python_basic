{
 "cells": [
  {
   "cell_type": "code",
   "execution_count": 12,
   "metadata": {},
   "outputs": [
    {
     "name": "stdout",
     "output_type": "stream",
     "text": [
      "로봇 말한다.\n",
      "로봇 이동한다.\n",
      "로봇 충전한다.\n",
      "로봇 말한다.\n",
      "로봇 먼지를 쓸어 담는다.\n"
     ]
    }
   ],
   "source": [
    "#상속 관계(Is-a)\n",
    "class Robot:\n",
    "    '다양한 로봇 생성 클래스'\n",
    "    \n",
    "    def speak(self):\n",
    "        print('로봇 말한다.')\n",
    "        \n",
    "    def move(self):\n",
    "        print('로봇 이동한다.')\n",
    "    \n",
    "    def charge(self):\n",
    "        print('로봇 충전한다.')\n",
    "        \n",
    "class CleanRobot(Robot):\n",
    "    def broom(self):\n",
    "        print('로봇 먼지를 쓸어 담는다.')\n",
    "        \n",
    "robot1 = Robot() #부모 객체만 생성\n",
    "robot1.speak()\n",
    "robot1.move()\n",
    "robot1.charge()\n",
    "\n",
    "robot2_clean = CleanRobot() #자식 객체 생성 => 부모 객체도 생성(부모 속성, 메소드를 상속받음)\n",
    "robot2_clean.speak() \n",
    "robot2_clean.broom()"
   ]
  },
  {
   "cell_type": "code",
   "execution_count": 6,
   "metadata": {},
   "outputs": [
    {
     "data": {
      "text/plain": [
       "'고길동'"
      ]
     },
     "execution_count": 6,
     "metadata": {},
     "output_type": "execute_result"
    }
   ],
   "source": [
    "class Parent:\n",
    "    def __init__(self, name):\n",
    "        self.name = name\n",
    "        \n",
    "class Child(Parent):\n",
    "    pass\n",
    "\n",
    "#c = Child() #오류, 부모 객체의 매개변수를 충족시키지 못함\n",
    "c = Child('고길동')\n",
    "c.name"
   ]
  },
  {
   "cell_type": "code",
   "execution_count": 7,
   "metadata": {},
   "outputs": [
    {
     "name": "stdout",
     "output_type": "stream",
     "text": [
      "자식\n"
     ]
    }
   ],
   "source": [
    "#super : 부모 클래스를 의미하는 내장 함수\n",
    "#부모, 자식 모두 __init__이 있다면 자식객체를 생성하면 자식만 호출됨\n",
    "#따라서, 부모의 __init__을 호출하기 위해서는 super().__init__()으로 호출\n",
    "\n",
    "class Parent:\n",
    "    def __init__(self):\n",
    "        print('부모')\n",
    "        \n",
    "class Child(Parent):\n",
    "    def __init__(self):\n",
    "        print('자식')\n",
    "        \n",
    "c = Child() #자식 객체 __init__만 호출됨"
   ]
  },
  {
   "cell_type": "code",
   "execution_count": 11,
   "metadata": {},
   "outputs": [
    {
     "name": "stdout",
     "output_type": "stream",
     "text": [
      "부모\n",
      "자식\n",
      "고길동\n",
      "27\n"
     ]
    }
   ],
   "source": [
    "class Parent:\n",
    "    def __init__(self, name):\n",
    "        self.name = name\n",
    "        print('부모')\n",
    "        \n",
    "class Child(Parent):\n",
    "    def __init__(self, name, age):\n",
    "        super().__init__(name)\n",
    "        self.age = age\n",
    "        print('자식')\n",
    "        \n",
    "c = Child('고길동', 27) #부모도, 자식도 만들어짐\n",
    "print(c.name)\n",
    "print(c.age)"
   ]
  },
  {
   "cell_type": "code",
   "execution_count": 16,
   "metadata": {},
   "outputs": [
    {
     "name": "stdout",
     "output_type": "stream",
     "text": [
      "먼지 필터(을/를) 장착한 깔끔 고로봇, (20, 45)에서 청소를 시작한다.\n",
      "로봇 이동한다.\n",
      "로봇 먼지를 쓸어 담는다.\n"
     ]
    }
   ],
   "source": [
    "class Robot:\n",
    "    '다양한 로봇 생성 클래스'\n",
    "    \n",
    "    def __init__(self, name, pos):\n",
    "        self.name = name\n",
    "        self.pos = pos\n",
    "        \n",
    "    def move(self):\n",
    "        print('로봇 이동한다.')\n",
    "        \n",
    "    def charge(self):\n",
    "        print('로봇 충전한다.')\n",
    "        \n",
    "class CleanRobot(Robot):\n",
    "    def __init__(self, name, pos, filtertype):\n",
    "        super().__init__(name, pos) #받은 인자를 부모 객체에 보냄\n",
    "        self.filtertype = filtertype\n",
    "        \n",
    "    def broom(self):\n",
    "        print('로봇 먼지를 쓸어 담는다.')\n",
    "        \n",
    "    def __str__(self):\n",
    "        word = '{}(을/를) 장착한 {}, {}에서 청소를 시작한다.'\\\n",
    "                .format(self.filtertype, self.name, self.pos)\n",
    "        return word\n",
    "    \n",
    "robot_clean = CleanRobot('깔끔 고로봇', (20, 45), '먼지 필터')\n",
    "print(robot_clean) #__str__ 리턴값 출력\n",
    "robot_clean.move() #부모 메소드 호출 가능\n",
    "robot_clean.broom() #자식 메소드 호출 가능"
   ]
  },
  {
   "cell_type": "code",
   "execution_count": 19,
   "metadata": {},
   "outputs": [
    {
     "name": "stdout",
     "output_type": "stream",
     "text": [
      "자식\n",
      "자식\n"
     ]
    }
   ],
   "source": [
    "#오버라이딩 : 부모것이 은닉되어버림\n",
    "class Parent:\n",
    "    name = '부모'\n",
    "    \n",
    "    def print_name(self):\n",
    "        print('부모')\n",
    "    \n",
    "class Child(Parent):\n",
    "    name = '자식'\n",
    "    \n",
    "    def print_name(self):\n",
    "        print('자식')\n",
    "        \n",
    "c = Child()\n",
    "print(c.name) #자식 속성, 메소드 위주로 호출\n",
    "c.print_name()"
   ]
  },
  {
   "cell_type": "code",
   "execution_count": 23,
   "metadata": {},
   "outputs": [
    {
     "name": "stdout",
     "output_type": "stream",
     "text": [
      "우와우\n",
      "강아지가 소리를 냅니다. 멍멍멍\n",
      "새가 노래를 부릅니다. 짹짹짹\n"
     ]
    }
   ],
   "source": [
    "class Animal:\n",
    "    def say(self, message):\n",
    "        return message\n",
    "    \n",
    "class Dog(Animal):\n",
    "    def say(self, message):\n",
    "        print('강아지가 소리를 냅니다.', message)\n",
    "        \n",
    "class Bird(Animal):\n",
    "    def say(self, message):\n",
    "        print('새가 노래를 부릅니다.', message)\n",
    "        \n",
    "animal = Animal()\n",
    "print(animal.say('우와우'))\n",
    "\n",
    "dog = Dog()\n",
    "dog.say('멍멍멍')\n",
    "\n",
    "bird = Bird()\n",
    "bird.say('짹짹짹')"
   ]
  },
  {
   "cell_type": "code",
   "execution_count": 24,
   "metadata": {},
   "outputs": [
    {
     "name": "stdout",
     "output_type": "stream",
     "text": [
      "로봇 이동한다.\n",
      "로봇 충전한다.\n",
      "청소 로봇 이동한다.\n",
      "청소 로봇 충전한다.\n"
     ]
    }
   ],
   "source": [
    "class Robot:\n",
    "    '다양한 로봇 생성 클래스'\n",
    "    \n",
    "    def move(self):\n",
    "        print('로봇 이동한다.')\n",
    "        \n",
    "    def charge(self):\n",
    "        print('로봇 충전한다.')\n",
    "        \n",
    "class CleanRobot(Robot):\n",
    "    def move(self):\n",
    "        print('청소 로봇 이동한다.')\n",
    "        \n",
    "    def charge(self):\n",
    "        print('청소 로봇 충전한다.')\n",
    "        \n",
    "robot1 = Robot()\n",
    "robot1.move()\n",
    "robot1.charge()\n",
    "\n",
    "robot2 = CleanRobot()\n",
    "robot2.move()\n",
    "robot2.charge()"
   ]
  },
  {
   "cell_type": "code",
   "execution_count": 25,
   "metadata": {},
   "outputs": [
    {
     "name": "stdout",
     "output_type": "stream",
     "text": [
      "고길동\n",
      "27\n"
     ]
    }
   ],
   "source": [
    "#포함 관계(Has-a)\n",
    "#상속 관계는 부모 클래스 메모리 차지가 있음\n",
    "#부모가 필요하지만 많이 쓰여질 일이 없다고 할때 포함 관계 => 지역 변수로 객체 생성하고 삭제됨\n",
    "#client 객체 생성 > association 객체 생성 > association.other_init() 접근 가능\n",
    "class Association:\n",
    "    def other_init(self, other, name): #other:client 참조값(c id값)\n",
    "        other.name = name #client 객체의 속성을 할당해줌\n",
    "        \n",
    "class Client:\n",
    "    def __init__(self, name, age): \n",
    "        _name = Association() #지역변수 => 객체 생성 후 사라짐 \n",
    "        _name.other_init(self, name) #self:client 참조값(c id값)\n",
    "        self.age = age\n",
    "        \n",
    "c1 = Client('고길동', 27) #client 객체 속성, 메소드만 남음\n",
    "print(c1.name)\n",
    "print(c1.age)"
   ]
  },
  {
   "cell_type": "code",
   "execution_count": 29,
   "metadata": {},
   "outputs": [
    {
     "name": "stdout",
     "output_type": "stream",
     "text": [
      "뒤로 이동한다.\n",
      "앞으로 이동한다.\n",
      "앞으로 이동한다.\n",
      "앞으로 이동한다.\n",
      "뒤로 이동한다.\n",
      "뒤로 이동한다.\n",
      "뒤로 이동한다.\n",
      "뒤로 이동한다.\n",
      "뒤로 이동한다.\n",
      "뒤로 이동한다.\n",
      "이동 거리 : -4\n"
     ]
    }
   ],
   "source": [
    "import random\n",
    "\n",
    "class Motor:\n",
    "    def __init__(self):\n",
    "        self.distance = 0 #초기화 => 속성 생성\n",
    "        \n",
    "    def forward(self):\n",
    "        print('앞으로 이동한다.')\n",
    "        self.distance += 1\n",
    "        \n",
    "    def backward(self):\n",
    "        print('뒤로 이동한다.')\n",
    "        self.distance -= 1\n",
    "        \n",
    "class Robot:\n",
    "    '다양한 로봇 생성 클래스'\n",
    "    \n",
    "    def __init__(self):\n",
    "        self.drive = Motor()\n",
    "        \n",
    "    def __str__(self):\n",
    "        return '이동 거리 : {}' .format(self.drive.distance)\n",
    "    \n",
    "robot = Robot()\n",
    "\n",
    "for i in range(10):\n",
    "    if random.randint(0, 1):#randint:정수형 난수 추출(0,1 중에서)\n",
    "        robot.drive.forward()\n",
    "    else:\n",
    "        robot.drive.backward()\n",
    "        \n",
    "print(robot)"
   ]
  },
  {
   "cell_type": "code",
   "execution_count": 32,
   "metadata": {},
   "outputs": [
    {
     "name": "stdout",
     "output_type": "stream",
     "text": [
      "나눌 숫자를 입력하세요 0\n",
      "0으로 나누면 안돼요.\n",
      "프로그램 정상 종료\n"
     ]
    }
   ],
   "source": [
    "#예외 처리\n",
    "number = int(input('나눌 숫자를 입력하세요 ')) \n",
    " \n",
    "try:\n",
    "    result = 10/number\n",
    "except ZeroDivisionError: #문자 입력시 오류\n",
    "    print('0으로 나눌 수 없습니다.')\n",
    "else:\n",
    "    print(result)\n",
    "    \n",
    "print(\"프로그램 정상 종료\")    "
   ]
  },
  {
   "cell_type": "code",
   "execution_count": 38,
   "metadata": {},
   "outputs": [
    {
     "name": "stdout",
     "output_type": "stream",
     "text": [
      "나눌 숫자를 입력하세요 8878787878787878682131212\n",
      "1.1262798634812287e-24\n"
     ]
    }
   ],
   "source": [
    "try:\n",
    "    number = int(input('나눌 숫자를 입력하세요 '))\n",
    "    result = 10/number\n",
    "except ValueError:\n",
    "    print('숫자만 입력하세요.')\n",
    "except ZeroDivisionError:\n",
    "    print('0으로 나눌 수 없습니다.')\n",
    "except:\n",
    "    print('2가지 외 개발자가 예측하지 못한 에러가 발생했습니다.')\n",
    "else:\n",
    "    print(result)  "
   ]
  },
  {
   "cell_type": "code",
   "execution_count": 40,
   "metadata": {},
   "outputs": [
    {
     "name": "stdout",
     "output_type": "stream",
     "text": [
      "나눌 숫자를 입력하세요.0\n",
      "문자 혹은 0으로는 나눌 수 없습니다.\n"
     ]
    }
   ],
   "source": [
    "try:\n",
    "    number = int(input('나눌 숫자를 입력하세요.'))\n",
    "    result = 10/number\n",
    "except (ValueError, ZeroDivisionError):\n",
    "    print('문자 혹은 0으로는 나눌 수 없습니다.')\n",
    "except:\n",
    "    print('2가지 외 개발자가 예측하지 못한 에러가 발생했습니다.')\n",
    "else:\n",
    "    print(result)"
   ]
  },
  {
   "cell_type": "code",
   "execution_count": 42,
   "metadata": {},
   "outputs": [
    {
     "name": "stdout",
     "output_type": "stream",
     "text": [
      "시스템 에러 :  [Errno 2] No such file or directory: 'notexistfile.txt'\n"
     ]
    }
   ],
   "source": [
    "def openFile():\n",
    "    file = open('notexistfile.txt', 'r')\n",
    "    line = file.readline()\n",
    "    number = int(line.strip())\n",
    "    \n",
    "try:\n",
    "    openFile()\n",
    "except OSError as err:\n",
    "    print('시스템 에러 : ', err)\n",
    "except:\n",
    "    print('예측하지 못한 에러')\n",
    "else:\n",
    "    print(number)"
   ]
  },
  {
   "cell_type": "code",
   "execution_count": 45,
   "metadata": {},
   "outputs": [
    {
     "name": "stdout",
     "output_type": "stream",
     "text": [
      "Oops!\n"
     ]
    },
    {
     "ename": "UnboundLocalError",
     "evalue": "local variable 'f' referenced before assignment",
     "output_type": "error",
     "traceback": [
      "\u001b[1;31m---------------------------------------------------------------------------\u001b[0m",
      "\u001b[1;31mUnboundLocalError\u001b[0m                         Traceback (most recent call last)",
      "\u001b[1;32m<ipython-input-45-4f5e0ee99f1c>\u001b[0m in \u001b[0;36m<module>\u001b[1;34m\u001b[0m\n\u001b[0;32m     20\u001b[0m         \u001b[0mf\u001b[0m\u001b[1;33m.\u001b[0m\u001b[0mclose\u001b[0m\u001b[1;33m(\u001b[0m\u001b[1;33m)\u001b[0m\u001b[1;33m\u001b[0m\u001b[1;33m\u001b[0m\u001b[0m\n\u001b[0;32m     21\u001b[0m \u001b[1;33m\u001b[0m\u001b[0m\n\u001b[1;32m---> 22\u001b[1;33m \u001b[0mreadFile\u001b[0m\u001b[1;33m(\u001b[0m\u001b[1;33m)\u001b[0m\u001b[1;33m\u001b[0m\u001b[1;33m\u001b[0m\u001b[0m\n\u001b[0m\u001b[0;32m     23\u001b[0m \u001b[0mwriteFile\u001b[0m\u001b[1;33m(\u001b[0m\u001b[1;33m)\u001b[0m\u001b[1;33m\u001b[0m\u001b[1;33m\u001b[0m\u001b[0m\n",
      "\u001b[1;32m<ipython-input-45-4f5e0ee99f1c>\u001b[0m in \u001b[0;36mreadFile\u001b[1;34m()\u001b[0m\n\u001b[0;32m     18\u001b[0m         \u001b[0mprint\u001b[0m\u001b[1;33m(\u001b[0m\u001b[0mline\u001b[0m\u001b[1;33m)\u001b[0m\u001b[1;33m\u001b[0m\u001b[1;33m\u001b[0m\u001b[0m\n\u001b[0;32m     19\u001b[0m     \u001b[1;32mfinally\u001b[0m\u001b[1;33m:\u001b[0m\u001b[1;33m\u001b[0m\u001b[1;33m\u001b[0m\u001b[0m\n\u001b[1;32m---> 20\u001b[1;33m         \u001b[0mf\u001b[0m\u001b[1;33m.\u001b[0m\u001b[0mclose\u001b[0m\u001b[1;33m(\u001b[0m\u001b[1;33m)\u001b[0m\u001b[1;33m\u001b[0m\u001b[1;33m\u001b[0m\u001b[0m\n\u001b[0m\u001b[0;32m     21\u001b[0m \u001b[1;33m\u001b[0m\u001b[0m\n\u001b[0;32m     22\u001b[0m \u001b[0mreadFile\u001b[0m\u001b[1;33m(\u001b[0m\u001b[1;33m)\u001b[0m\u001b[1;33m\u001b[0m\u001b[1;33m\u001b[0m\u001b[0m\n",
      "\u001b[1;31mUnboundLocalError\u001b[0m: local variable 'f' referenced before assignment"
     ]
    }
   ],
   "source": [
    "def writeFile():\n",
    "    try:\n",
    "        f = open('file', 'w')\n",
    "        try:\n",
    "            f.write('안녕?')\n",
    "        finally:\n",
    "            f.close()\n",
    "    except OSError:\n",
    "        print('Oops!')\n",
    "        \n",
    "def readFile():\n",
    "    try:\n",
    "        f = open('file', 'r')\n",
    "        line = f.readline()\n",
    "    except OSError:\n",
    "        print('Oops!')\n",
    "    else:\n",
    "        print(line)\n",
    "    finally:\n",
    "        f.close()\n",
    "        \n",
    "readFile()\n",
    "writeFile()"
   ]
  },
  {
   "cell_type": "code",
   "execution_count": null,
   "metadata": {},
   "outputs": [],
   "source": [
    "def writeFile():\n",
    "    try:\n",
    "        f = open('file', 'w')\n",
    "        try:\n",
    "            f.write('안녕?')\n",
    "        finally:\n",
    "            f.close()\n",
    "    except OSError:\n",
    "        print('Oops!')\n",
    "        \n",
    "def readFile():\n",
    "    try:\n",
    "        f = open('file', 'r')\n",
    "        line = f.readline()\n",
    "    except OSError:\n",
    "        print('Oops!')\n",
    "    else:\n",
    "        print(line)\n",
    "    finally:\n",
    "        f.close()"
   ]
  },
  {
   "cell_type": "code",
   "execution_count": 53,
   "metadata": {},
   "outputs": [
    {
     "name": "stdout",
     "output_type": "stream",
     "text": [
      "이차방정식이 아닙니다. (0, 100, 10)\n",
      "방정식의 근은  -0.5 -1.0 입니다.\n",
      "방정식의 근이 없습니다. (1, 1, 1)\n"
     ]
    }
   ],
   "source": [
    "#사용자 정의 예외\n",
    "import math\n",
    "\n",
    "#사용자 정의 예외 => Exception 상속받음\n",
    "class QuadError(Exception):\n",
    "    pass\n",
    "\n",
    "def quad(a,b,c):\n",
    "    if a == 0:\n",
    "        qe = QuadError('이차방정식이 아닙니다.') #객체 생성\n",
    "        qe.member = (a,b,c) #객체의 속성 할당\n",
    "        raise qe\n",
    "        \n",
    "    if b*b - 4*a*c < 0:\n",
    "        qe = QuadError('방정식의 근이 없습니다.')\n",
    "        qe.member = (a,b,c)\n",
    "        raise qe\n",
    "    \n",
    "    else:\n",
    "        x1 = (-b + math.sqrt(b*b - 4*a*c))/(2*a)\n",
    "        x2 = (-b - math.sqrt(b*b - 4*a*c))/(2*a)\n",
    "        return (x1, x2)\n",
    "    \n",
    "def getQuad(a,b,c):\n",
    "    try:\n",
    "        x1, x2 = quad(a,b,c)\n",
    "        print('방정식의 근은 ', x1, x2, '입니다.')\n",
    "        \n",
    "    except QuadError as err:\n",
    "        print(err, err.member)\n",
    "        \n",
    "getQuad(0, 100, 10)\n",
    "getQuad(2, 3, 1)\n",
    "getQuad(1, 1, 1)"
   ]
  }
 ],
 "metadata": {
  "kernelspec": {
   "display_name": "pydata",
   "language": "python",
   "name": "pydata"
  },
  "language_info": {
   "codemirror_mode": {
    "name": "ipython",
    "version": 3
   },
   "file_extension": ".py",
   "mimetype": "text/x-python",
   "name": "python",
   "nbconvert_exporter": "python",
   "pygments_lexer": "ipython3",
   "version": "3.7.10"
  }
 },
 "nbformat": 4,
 "nbformat_minor": 4
}
