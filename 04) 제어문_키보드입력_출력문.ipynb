{
 "cells": [
  {
   "cell_type": "code",
   "execution_count": 3,
   "metadata": {},
   "outputs": [
    {
     "name": "stdout",
     "output_type": "stream",
     "text": [
      "x != y and x < y\n"
     ]
    }
   ],
   "source": [
    "#if\n",
    "x = 3\n",
    "y = 5\n",
    "if x == y:\n",
    "    print('x == y')\n",
    "elif x > y:\n",
    "    print('x > y')\n",
    "else:\n",
    "    print('x != y and x < y')"
   ]
  },
  {
   "cell_type": "code",
   "execution_count": 4,
   "metadata": {},
   "outputs": [
    {
     "name": "stdout",
     "output_type": "stream",
     "text": [
      "y is 7 less than x\n",
      "y is 6 less than x\n",
      "y is 5 less than x\n",
      "y is 4 less than x\n",
      "y is 3 less than x\n",
      "y is 2 less than x\n",
      "y is 1 less than x\n"
     ]
    }
   ],
   "source": [
    "#while\n",
    "x = 9\n",
    "y = 2\n",
    "while y < x:\n",
    "    print('y is %d less than x' %(x-y))\n",
    "    y += 1"
   ]
  },
  {
   "cell_type": "code",
   "execution_count": 11,
   "metadata": {},
   "outputs": [
    {
     "name": "stdout",
     "output_type": "stream",
     "text": [
      "x < 3\n",
      "x < 3\n",
      "3\n",
      "4\n",
      "5\n",
      "6\n",
      "7\n",
      "8\n"
     ]
    }
   ],
   "source": [
    "#continue, break\n",
    "x = 0\n",
    "while x < 10:\n",
    "    x += 1\n",
    "    if x < 3:\n",
    "        print('x < 3')\n",
    "        continue #while문으로 이동, continue 이하는 실행하지 않음\n",
    "    print(x)\n",
    "    if x > 7:\n",
    "        break #while문을 완전히 빠져나옴"
   ]
  },
  {
   "cell_type": "code",
   "execution_count": 13,
   "metadata": {},
   "outputs": [
    {
     "name": "stdout",
     "output_type": "stream",
     "text": [
      "447\n",
      "100128\n"
     ]
    }
   ],
   "source": [
    "x = 1\n",
    "total = 0 \n",
    "while 1: #무한반복, 1 = True\n",
    "    total += x\n",
    "    if total > 100000:\n",
    "        print(x)\n",
    "        print(total)\n",
    "        break\n",
    "    x += 1"
   ]
  },
  {
   "cell_type": "code",
   "execution_count": 15,
   "metadata": {},
   "outputs": [
    {
     "name": "stdout",
     "output_type": "stream",
     "text": [
      "0\n",
      "1\n",
      "2\n",
      "3\n",
      "4\n",
      "5\n",
      "6\n",
      "7\n",
      "8\n",
      "9\n"
     ]
    }
   ],
   "source": [
    "for x in range(10):\n",
    "    print(x)"
   ]
  },
  {
   "cell_type": "code",
   "execution_count": 16,
   "metadata": {},
   "outputs": [
    {
     "name": "stdout",
     "output_type": "stream",
     "text": [
      "1\n",
      "2\n",
      "3\n",
      "4\n",
      "5\n"
     ]
    }
   ],
   "source": [
    "scope = [1,2,3,4,5]\n",
    "for x in scope:\n",
    "    print(x)"
   ]
  },
  {
   "cell_type": "code",
   "execution_count": 21,
   "metadata": {},
   "outputs": [
    {
     "name": "stdout",
     "output_type": "stream",
     "text": [
      "a b c d e f "
     ]
    }
   ],
   "source": [
    "str = 'abcdef'\n",
    "for c in str:\n",
    "    print(c, end=\" \")"
   ]
  },
  {
   "cell_type": "code",
   "execution_count": 33,
   "metadata": {},
   "outputs": [
    {
     "name": "stdout",
     "output_type": "stream",
     "text": [
      "a : 97\n",
      "b : 98\n",
      "c : 99\n"
     ]
    },
    {
     "data": {
      "text/plain": [
       "99"
      ]
     },
     "execution_count": 33,
     "metadata": {},
     "output_type": "execute_result"
    }
   ],
   "source": [
    "ascii_codes = {'a':97, 'b':98, 'c':99} #key : value =. dictionary\n",
    "for c in ascii_codes: #기본 key값 \n",
    "    print(c, ':', ascii_codes[c])\n",
    "ord('c')    "
   ]
  },
  {
   "cell_type": "code",
   "execution_count": 34,
   "metadata": {},
   "outputs": [
    {
     "name": "stdout",
     "output_type": "stream",
     "text": [
      "1\n",
      "2\n",
      "3\n"
     ]
    }
   ],
   "source": [
    "scope = [1,2,3,4,5]\n",
    "for x in scope:\n",
    "    print(x)\n",
    "    if x < 3:\n",
    "        continue\n",
    "    else:\n",
    "        break"
   ]
  },
  {
   "cell_type": "code",
   "execution_count": 35,
   "metadata": {},
   "outputs": [
    {
     "name": "stdout",
     "output_type": "stream",
     "text": [
      "1\n",
      "2\n",
      "3\n",
      "Complete\n"
     ]
    }
   ],
   "source": [
    "scope = [1,2,3]\n",
    "for x in scope:\n",
    "    print(x)\n",
    "else: #for문 완료 후\n",
    "    print('Complete') "
   ]
  },
  {
   "cell_type": "code",
   "execution_count": 39,
   "metadata": {},
   "outputs": [
    {
     "name": "stdout",
     "output_type": "stream",
     "text": [
      "Enter Your Name.Gil-Dong Ko\n",
      "Gil-Dong Ko\n"
     ]
    }
   ],
   "source": [
    "#키보드 입력\n",
    "name = input('Enter Your Name.')\n",
    "print(name)"
   ]
  },
  {
   "cell_type": "code",
   "execution_count": 40,
   "metadata": {},
   "outputs": [
    {
     "name": "stdout",
     "output_type": "stream",
     "text": [
      "Please provide an expression4*12=?\n"
     ]
    },
    {
     "data": {
      "text/plain": [
       "'4*12=?'"
      ]
     },
     "execution_count": 40,
     "metadata": {},
     "output_type": "execute_result"
    }
   ],
   "source": [
    "val = input('Please provide an expression.')\n",
    "val"
   ]
  },
  {
   "cell_type": "code",
   "execution_count": 41,
   "metadata": {},
   "outputs": [
    {
     "name": "stdout",
     "output_type": "stream",
     "text": [
      "This text will be printed to the command line\n",
      "I love programming in Jython\n"
     ]
    }
   ],
   "source": [
    "#츨력문\n",
    "print ('This text will be printed to the command line')\n",
    " \n",
    "my_value = 'I love programming in Jython'\n",
    "print (my_value) #메모리 할당 후 출력"
   ]
  },
  {
   "cell_type": "code",
   "execution_count": 1,
   "metadata": {},
   "outputs": [
    {
     "name": "stdout",
     "output_type": "stream",
     "text": [
      "I am a fan of the number:  10\n",
      "I am a fan of the number: 10\n"
     ]
    }
   ],
   "source": [
    "z = 10\n",
    "#print ('I am a fan of the number: ' + z)\n",
    "print ('I am a fan of the number: ' , z)\n",
    "print ('I am a fan of the number: ' + str(z))"
   ]
  },
  {
   "cell_type": "code",
   "execution_count": 4,
   "metadata": {},
   "outputs": [
    {
     "name": "stdout",
     "output_type": "stream",
     "text": [
      "내용을 출력합니다. value는 5, hello world, 그리고 3.998000가 있습니다.\n"
     ]
    }
   ],
   "source": [
    "string_value = 'hello world'\n",
    "float_value = 3.998\n",
    "decimal_value = 5\n",
    "print('내용을 출력합니다. value는 %d, %s, 그리고 %f가 있습니다.' %(decimal_value, string_value, float_value))"
   ]
  },
  {
   "cell_type": "code",
   "execution_count": 6,
   "metadata": {},
   "outputs": [
    {
     "name": "stdout",
     "output_type": "stream",
     "text": [
      "The value of x + y is 3...\n"
     ]
    }
   ],
   "source": [
    "x = 1\n",
    "y = 2\n",
    "print('The value of x + y is %d...' %(x+y))"
   ]
  },
  {
   "cell_type": "code",
   "execution_count": 8,
   "metadata": {},
   "outputs": [
    {
     "name": "stdout",
     "output_type": "stream",
     "text": [
      "2.3456\n",
      "2\n",
      "2.345600\n"
     ]
    }
   ],
   "source": [
    "#출력 포맷 지정\n",
    "x = 2.3456\n",
    "print('%s' %x) #문자형\n",
    "print('%d' %x) #정수형\n",
    "print('%f' %x) #실수형 : 소수점 이하 6자리"
   ]
  }
 ],
 "metadata": {
  "kernelspec": {
   "display_name": "pydata",
   "language": "python",
   "name": "pydata"
  },
  "language_info": {
   "codemirror_mode": {
    "name": "ipython",
    "version": 3
   },
   "file_extension": ".py",
   "mimetype": "text/x-python",
   "name": "python",
   "nbconvert_exporter": "python",
   "pygments_lexer": "ipython3",
   "version": "3.7.10"
  }
 },
 "nbformat": 4,
 "nbformat_minor": 4
}
