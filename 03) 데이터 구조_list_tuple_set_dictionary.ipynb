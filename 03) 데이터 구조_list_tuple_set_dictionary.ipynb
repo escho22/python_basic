{
 "cells": [
  {
   "cell_type": "code",
   "execution_count": 7,
   "metadata": {},
   "outputs": [
    {
     "name": "stdout",
     "output_type": "stream",
     "text": [
      "[1]\n",
      "['new_item1', 'new_item2', [1, 2, 3, 4], 'new_item3']\n",
      "[1, 2, 3, 4]\n",
      "['new_item1', 'new_item2']\n",
      "['new_item1', 'new_item2', [1, 2, 3, 4], 'new_item3']\n"
     ]
    }
   ],
   "source": [
    "# 빈 목록을 정의\n",
    "my_list = []\n",
    "my_list = list()  # 가끔 사용됨\n",
    " \n",
    "# 하나의 원소를 가진 목록\n",
    "my_list = [1]\n",
    "print(my_list)  \n",
    " \n",
    "# 문자열 값의 목록을 정의\n",
    "my_string_list = ['Hello', 'Python' ,'Lists']\n",
    " \n",
    "# 복수의 자료형을 포함하는 목록을 정의\n",
    "multi_list = [1, 2, 'three', 4, 'five', 'six']\n",
    " \n",
    "# 목록을 포함하는 목록을 정의\n",
    "combo_list = [1, my_string_list, multi_list]\n",
    " \n",
    "# 목록을 포함하는 목록을 한 줄로 정의\n",
    "my_new_list = ['new_item1', 'new_item2', [1, 2, 3, 4], 'new_item3']\n",
    "print (my_new_list)\n",
    "print(my_new_list[-2])\n",
    "print(my_new_list[0:2])\n",
    "\n",
    "# 데이터 복사\n",
    "my_string_list_copy = my_new_list[:]\n",
    "print(my_string_list_copy)"
   ]
  },
  {
   "cell_type": "code",
   "execution_count": 26,
   "metadata": {},
   "outputs": [
    {
     "name": "stdout",
     "output_type": "stream",
     "text": [
      "[2, 6, 10, 14, 18]\n",
      "[2, 6, 10, 14, 18]\n"
     ]
    }
   ],
   "source": [
    "# 새로운 리스트생성\n",
    "new_list=[2, 4, 6, 8, 10, 12, 14, 16, 18, 20]\n",
    " \n",
    "# 시작인덱스:끝인덱스:간격\n",
    "print(new_list[0:10:2])\n",
    "print(new_list[::2])"
   ]
  },
  {
   "cell_type": "code",
   "execution_count": 27,
   "metadata": {},
   "outputs": [
    {
     "name": "stdout",
     "output_type": "stream",
     "text": [
      "[2, 4, 6, 8, 10, 12, 14, 16, 18, 25]\n"
     ]
    }
   ],
   "source": [
    "new_list[9] = 25\n",
    "print(new_list)"
   ]
  },
  {
   "cell_type": "code",
   "execution_count": 28,
   "metadata": {},
   "outputs": [
    {
     "name": "stdout",
     "output_type": "stream",
     "text": [
      "['a', 'b', 'c', 'd', 'e', 'f', 'g', 'h']\n"
     ]
    }
   ],
   "source": [
    "new_list=['a','b','c','d','e','f','g']\n",
    "new_list.append('h')\n",
    "print(new_list)"
   ]
  },
  {
   "cell_type": "code",
   "execution_count": 29,
   "metadata": {},
   "outputs": [
    {
     "name": "stdout",
     "output_type": "stream",
     "text": [
      "['a', 'b', 'c', 'd', 'e', 'f', 'g', 'h', ['h', 'i', 'j', 'k', 'l', 'm', 'n', 'o', 'p']]\n"
     ]
    }
   ],
   "source": [
    "new_list2=['h','i','j','k','l','m','n','o','p']\n",
    "new_list.append(new_list2) #list안의 list로 합쳐짐\n",
    "print(new_list)"
   ]
  },
  {
   "cell_type": "code",
   "execution_count": 30,
   "metadata": {},
   "outputs": [
    {
     "name": "stdout",
     "output_type": "stream",
     "text": [
      "['a', 'b', 'c', 'd', 'e', 'f', 'g', 'h', ['h', 'i', 'j', 'k', 'l', 'm', 'n', 'o', 'p'], 'h', 'i', 'j', 'k', 'l', 'm', 'n', 'o', 'p']\n"
     ]
    }
   ],
   "source": [
    "new_list.extend(new_list2) #같은 list로 합쳐짐\n",
    "print(new_list)"
   ]
  },
  {
   "cell_type": "code",
   "execution_count": 31,
   "metadata": {},
   "outputs": [
    {
     "name": "stdout",
     "output_type": "stream",
     "text": [
      "['a', 'b', 'c', 'c', 'd', 'e', 'f', 'g', 'h', ['h', 'i', 'j', 'k', 'l', 'm', 'n', 'o', 'p'], 'h', 'i', 'j', 'k', 'l', 'm', 'n', 'o', 'p']\n"
     ]
    }
   ],
   "source": [
    "new_list.insert(2, 'c')\n",
    "print(new_list)"
   ]
  },
  {
   "cell_type": "code",
   "execution_count": 32,
   "metadata": {},
   "outputs": [
    {
     "name": "stdout",
     "output_type": "stream",
     "text": [
      "['a', 'b', ['a', 'b', 'c', 'c', 'd', 'e', 'f', 'g', 'h', ['h', 'i', 'j', 'k', 'l', 'm', 'n', 'o', 'p'], 'h', 'i', 'j', 'k', 'l', 'm', 'n', 'o', 'p'], 'c']\n"
     ]
    }
   ],
   "source": [
    "another_list = ['a', 'b', 'c']\n",
    "another_list.insert(2, new_list)\n",
    "print(another_list)"
   ]
  },
  {
   "cell_type": "code",
   "execution_count": 33,
   "metadata": {},
   "outputs": [
    {
     "name": "stdout",
     "output_type": "stream",
     "text": [
      "[500, 600, 700, 800, 300, 400]\n"
     ]
    }
   ],
   "source": [
    "new_listA=[100,200,300,400]\n",
    "new_listB=[500,600,700,800]\n",
    "new_listA[0:2] = new_listB\n",
    "print(new_listA)"
   ]
  },
  {
   "cell_type": "code",
   "execution_count": 35,
   "metadata": {},
   "outputs": [
    {
     "name": "stdout",
     "output_type": "stream",
     "text": [
      "[]\n",
      "['a', 'b', 'e', 'f', 'c', 'd']\n"
     ]
    }
   ],
   "source": [
    "one = ['a', 'b', 'c', 'd']\n",
    "two = ['e', 'f']\n",
    "print(one[2:2])\n",
    "one[2:2] = two\n",
    "print(one)"
   ]
  },
  {
   "cell_type": "code",
   "execution_count": 38,
   "metadata": {},
   "outputs": [
    {
     "name": "stdout",
     "output_type": "stream",
     "text": [
      "['a', 'b', 'd', 'e', 'f']\n",
      "['a', 'e', 'f']\n"
     ]
    },
    {
     "ename": "NameError",
     "evalue": "name 'new_list3' is not defined",
     "output_type": "error",
     "traceback": [
      "\u001b[1;31m---------------------------------------------------------------------------\u001b[0m",
      "\u001b[1;31mNameError\u001b[0m                                 Traceback (most recent call last)",
      "\u001b[1;32m<ipython-input-38-32587c0309c8>\u001b[0m in \u001b[0;36m<module>\u001b[1;34m\u001b[0m\n\u001b[0;32m      5\u001b[0m \u001b[0mprint\u001b[0m\u001b[1;33m(\u001b[0m\u001b[0mnew_list3\u001b[0m\u001b[1;33m)\u001b[0m\u001b[1;33m\u001b[0m\u001b[1;33m\u001b[0m\u001b[0m\n\u001b[0;32m      6\u001b[0m \u001b[1;32mdel\u001b[0m \u001b[0mnew_list3\u001b[0m\u001b[1;33m\u001b[0m\u001b[1;33m\u001b[0m\u001b[0m\n\u001b[1;32m----> 7\u001b[1;33m \u001b[0mprint\u001b[0m\u001b[1;33m(\u001b[0m\u001b[0mnew_list3\u001b[0m\u001b[1;33m)\u001b[0m\u001b[1;33m\u001b[0m\u001b[1;33m\u001b[0m\u001b[0m\n\u001b[0m",
      "\u001b[1;31mNameError\u001b[0m: name 'new_list3' is not defined"
     ]
    }
   ],
   "source": [
    "new_list3 = ['a','b','c','d','e','f']\n",
    "del new_list3[2]\n",
    "print(new_list3)\n",
    "del new_list3[1:3]\n",
    "print(new_list3)\n",
    "del new_list3\n",
    "print(new_list3)"
   ]
  },
  {
   "cell_type": "code",
   "execution_count": 39,
   "metadata": {},
   "outputs": [
    {
     "name": "stdout",
     "output_type": "stream",
     "text": [
      "['a', 'b', 'c', 'd', 'e', 'f', 'g']\n",
      "c\n",
      "['a', 'b', 'd', 'e', 'f', 'g']\n"
     ]
    }
   ],
   "source": [
    "# pop과 remove 함수를 사용하여 목록으로부터 값을 제거\n",
    "new_list=['a','b','c','d','e','f','g']\n",
    "print (new_list)\n",
    "\n",
    "print(new_list.pop(2))\n",
    "print(new_list)"
   ]
  },
  {
   "cell_type": "code",
   "execution_count": 40,
   "metadata": {},
   "outputs": [
    {
     "name": "stdout",
     "output_type": "stream",
     "text": [
      "['a', 'b', 'd', 'e', 'f']\n"
     ]
    }
   ],
   "source": [
    "new_list.remove('g') #리턴 없음\n",
    "print(new_list)"
   ]
  },
  {
   "cell_type": "code",
   "execution_count": 43,
   "metadata": {
    "scrolled": true
   },
   "outputs": [
    {
     "name": "stdout",
     "output_type": "stream",
     "text": [
      "5\n",
      "10\n",
      "15\n",
      "20\n",
      "25\n",
      "[]\n"
     ]
    }
   ],
   "source": [
    "x = 5\n",
    "times_list = [1,2,3,4,5]\n",
    "while times_list:\n",
    "    print(x * times_list.pop(0))\n",
    "print(times_list)"
   ]
  },
  {
   "cell_type": "code",
   "execution_count": 45,
   "metadata": {},
   "outputs": [
    {
     "name": "stdout",
     "output_type": "stream",
     "text": [
      "3\n",
      "[1, 2, 3, 4, 30, 6, 7, 8, 9, 10]\n",
      "[1, 2, 3, 4, 5, 6, 7, 8, 9, 10]\n",
      "[1, 2, 3, 4, 5, 6, 7, 8, 9, 10, 6]\n",
      "5\n",
      "1\n",
      "2\n"
     ]
    }
   ],
   "source": [
    "# 어떤 주어진 값에 대한 인덱스를 반환\n",
    "new_list=[1,2,3,4,5,6,7,8,9,10]\n",
    "print(new_list.index(4)) #r값이 4인 list의 index 반환\n",
    " \n",
    "#  인덱스가 4인 원소의 값을 변경\n",
    "new_list[4] = 30\n",
    "print(new_list)\n",
    " \n",
    "# 이제, 값을 원상태로 되돌려놓자.\n",
    "new_list[4] = 5\n",
    "print(new_list)\n",
    " \n",
    "# 이 목록에 중복된 값을 추가하고 인덱스를 반환\n",
    "# 처음 나타나는 값의 인덱스를 반환함에 유의\n",
    "new_list.append(6)\n",
    "print(new_list)\n",
    "print(new_list.index(6))\n",
    " \n",
    "# 주어진 값과 동등한 원소의 갯수를 반환하도록 count() 함수를 사용\n",
    "print(new_list.count(2))\n",
    "print(new_list.count(6))"
   ]
  },
  {
   "cell_type": "code",
   "execution_count": 49,
   "metadata": {},
   "outputs": [
    {
     "name": "stdout",
     "output_type": "stream",
     "text": [
      "[1, 2, 3, 4, 5, 6, 6, 7, 8, 9, 10]\n",
      "[10, 9, 8, 7, 6, 6, 5, 4, 3, 2, 1]\n"
     ]
    }
   ],
   "source": [
    "new_list.sort()\n",
    "print(new_list)\n",
    "new_list.reverse()\n",
    "print(new_list)"
   ]
  },
  {
   "cell_type": "code",
   "execution_count": 55,
   "metadata": {},
   "outputs": [
    {
     "name": "stdout",
     "output_type": "stream",
     "text": [
      "[6, 2, 3, 4, 5]\n",
      "안녕하세요.\n"
     ]
    }
   ],
   "source": [
    "list1 = [1, 2, 3, 4, 5]\n",
    "list2 = ['a', 'b', 'c']\n",
    "list3 = [1, 'a', 'abc', [1, 2, 3, 4, 5], ['a', 'b', 'c']]\n",
    "list1[0] = 6\n",
    "print(list1)\n",
    "\n",
    "def myfunc():\n",
    "    print('안녕하세요.')\n",
    "    \n",
    "list4 = [1,2,myfunc]\n",
    "\n",
    "list4[2]()"
   ]
  },
  {
   "cell_type": "code",
   "execution_count": 59,
   "metadata": {},
   "outputs": [
    {
     "name": "stdout",
     "output_type": "stream",
     "text": [
      "([1, 2, 3], [4, 5, 6])\n",
      "[1, 2, 3]\n",
      "1\n"
     ]
    }
   ],
   "source": [
    "#tuple 생성 \n",
    "t2 = [1,2,3],[4,5,6] #=([1,2,3],[4,5,6])\n",
    "print(t2)\n",
    "\n",
    "print(t2[0])\n",
    "print(t2[0][0])"
   ]
  },
  {
   "cell_type": "code",
   "execution_count": 62,
   "metadata": {},
   "outputs": [
    {
     "name": "stdout",
     "output_type": "stream",
     "text": [
      "([7, 2, 3], [4, 5, 6])\n"
     ]
    }
   ],
   "source": [
    "#t2[0] = [7,8,9] #튜플의 직접 원소는 변경 불가능\n",
    "t2[0][0] = 7\n",
    "print(t2)"
   ]
  },
  {
   "cell_type": "code",
   "execution_count": 65,
   "metadata": {},
   "outputs": [
    {
     "name": "stdout",
     "output_type": "stream",
     "text": [
      "('슈퍼맨', 1234, '배트맨', 4321)\n",
      "슈퍼맨\n",
      "1234\n",
      "배트맨\n",
      "4321\n"
     ]
    }
   ],
   "source": [
    "#튜플 패키징\n",
    "movie ='슈퍼맨',1234,'배트맨',4321\n",
    "print(movie)\n",
    " \n",
    "#튜플 언패킹#튜플 언패킹\n",
    "a,b,c,d = movie\n",
    "print(a)\n",
    "print(b)\n",
    "print(c)\n",
    "print(d)"
   ]
  },
  {
   "cell_type": "code",
   "execution_count": 70,
   "metadata": {},
   "outputs": [
    {
     "name": "stdout",
     "output_type": "stream",
     "text": [
      "안녕하세요.\n",
      "(1, 2, <function myfunc at 0x000002014D857CA8>)\n"
     ]
    }
   ],
   "source": [
    "# 숫자 튜풀생성\n",
    "tuple1 = (1, 2, 3, 4, 5)\n",
    "\n",
    "# 문자 튜풀생성\n",
    "tuple2 = ('a', 'b', 'c')\n",
    "\n",
    "# 다양한 타입의 튜풀생성\n",
    "tuple3 = (1, 'a', 'abc', [1, 2, 3, 4, 5], ['a', 'b', 'c'])\n",
    "\n",
    "#tuple1[0] = 6 #오류:튜플 원소는 변경 불가\n",
    "tuple4 = 1,2,myfunc\n",
    "tuple4[2]()\n",
    "print(tuple4)"
   ]
  },
  {
   "cell_type": "code",
   "execution_count": 76,
   "metadata": {},
   "outputs": [
    {
     "name": "stdout",
     "output_type": "stream",
     "text": [
      "{1, 2, 3, 4, 5}\n",
      "{1, 2, 3, 4, 5, 6}\n",
      "{1, 2, 3, 4, 5, 6}\n"
     ]
    }
   ],
   "source": [
    "# 다음의 구문을 써서 집합을 생성한다\n",
    "myset = set((1,2,3,4,5)) #튜플의 요소들로 set을 만듬\n",
    "print(myset)\n",
    "\n",
    "myset.add(6) #튜플을 set으로 변경 => 수정 가능\n",
    "print(myset)\n",
    "\n",
    "myset.add(4)\n",
    "print(myset)"
   ]
  },
  {
   "cell_type": "code",
   "execution_count": 82,
   "metadata": {},
   "outputs": [
    {
     "name": "stdout",
     "output_type": "stream",
     "text": [
      "{'ironpython', 'python', 'cpython'}\n",
      "{'python', 'ironpython'}\n",
      "{'cpython'}\n",
      "{'python', 'ironpython', 'pypy', 'cpython'}\n"
     ]
    }
   ],
   "source": [
    "# 두 개의 집합을 생성\n",
    "s1 = set(['python','cpython','ironpython'])\n",
    "s2 = set(['python','ironpython','pypy'])\n",
    "\n",
    "s3 = s1.copy()\n",
    "print(s3)\n",
    "\n",
    "print(s1.intersection(s2)) #교집합\n",
    "\n",
    "print(s1.difference(s2)) #차집합\n",
    "\n",
    "print(s1.union(s2)) #합집합"
   ]
  },
  {
   "cell_type": "code",
   "execution_count": 84,
   "metadata": {},
   "outputs": [
    {
     "name": "stdout",
     "output_type": "stream",
     "text": [
      "{'cpython', 'pypy'}\n"
     ]
    }
   ],
   "source": [
    "print(s1.symmetric_difference(s2)) #합집합 - 교집합"
   ]
  },
  {
   "cell_type": "code",
   "execution_count": 93,
   "metadata": {},
   "outputs": [
    {
     "name": "stdout",
     "output_type": "stream",
     "text": [
      "{20, 5, 15}\n",
      "{1, 2, 4, 5, 6, 7, 8, 9, 10}\n",
      "{5}\n",
      "{20, 5, 15}\n",
      "set()\n",
      "{2, 4, 5, 6, 8, 10}\n"
     ]
    }
   ],
   "source": [
    "# 세 개의 집합을 생성\n",
    "s1 = set([1, 2, 3, 4, 5, 6, 7, 8, 9, 10])\n",
    "s2 = set([5, 10, 15, 20])\n",
    "s3 = set([2, 4, 6, 8, 10])\n",
    "\n",
    "s2.pop()\n",
    "print(s2)\n",
    "\n",
    "s1.discard(3)\n",
    "print(s1)\n",
    "\n",
    "s1.intersection_update(s2) #s1과 s2의 교집합으로 s1을 갱신\n",
    "print(s1)\n",
    "print(s2)\n",
    "\n",
    "s2.clear()\n",
    "print(s2)\n",
    "\n",
    "s1.update(s3)\n",
    "print(s1)"
   ]
  },
  {
   "cell_type": "code",
   "execution_count": 96,
   "metadata": {},
   "outputs": [
    {
     "data": {
      "text/plain": [
       "{'one': 'first', 'two': 'second'}"
      ]
     },
     "execution_count": 96,
     "metadata": {},
     "output_type": "execute_result"
    }
   ],
   "source": [
    "myDict = {}\n",
    "myDict.values()\n",
    "\n",
    "myDict['one'] = 'first'\n",
    "myDict['two'] = 'second'\n",
    "myDict"
   ]
  },
  {
   "cell_type": "code",
   "execution_count": 100,
   "metadata": {},
   "outputs": [
    {
     "data": {
      "text/plain": [
       "{'one': 'first', 'two': 'second', 'firstkey': 'firstval'}"
      ]
     },
     "execution_count": 100,
     "metadata": {},
     "output_type": "execute_result"
    }
   ],
   "source": [
    "'firstkey' in myDict\n",
    "myDict['firstkey'] = 'firstval'\n",
    "myDict.values()\n",
    "myDict.keys()\n",
    "myDict"
   ]
  },
  {
   "cell_type": "code",
   "execution_count": 105,
   "metadata": {
    "scrolled": true
   },
   "outputs": [
    {
     "name": "stdout",
     "output_type": "stream",
     "text": [
      "dict_values(['Josh', 'Frank', 'Jim', 'Leo', 'Vic'])\n",
      "dict_keys(['r_wing', 'l_wing', 'center', 'l_defense', 'r_defense'])\n",
      "Josh\n",
      "Josh\n"
     ]
    },
    {
     "data": {
      "text/plain": [
       "'존재하지 않는 key'"
      ]
     },
     "execution_count": 105,
     "metadata": {},
     "output_type": "execute_result"
    }
   ],
   "source": [
    "myDict2 = {'r_wing':'Josh','l_wing':'Frank','center':'Jim','l_defense':'Leo','r_defense':'Vic'}\n",
    "print(myDict2.values())\n",
    "print(myDict2.keys())\n",
    "\n",
    "print(myDict2.get('r_wing')) #Josh출력 \n",
    "print(myDict2['r_wing'])  #Josh출력\n",
    "\n",
    "#myDict['test'] #key가 존재하지 않으면 에러\n",
    "myDict.get('test', '존재하지 않는 key') #있으면 반환 없으면 none / 지정 메세지"
   ]
  },
  {
   "cell_type": "code",
   "execution_count": 108,
   "metadata": {},
   "outputs": [
    {
     "name": "stdout",
     "output_type": "stream",
     "text": [
      "r_wing Josh\n",
      "l_wing Frank\n",
      "center Jim\n",
      "l_defense Leo\n",
      "r_defense Vic\n"
     ]
    }
   ],
   "source": [
    "for key, value in myDict2.items():\n",
    "    print(key, value)"
   ]
  },
  {
   "cell_type": "code",
   "execution_count": 114,
   "metadata": {},
   "outputs": [
    {
     "data": {
      "text/plain": [
       "4"
      ]
     },
     "execution_count": 114,
     "metadata": {},
     "output_type": "execute_result"
    }
   ],
   "source": [
    "dict1 = {'a':1, 'b':2, 'c':3}\n",
    "\n",
    "dict1['a']\n",
    "dict1.get('a')\n",
    "dict1['d'] = 4\n",
    "dict1\n",
    "dict1['b'] = 7\n",
    "dict1\n",
    "len(dict1)"
   ]
  }
 ],
 "metadata": {
  "kernelspec": {
   "display_name": "pydata",
   "language": "python",
   "name": "pydata"
  },
  "language_info": {
   "codemirror_mode": {
    "name": "ipython",
    "version": 3
   },
   "file_extension": ".py",
   "mimetype": "text/x-python",
   "name": "python",
   "nbconvert_exporter": "python",
   "pygments_lexer": "ipython3",
   "version": "3.7.10"
  }
 },
 "nbformat": 4,
 "nbformat_minor": 4
}
