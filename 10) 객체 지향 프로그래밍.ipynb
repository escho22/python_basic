{
 "cells": [
  {
   "cell_type": "code",
   "execution_count": 2,
   "metadata": {},
   "outputs": [
    {
     "data": {
      "text/plain": [
       "__main__.Klass"
      ]
     },
     "execution_count": 2,
     "metadata": {},
     "output_type": "execute_result"
    }
   ],
   "source": [
    "#클래스 선언\n",
    "class Klass:\n",
    "    pass\n",
    "\n",
    "Klass"
   ]
  },
  {
   "cell_type": "code",
   "execution_count": 6,
   "metadata": {},
   "outputs": [
    {
     "name": "stdout",
     "output_type": "stream",
     "text": [
      "<__main__.Klass object at 0x000001F99C082908>\n",
      "<__main__.Klass object at 0x000001F99C082288>\n"
     ]
    },
    {
     "data": {
      "text/plain": [
       "(2171576264968, 2171576263304)"
      ]
     },
     "execution_count": 6,
     "metadata": {},
     "output_type": "execute_result"
    }
   ],
   "source": [
    "#객체 생성\n",
    "k1 = Klass()\n",
    "k2 = Klass()\n",
    "\n",
    "print(k1)\n",
    "print(k2)\n",
    "\n",
    "id(k1), id(k2) #서로 다른 메모리 주소로 할당"
   ]
  },
  {
   "cell_type": "code",
   "execution_count": 8,
   "metadata": {},
   "outputs": [
    {
     "name": "stdout",
     "output_type": "stream",
     "text": [
      "<class '__main__.Robot'>\n"
     ]
    }
   ],
   "source": [
    "class Robot:\n",
    "    name = '고길동'\n",
    "    weight = 80\n",
    "    \n",
    "    def speak(self): #self : 객체 영역을 가리킴\n",
    "        print('안녕하세요. 고길동입니다.')\n",
    "    \n",
    "    def move(self): #일반 메소드 : 메소드 호출해야 호출됨\n",
    "        print('고길동 이동한다.')\n",
    "\n",
    "print(Robot)"
   ]
  },
  {
   "cell_type": "code",
   "execution_count": 11,
   "metadata": {},
   "outputs": [
    {
     "name": "stdout",
     "output_type": "stream",
     "text": [
      "<class '__main__.Robot'>\n",
      "안녕하세요. 고길동입니다.\n",
      "고길동\n"
     ]
    }
   ],
   "source": [
    "robot1 = Robot()\n",
    "robot2 = Robot()\n",
    "robot3 = Robot()\n",
    "\n",
    "print(type(robot1))\n",
    "robot2.speak()\n",
    "print(robot3.name)"
   ]
  },
  {
   "cell_type": "code",
   "execution_count": 19,
   "metadata": {},
   "outputs": [
    {
     "name": "stdout",
     "output_type": "stream",
     "text": [
      "type(a) <class 'int'>\n",
      "type(b) <class 'int'>\n",
      "type(c) <class 'list'>\n",
      "type(func) <class 'function'>\n",
      "type(math) <class 'module'>\n"
     ]
    }
   ],
   "source": [
    "a = 10\n",
    "print('type(a)', type(a))\n",
    "\n",
    "b = int('10')\n",
    "print('type(b)', type(b))\n",
    "\n",
    "c = [1,2,3,4,5]\n",
    "print('type(c)', type(c))\n",
    "\n",
    "def func(x):\n",
    "    return x + 1\n",
    "print('type(func)', type(func))\n",
    "\n",
    "import math\n",
    "print('type(math)', type(math))"
   ]
  },
  {
   "cell_type": "code",
   "execution_count": 24,
   "metadata": {},
   "outputs": [
    {
     "name": "stdout",
     "output_type": "stream",
     "text": [
      "조길동  -  70 kg\n",
      "배길동  -  173 cm\n"
     ]
    }
   ],
   "source": [
    "#python에서의 객체는 클래스 속성과 객체 속성이라는 서로 다른 변수를 가짐\n",
    "#클래스 속성 : 클래스를 구성하는 변수\n",
    "#객체 속성 : 객체 생성 후 추가한 속성\n",
    "#객체 속성을 추가하지 않으면 클래스 속성을 가져오지만 그것은 객체에 저장된 정보가 아니다, 찾아오는 것\n",
    "class Robot:\n",
    "    '심플한 클래스'\n",
    "    pass\n",
    "\n",
    "robot1 = Robot()\n",
    "robot1.name = '조길동' \n",
    "robot1.weight = 70\n",
    "\n",
    "robot2 = Robot()\n",
    "robot2.name = '배길동'\n",
    "robot2.height = 173\n",
    "\n",
    "print(robot1.name, ' - ', robot1.weight, 'kg')\n",
    "print(robot2.name, ' - ', robot2.height, 'cm')"
   ]
  },
  {
   "cell_type": "code",
   "execution_count": 26,
   "metadata": {},
   "outputs": [
    {
     "name": "stdout",
     "output_type": "stream",
     "text": [
      "기본 로봇 50 kg\n",
      "기본 로봇 50 kg\n",
      "------- 다양화 -------\n",
      "고로봇 50 kg\n",
      "기본 로봇 80 kg\n"
     ]
    },
    {
     "data": {
      "text/plain": [
       "'다양한 로봇 생성 클래스'"
      ]
     },
     "execution_count": 26,
     "metadata": {},
     "output_type": "execute_result"
    }
   ],
   "source": [
    "#초기화 함수 __init__\n",
    "class Robot:\n",
    "    '다양한 로봇 생성 클래스'\n",
    "    \n",
    "    def __init__(self):  #callback 메소드 : 객체 생성시 자동 호출\n",
    "        self.name = '기본 로봇'\n",
    "        self.weight = 50\n",
    "        \n",
    "robot1 = Robot()\n",
    "robot2 = Robot()\n",
    "\n",
    "print(robot1.name, robot1.weight, 'kg')\n",
    "print(robot2.name, robot2.weight, 'kg')\n",
    "print('------- 다양화 -------')\n",
    "\n",
    "robot1.name = '고로봇'\n",
    "robot2.weight = 80\n",
    "print(robot1.name, robot1.weight, 'kg')\n",
    "print(robot2.name, robot2.weight, 'kg')\n",
    "\n",
    "Robot.__doc__"
   ]
  },
  {
   "cell_type": "code",
   "execution_count": 28,
   "metadata": {},
   "outputs": [
    {
     "name": "stdout",
     "output_type": "stream",
     "text": [
      "고로봇 ces 1995 True\n",
      "조로봇 ces 1990 True\n"
     ]
    }
   ],
   "source": [
    "class Robot:\n",
    "    '다양한 로봇 생성 클래스'\n",
    "    \n",
    "    def __init__(self, name, build_year):\n",
    "        self.maker = 'ces'\n",
    "        self.isWalking = True\n",
    "        self.name = name\n",
    "        self.build_year = build_year\n",
    "        \n",
    "robot1 = Robot('고로봇', 1995)\n",
    "print(robot1.name, robot1.maker, robot1.build_year, robot1.isWalking)\n",
    "\n",
    "robot2 = Robot('조로봇', 1990)\n",
    "print(robot2.name, robot2.maker, robot2.build_year, robot2.isWalking)"
   ]
  },
  {
   "cell_type": "code",
   "execution_count": 31,
   "metadata": {},
   "outputs": [
    {
     "name": "stdout",
     "output_type": "stream",
     "text": [
      "Test.name 클래스 속성\n",
      "Test().name 객체 속성\n"
     ]
    },
    {
     "data": {
      "text/plain": [
       "'객체 속성'"
      ]
     },
     "execution_count": 31,
     "metadata": {},
     "output_type": "execute_result"
    }
   ],
   "source": [
    "#일반 메소드\n",
    "class Test:\n",
    "    name = '클래스 속성' #클래스 영역\n",
    "    \n",
    "    #메소드 선언시에는 첫번째 매개변수를 반드시 사용해야함\n",
    "    #단, 메소드 호출시 첫번째 인자는 보내지 않아도 됨\n",
    "    #결국 객체의 아이디를 넘겨주는 매개변수\n",
    "    def __init__(self): #self : 객체 영역을 가리킴\n",
    "        self.name = '객체 속성' #객체 영역 #객체 -> 클래스\n",
    "        \n",
    "    def getName(self):\n",
    "        return self.name\n",
    "    \n",
    "print('Test.name', Test.name) #클래스 영역의 name\n",
    "\n",
    "t = Test() #객체 생성 => __init__() 자동 호출\n",
    "print('Test().name', t.name) #객체 영역\n",
    "\n",
    "t.getName()"
   ]
  },
  {
   "cell_type": "code",
   "execution_count": 32,
   "metadata": {},
   "outputs": [
    {
     "name": "stdout",
     "output_type": "stream",
     "text": [
      "현재 좌표 : (3, 3)\n"
     ]
    }
   ],
   "source": [
    "class Robot:\n",
    "    '''다양한 로봇 생성 클래스'''\n",
    "    \n",
    "    #이하는 모두 객체 영역\n",
    "    def __init__(self, name, build_year):\n",
    "        self.maker = 'ces'\n",
    "        self.isWalking = True\n",
    "        self.name = name\n",
    "        self.build_year = build_year\n",
    "        self.xpos = 0\n",
    "        self.ypos = 0\n",
    "        \n",
    "    def move(self):\n",
    "        if self.isWalking:\n",
    "            self.xpos += 1\n",
    "            self.ypos += 1\n",
    "            \n",
    "    def curPosition(self):\n",
    "        print('현재 좌표 : ({0}, {1})' .format(self.xpos, self.ypos))\n",
    "        \n",
    "robot1 = Robot('고로봇', 1995)\n",
    "\n",
    "robot1.move()\n",
    "robot1.move()\n",
    "robot1.move()\n",
    "\n",
    "robot1.curPosition()"
   ]
  },
  {
   "cell_type": "code",
   "execution_count": 42,
   "metadata": {},
   "outputs": [
    {
     "name": "stdout",
     "output_type": "stream",
     "text": [
      "CMethod._name 클래스 속성\n",
      "CMethod.name() 클래스 속성\n",
      "CMethod(\"객체 속성\") 클래스 속성\n"
     ]
    }
   ],
   "source": [
    "class CMethod:\n",
    "    _name = '클래스 속성'\n",
    "    \n",
    "    def __init__(self, name): #객체 영역\n",
    "        self.name = name\n",
    "    \n",
    "    @classmethod\n",
    "    def name(cls): #클래스 영역에만 접근할 수 있음\n",
    "        return cls._name\n",
    "    \n",
    "print('CMethod._name', CMethod._name)\n",
    "print('CMethod.name()', CMethod.name())\n",
    "c = CMethod('객체 속성')\n",
    "print('CMethod(\"객체 속성\")', c._name)"
   ]
  },
  {
   "cell_type": "code",
   "execution_count": 6,
   "metadata": {},
   "outputs": [
    {
     "name": "stdout",
     "output_type": "stream",
     "text": [
      "클래스 속성\n",
      "객체 속성\n",
      "객체 속성\n",
      "10\n"
     ]
    }
   ],
   "source": [
    "class SMethod:\n",
    "    name = '클래스 속성'\n",
    "    \n",
    "    def __init__(self, name):\n",
    "        self.name = name\n",
    "        \n",
    "    @staticmethod\n",
    "    def name_func(cls):\n",
    "        return cls.name\n",
    "    \n",
    "    @staticmethod\n",
    "    def getName(self):\n",
    "        return self.name #객체 영역\n",
    "    \n",
    "    @staticmethod\n",
    "    def func(x, y):\n",
    "        return x + y\n",
    "    \n",
    "print(SMethod.name_func(SMethod)) #클래스 영역에 접근\n",
    "print(SMethod.name_func(SMethod('객체 속성')))\n",
    "print(SMethod.getName(SMethod('객체 속성')))\n",
    "print(SMethod.func(5,5))"
   ]
  },
  {
   "cell_type": "code",
   "execution_count": 55,
   "metadata": {},
   "outputs": [],
   "source": [
    "# 일반 메소드\n",
    "# def name(self):\n",
    "#     self.name => 무조건 객체영역의 name 변수를 나타냄, self : 객체 영역 접근 id\n",
    "\n",
    "# 클래스메소드\n",
    "# @classmethod\n",
    "# def name(cls):\n",
    "#     cls.name => 무조건 클래스영역의 name 변수를 나타냄, cls : 클래스 영역 접근 id\n",
    "\n",
    "# 정적메소드\n",
    "# @staticmethod\n",
    "# def name(cls): => cls 내가 전달하는 인자\n",
    "#     cls.name =>  메소드 호출시 전달된 인자값에 따라 객체영역, 클래스영역 모두 접근 가능"
   ]
  },
  {
   "cell_type": "code",
   "execution_count": 7,
   "metadata": {},
   "outputs": [
    {
     "name": "stdout",
     "output_type": "stream",
     "text": [
      "This is name\n"
     ]
    }
   ],
   "source": [
    "#프로퍼티 데코레이터\n",
    "#메소드 호출시 속성처럼 호출 가능\n",
    "class Klass:\n",
    "    @property\n",
    "    def name(self):\n",
    "        print('This is name')\n",
    "        \n",
    "k = Klass()\n",
    "k.name #속성처럼 호출가능"
   ]
  },
  {
   "cell_type": "code",
   "execution_count": 9,
   "metadata": {},
   "outputs": [
    {
     "name": "stdout",
     "output_type": "stream",
     "text": [
      "고길동\n",
      "27\n",
      "('고길동', 27)\n"
     ]
    }
   ],
   "source": [
    "class Property:\n",
    "    def __init__(self, name, age):\n",
    "        self._name = name\n",
    "        self._age = age\n",
    "        \n",
    "    @property\n",
    "    def name(self):\n",
    "        return self._name\n",
    "    \n",
    "    @property\n",
    "    def age(self):\n",
    "        return self._age\n",
    "    \n",
    "    @property\n",
    "    def getter(self):\n",
    "        return self._name, self._age\n",
    "    \n",
    "p = Property('고길동', 27)\n",
    "print(p.name)\n",
    "print(p.age)\n",
    "print(p.getter)"
   ]
  },
  {
   "cell_type": "code",
   "execution_count": 14,
   "metadata": {},
   "outputs": [
    {
     "name": "stdout",
     "output_type": "stream",
     "text": [
      "고길동\n",
      "조길동\n",
      "배길동\n"
     ]
    }
   ],
   "source": [
    "class Property2:\n",
    "    def __init__(self, name):\n",
    "        self._name = name\n",
    "     \n",
    "    @property\n",
    "    def name(self):\n",
    "        return self._name\n",
    "    \n",
    "    @name.setter\n",
    "    def name(self, name):\n",
    "        self._name = name\n",
    "        \n",
    "    @name.deleter\n",
    "    def name(self):\n",
    "        del self._name\n",
    "        \n",
    "p2 = Property2('고길동')\n",
    "print(p2.name)\n",
    "\n",
    "p2.name = '조길동'\n",
    "print(p2.name)\n",
    "\n",
    "del p2.name\n",
    "#p2.name\n",
    "\n",
    "p2.name = '배길동'\n",
    "print(p2.name)"
   ]
  },
  {
   "cell_type": "code",
   "execution_count": 25,
   "metadata": {},
   "outputs": [
    {
     "name": "stdout",
     "output_type": "stream",
     "text": [
      "이름: 고길동 | 제조년: 1995 | 현재 위치: (1, 1)\n"
     ]
    }
   ],
   "source": [
    "#__str__ 메소드\n",
    "class Robot:\n",
    "    '다양한 로봇 생성 클래스'\n",
    "    \n",
    "    def __init__(self, name, build_year):\n",
    "        self.maker = 'ces'\n",
    "        self.isWalking = True\n",
    "        self.name = name\n",
    "        self.build_year = build_year\n",
    "        self.xpos = 0\n",
    "        self.ypos = 0\n",
    "        \n",
    "    def move(self):\n",
    "        if self.isWalking == True:\n",
    "            self.xpos += 1\n",
    "            self.ypos += 1\n",
    "            \n",
    "    def curPosition(self):\n",
    "        print('현재 좌표 : ({0}, {1})' .format(self.xpos, self.ypos))\n",
    "        \n",
    "    def __str__(self):\n",
    "        sentence = '''이름: {0} | 제조년: {1} | 현재 위치: ({2}, {3})'''\\\n",
    "        .format(self.name, self.build_year, self.xpos, self.ypos)\n",
    "        return sentence\n",
    "    \n",
    "robot1 = Robot('고길동', 1995)\n",
    "robot1.move()\n",
    "print(robot1)"
   ]
  },
  {
   "cell_type": "code",
   "execution_count": 28,
   "metadata": {},
   "outputs": [
    {
     "name": "stdout",
     "output_type": "stream",
     "text": [
      "객체 생성 전(maker, population) :  ces 0\n",
      "클래스 속성(population) :  3\n",
      "객체 생성 후(maker, population) :  art 3\n"
     ]
    }
   ],
   "source": [
    "class Robot:\n",
    "    '다양한 로봇 생성 클래스'\n",
    "    population = 0\n",
    "    maker = 'ces'\n",
    "    \n",
    "    def __init__(self, name, build_year):\n",
    "        self.isWalking = True\n",
    "        self.name = name\n",
    "        self.build_year = build_year\n",
    "        self.xpos = 0\n",
    "        self.ypos = 0\n",
    "        Robot.population += 1 #클래스 속성\n",
    "        \n",
    "print('객체 생성 전(maker, population) : ', Robot.maker, Robot.population)\n",
    "Robot.maker = 'art'\n",
    "\n",
    "robot1 = Robot('고길동', 1995)\n",
    "robot2 = Robot('조길동', 1990)\n",
    "robot3 = Robot('배길동', 1986)\n",
    "\n",
    "print('클래스 속성(population) : ', robot1.population) #robot1 객체 영역에서 population 검색 > 없음 > 클래스 영역에서 검색\n",
    "print('객체 생성 후(maker, population) : ', robot2.maker, robot2.population)"
   ]
  },
  {
   "cell_type": "code",
   "execution_count": 36,
   "metadata": {},
   "outputs": [
    {
     "name": "stdout",
     "output_type": "stream",
     "text": [
      "조길동\n",
      "1995\n",
      "1995\n",
      "['_Robot__build_year', '__class__', '__delattr__', '__dict__', '__dir__', '__doc__', '__eq__', '__format__', '__ge__', '__getattribute__', '__gt__', '__hash__', '__init__', '__init_subclass__', '__le__', '__lt__', '__module__', '__ne__', '__new__', '__reduce__', '__reduce_ex__', '__repr__', '__setattr__', '__sizeof__', '__str__', '__subclasshook__', '__weakref__', 'getYear', 'name', 'xpos', 'ypos']\n"
     ]
    }
   ],
   "source": [
    "class Robot:\n",
    "    '다양한 로봇 생성 클래스'\n",
    "    \n",
    "    def __init__(self, name, build_year):\n",
    "        self.name = name\n",
    "        self.__build_year = build_year\n",
    "        self.xpos = 0\n",
    "        self.ypos = 0\n",
    "        \n",
    "    def getYear(self):\n",
    "        return self.__build_year\n",
    "    \n",
    "robot1 = Robot('고길동', 1995)\n",
    "robot1.name = '조길동'\n",
    "print(robot1.name)\n",
    "\n",
    "#print(robot1.__build_year) #오류 접근 불가\n",
    "print(robot1._Robot__build_year)\n",
    "print(robot1.getYear())\n",
    "\n",
    "print(dir(robot1))"
   ]
  },
  {
   "cell_type": "code",
   "execution_count": 41,
   "metadata": {},
   "outputs": [
    {
     "name": "stdout",
     "output_type": "stream",
     "text": [
      "객체가 생성되었습니다.\n",
      "객체 생성시 값을 초기화합니다.\n",
      "객체가 삭제됩니다.\n"
     ]
    }
   ],
   "source": [
    "#__new__ 생성자\n",
    "#생성자 : 객체가 생성되면서 자동으로 호출되는 최초의 함수\n",
    "#초기화 : 객체 생성 후 속성을 할당할때 호출되는 함수\n",
    "#초기화 함수는 생성자가 없으면 자동으로 생성됨\n",
    "#초기화 함수 __init__을 자동 호출하기 위해서는 object 객체 생성자 호출 필요\n",
    "#객체 생성시 __new__ > __init__ 자동 호출되므로 매개변수를 동일하게 맞춰야함\n",
    "class Klass:\n",
    "    def __new__(cls, name, age):\n",
    "        print('객체가 생성되었습니다.')\n",
    "        return object.__new__(cls)\n",
    "    \n",
    "    def __init__(self, name, age):\n",
    "        print('객체 생성시 값을 초기화합니다.')\n",
    "        self.name = name\n",
    "        self.age = age\n",
    "        \n",
    "    def __del__(self): #del 자동호출\n",
    "        print('객체가 삭제됩니다.')\n",
    "        del self\n",
    "        \n",
    "k = Klass('고길동', 27)\n",
    "del k"
   ]
  }
 ],
 "metadata": {
  "kernelspec": {
   "display_name": "pydata",
   "language": "python",
   "name": "pydata"
  },
  "language_info": {
   "codemirror_mode": {
    "name": "ipython",
    "version": 3
   },
   "file_extension": ".py",
   "mimetype": "text/x-python",
   "name": "python",
   "nbconvert_exporter": "python",
   "pygments_lexer": "ipython3",
   "version": "3.7.10"
  }
 },
 "nbformat": 4,
 "nbformat_minor": 4
}
