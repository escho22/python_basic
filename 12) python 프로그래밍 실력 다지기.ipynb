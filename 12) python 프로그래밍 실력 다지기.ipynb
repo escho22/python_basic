{
 "cells": [
  {
   "cell_type": "code",
   "execution_count": 2,
   "metadata": {},
   "outputs": [
    {
     "name": "stdout",
     "output_type": "stream",
     "text": [
      "e\n",
      "라\n",
      "ale \n",
      "A tale\n",
      "가리라.\n"
     ]
    }
   ],
   "source": [
    "txt1 = 'A tale that was not right'\n",
    "txt2 = '이 또한 지나가리라.'\n",
    "\n",
    "print(txt1[5])\n",
    "print(txt2[-2])\n",
    "\n",
    "print(txt1[3:7])\n",
    "print(txt1[:6])\n",
    "print(txt2[-4:])"
   ]
  },
  {
   "cell_type": "code",
   "execution_count": 4,
   "metadata": {},
   "outputs": [
    {
     "name": "stdout",
     "output_type": "stream",
     "text": [
      "p\n",
      "py\n",
      "pyt\n",
      "pyth\n",
      "pytho\n",
      "python\n"
     ]
    }
   ],
   "source": [
    "txt = \"python\"\n",
    "for i in range(len(txt)):\n",
    "    print(txt[:i+1])"
   ]
  },
  {
   "cell_type": "code",
   "execution_count": 11,
   "metadata": {},
   "outputs": [
    {
     "name": "stdout",
     "output_type": "stream",
     "text": [
      "[시작:끝:간격]\n",
      "abcdefghijk\n",
      "ABCDEFGHIJK\n",
      "[::-(역순)/숫자(간격)]\n",
      "kjihgfedcba\n",
      "kigeca\n",
      "kigeca\n"
     ]
    }
   ],
   "source": [
    "print('[시작:끝:간격]')\n",
    "txt = 'aAbBcCdDeEfFgGhHiIjJkK'\n",
    "ret1 = txt[::2]\n",
    "ret2 = txt[1::2]\n",
    "print(ret1)\n",
    "print(ret2)\n",
    "\n",
    "print('[::-(역순)/숫자(간격)]') #역순 -1 == 0 == 맨 끝\n",
    "txt = 'abcdefghijk'\n",
    "ret3 = txt[::-1]\n",
    "ret4 = txt[::-2]\n",
    "ret5 = txt[-2::-2]\n",
    "print(ret3)\n",
    "print(ret4)\n",
    "print(ret5)"
   ]
  },
  {
   "cell_type": "code",
   "execution_count": 12,
   "metadata": {},
   "outputs": [
    {
     "name": "stdout",
     "output_type": "stream",
     "text": [
      "저장할 파일 이름을 입력하세요 : unknown\n",
      "방금 저장된 파일 이름은 <unknown.jpg>입니다.\n"
     ]
    }
   ],
   "source": [
    "filename = input('저장할 파일 이름을 입력하세요 : ')\n",
    "filename = filename + '.jpg'\n",
    "display_msg = '방금 저장된 파일 이름은 <' + filename + '>입니다.'\n",
    "print(display_msg)"
   ]
  },
  {
   "cell_type": "code",
   "execution_count": 15,
   "metadata": {},
   "outputs": [
    {
     "name": "stdout",
     "output_type": "stream",
     "text": [
      "Good morning,Everyone Everyone Everyone !\n"
     ]
    }
   ],
   "source": [
    "msg1 = 'Good morning'\n",
    "msg2 = 'Everyone '\n",
    "display_msg = msg1 + ',' + msg2*3 + '!'\n",
    "print(display_msg)"
   ]
  },
  {
   "cell_type": "code",
   "execution_count": 16,
   "metadata": {},
   "outputs": [
    {
     "name": "stdout",
     "output_type": "stream",
     "text": [
      "임의의 문장을 입력하세요.I had a wonderful dream last night.\n",
      "방금 입력한 문장에는 \"a\"가 있습니다.\n"
     ]
    }
   ],
   "source": [
    "msg = input('임의의 문장을 입력하세요.')\n",
    "if 'a' in msg:\n",
    "    print('방금 입력한 문장에는 \"a\"가 있습니다.')\n",
    "#    print('방금 입력한 문장에는 {}개의 \"a\"가 있습니다.')\n",
    "else:\n",
    "    print('방금 입력한 문장에는 \"a\"가 없습니다.')"
   ]
  },
  {
   "cell_type": "code",
   "execution_count": 20,
   "metadata": {},
   "outputs": [
    {
     "name": "stdout",
     "output_type": "stream",
     "text": [
      "True\n",
      "True\n",
      "True\n",
      "False\n"
     ]
    }
   ],
   "source": [
    "#문자열 인식\n",
    "txt1 = 'A'\n",
    "txt2 = '안녕'\n",
    "txt3 = 'Warcraft Three'\n",
    "txt4 = '3PO'\n",
    "\n",
    "ret1 = txt1.isalpha()\n",
    "ret2 = txt2.isalpha() #문자면 o\n",
    "ret3 = txt3.isalpha() #빈공간 x\n",
    "ret4 = txt4.isalpha() #숫자 x\n",
    "\n",
    "print(ret1)\n",
    "print(ret2)\n",
    "print(ret3)\n",
    "print(ret4)"
   ]
  },
  {
   "cell_type": "code",
   "execution_count": 21,
   "metadata": {},
   "outputs": [
    {
     "name": "stdout",
     "output_type": "stream",
     "text": [
      "False\n",
      "False\n",
      "True\n"
     ]
    }
   ],
   "source": [
    "#숫자 인식\n",
    "txt1 = '010-1234-5678'\n",
    "txt2 = 'R2D2'\n",
    "txt3 = '1212'\n",
    "\n",
    "ret1 = txt1.isdigit()\n",
    "ret2 = txt2.isdigit()\n",
    "ret3 = txt3.isdigit()\n",
    "\n",
    "print(ret1)\n",
    "print(ret2)\n",
    "print(ret3)"
   ]
  },
  {
   "cell_type": "code",
   "execution_count": 22,
   "metadata": {},
   "outputs": [
    {
     "name": "stdout",
     "output_type": "stream",
     "text": [
      "False\n",
      "False\n",
      "True\n"
     ]
    }
   ],
   "source": [
    "#문자, 숫자 인식\n",
    "txt1 = '안녕하세요?'\n",
    "txt2 = '1. Title-제목을 넣으세요'\n",
    "txt3 = '3피오R2D2'\n",
    "\n",
    "ret1 = txt1.isalnum()\n",
    "ret2 = txt2.isalnum ()\n",
    "ret3 = txt3.isalnum ()\n",
    "\n",
    "print(ret1) \n",
    "print(ret2)\n",
    "print(ret3) "
   ]
  },
  {
   "cell_type": "code",
   "execution_count": 23,
   "metadata": {},
   "outputs": [
    {
     "name": "stdout",
     "output_type": "stream",
     "text": [
      "<   양쪽에 공백이 있는 문자열입니다.   >\n",
      "<양쪽에 공백이 있는 문자열입니다.   >\n",
      "<   양쪽에 공백이 있는 문자열입니다.>\n",
      "<양쪽에 공백이 있는 문자열입니다.>\n"
     ]
    }
   ],
   "source": [
    "txt = '   양쪽에 공백이 있는 문자열입니다.   '\n",
    "\n",
    "ret1 = txt.lstrip()\n",
    "ret2 = txt.rstrip()\n",
    "ret3 = txt.strip()\n",
    "\n",
    "print('<'+txt+'>')\n",
    "print('<'+ret1+'>')\n",
    "print('<'+ret2+'>')\n",
    "print('<'+ret3+'>')"
   ]
  },
  {
   "cell_type": "code",
   "execution_count": 27,
   "metadata": {},
   "outputs": [
    {
     "name": "stdout",
     "output_type": "stream",
     "text": [
      "num1 문자열 변환값은 '1234'입니다.\n",
      "num2 문자열 변환값은 '3.14'입니다.\n"
     ]
    }
   ],
   "source": [
    "#수치형 자료 => 문자열 변환\n",
    "num1 = 1234\n",
    "num2 = 3.14\n",
    "\n",
    "numstr1 = str(num1)\n",
    "numstr2 = str(num2)\n",
    "\n",
    "print('num1 문자열 변환값은 \\'%s\\'입니다.' %numstr1)\n",
    "print('num2 문자열 변환값은 \\'%s\\'입니다.' %numstr2)"
   ]
  },
  {
   "cell_type": "code",
   "execution_count": 29,
   "metadata": {},
   "outputs": [
    {
     "name": "stdout",
     "output_type": "stream",
     "text": [
      "3\n",
      "2\n",
      "8\n"
     ]
    }
   ],
   "source": [
    "txt = 'A lot of things occur each day, every day.'\n",
    "\n",
    "word_count1 = txt.count('o')\n",
    "word_count2 = txt.count('day')\n",
    "word_count3 = txt.count(' ')\n",
    "\n",
    "print(word_count1)\n",
    "print(word_count2)\n",
    "print(word_count3)"
   ]
  },
  {
   "cell_type": "code",
   "execution_count": 28,
   "metadata": {},
   "outputs": [
    {
     "ename": "SyntaxError",
     "evalue": "invalid syntax (<ipython-input-28-cd0a09e4ddfe>, line 1)",
     "output_type": "error",
     "traceback": [
      "\u001b[1;36m  File \u001b[1;32m\"<ipython-input-28-cd0a09e4ddfe>\"\u001b[1;36m, line \u001b[1;32m1\u001b[0m\n\u001b[1;33m    count find\u001b[0m\n\u001b[1;37m             ^\u001b[0m\n\u001b[1;31mSyntaxError\u001b[0m\u001b[1;31m:\u001b[0m invalid syntax\n"
     ]
    }
   ],
   "source": [
    "count find"
   ]
  },
  {
   "cell_type": "code",
   "execution_count": 34,
   "metadata": {},
   "outputs": [
    {
     "name": "stdout",
     "output_type": "stream",
     "text": [
      "22\n",
      "27\n",
      "38\n"
     ]
    }
   ],
   "source": [
    "txt = 'A lot of things occur each day, every day.'\n",
    "\n",
    "offset1 = txt.find('e')\n",
    "offset2 = txt.find('day')\n",
    "offset3 = txt.find('day', 30) #30부터 찾아라\n",
    "\n",
    "print(offset1)\n",
    "print(offset2)\n",
    "print(offset3)"
   ]
  },
  {
   "cell_type": "code",
   "execution_count": 50,
   "metadata": {},
   "outputs": [
    {
     "name": "stdout",
     "output_type": "stream",
     "text": [
      "['http:', '', 'www.naver.com', 'news', 'today=20160831']\n",
      "\n",
      "name -> 고길동\n",
      "name => 고길동\n",
      "\n",
      "age -> 27\n",
      "age => 27\n",
      "\n",
      "gender -> 남자\n",
      "gender => 남자\n",
      "\n",
      "nation -> 한국\n",
      "nation => 한국\n",
      "\n"
     ]
    }
   ],
   "source": [
    "url = 'http://www.naver.com/news/today=20160831'\n",
    "log = 'name:고길동 age:27 gender:남자 nation:한국'\n",
    "\n",
    "ret1 = url.split('/')\n",
    "print(ret1)\n",
    "print()\n",
    "\n",
    "ret2 = log.split()\n",
    "for data in ret2:\n",
    "    print(data.split(':')[0], '->', data.split(':')[1])\n",
    "    d1, d2 = data.split(':')\n",
    "    print('{} => {}' .format(d1, d2))\n",
    "    print()"
   ]
  },
  {
   "cell_type": "code",
   "execution_count": 40,
   "metadata": {},
   "outputs": [
    {
     "name": "stdout",
     "output_type": "stream",
     "text": [
      "2016/08/26 10:12:11 >>> 200 >>> OK >>> 이 또한 지나가리라\n"
     ]
    }
   ],
   "source": [
    "loglist = ['2016/08/26 10:12:11', '200', 'OK', '이 또한 지나가리라']\n",
    "bond = ' >>> '\n",
    "\n",
    "log = bond.join(loglist)\n",
    "print(log)"
   ]
  },
  {
   "cell_type": "code",
   "execution_count": 53,
   "metadata": {},
   "outputs": [
    {
     "name": "stdout",
     "output_type": "stream",
     "text": [
      "My password is 0234\n",
      "My password is python234\n",
      "하루하루 많은 일들이 일어납니다.\n",
      "하루하루 많은 사건들이 사건어납니다.\n"
     ]
    }
   ],
   "source": [
    "txt = 'My password is 1234'\n",
    "\n",
    "ret1 = txt.replace('1', '0')\n",
    "ret2 = txt.replace('1', 'python')\n",
    "\n",
    "print(ret1)\n",
    "print(ret2)\n",
    "\n",
    "txt = '매일 많은 일들이 일어납니다.'\n",
    "\n",
    "ret3 = txt.replace('매일', '하루하루')\n",
    "ret4 = ret3.replace('일', '사건')\n",
    "\n",
    "print(ret3)\n",
    "print(ret4)"
   ]
  },
  {
   "cell_type": "code",
   "execution_count": 59,
   "metadata": {
    "scrolled": true
   },
   "outputs": [
    {
     "name": "stdout",
     "output_type": "stream",
     "text": [
      "I love python\n",
      "b'I love python'\n",
      "73\n",
      "32\n",
      "True\n",
      "False\n",
      "True\n",
      "b'A lot of things occur each day.'\n",
      "A lot of things occur each day.\n"
     ]
    }
   ],
   "source": [
    "u_txt = 'I love python'\n",
    "b_txt = u_txt.encode() #인코딩\n",
    "\n",
    "print(u_txt)\n",
    "print(b_txt) #문자열로 보여지지만 실제로는 바이트값을 저장\n",
    "\n",
    "print(b_txt[0]) #I\n",
    "print(b_txt[1]) #공백\n",
    "\n",
    "ret1 = 'I' == u_txt[0]\n",
    "ret2 = 'I' == b_txt[0]\n",
    "ret3 = 73 == b_txt[0]\n",
    "\n",
    "print(ret1)\n",
    "print(ret2)\n",
    "print(ret3)\n",
    "\n",
    "b_txt = b'A lot of things occur each day.'\n",
    "u_txt = b_txt.decode() #디코딩\n",
    "\n",
    "print(b_txt)\n",
    "print(u_txt)"
   ]
  },
  {
   "cell_type": "code",
   "execution_count": 61,
   "metadata": {},
   "outputs": [
    {
     "name": "stdout",
     "output_type": "stream",
     "text": [
      "정렬할 문자열을 입력하세요: apple banana papaya\n",
      "[' ', ' ', 'a', 'a', 'a', 'a', 'a', 'a', 'a', 'b', 'e', 'l', 'n', 'n', 'p', 'p', 'p', 'p', 'y']\n",
      "['y', 'p', 'p', 'p', 'p', 'n', 'n', 'l', 'e', 'b', 'a', 'a', 'a', 'a', 'a', 'a', 'a', ' ', ' ']\n",
      "오름차순으로 정렬된 문자열은 <  aaaaaaabelnnppppy> 입니다.\n",
      "내림차순으로 정렬된 문자열은 <yppppnnlebaaaaaaa  > 입니다.\n"
     ]
    }
   ],
   "source": [
    "strdata = input('정렬할 문자열을 입력하세요: ')\n",
    "\n",
    "ret1 = sorted(strdata)\n",
    "ret2 = sorted(strdata, reverse = True)\n",
    "\n",
    "print(ret1)\n",
    "print(ret2)\n",
    "\n",
    "ret1 = ''.join(ret1)\n",
    "ret2 = ''.join(ret2)\n",
    "\n",
    "print('오름차순으로 정렬된 문자열은 <' + ret1 + '> 입니다.')\n",
    "print('내림차순으로 정렬된 문자열은 <' + ret2 + '> 입니다.')"
   ]
  },
  {
   "cell_type": "code",
   "execution_count": 62,
   "metadata": {},
   "outputs": [
    {
     "name": "stdout",
     "output_type": "stream",
     "text": [
      "2\n",
      "b\n",
      "5\n"
     ]
    }
   ],
   "source": [
    "listdata = [1, 2, 'a', 'b', 'c', [4, 5, 6]]\n",
    "\n",
    "val1 = listdata[1]\n",
    "val2 = listdata[3]\n",
    "val3 = listdata[5][1]\n",
    "\n",
    "print(val1) \n",
    "print(val2) \n",
    "print(val3) "
   ]
  },
  {
   "cell_type": "code",
   "execution_count": 66,
   "metadata": {},
   "outputs": [
    {
     "name": "stdout",
     "output_type": "stream",
     "text": [
      "태양계의 암석형 행성 : ['수성', '금성', '지구']\n",
      "태양계의 가스형 행성 : ['화성', '목성', '토성', '천왕성', '해왕성']\n"
     ]
    }
   ],
   "source": [
    "solarsys = ['태양', '수성', '금성', '지구', '화성', '목성', '토성', '천왕성', '해왕성']\n",
    "rock_planets = solarsys[1:4]\n",
    "gas_planets = solarsys[4:]\n",
    "print('태양계의 암석형 행성 : ', end='');print(rock_planets)\n",
    "print('태양계의 가스형 행성 : ', end='');print(gas_planets)"
   ]
  },
  {
   "cell_type": "code",
   "execution_count": 67,
   "metadata": {},
   "outputs": [
    {
     "name": "stdout",
     "output_type": "stream",
     "text": [
      "지구은(는) 태양계에서 3번째에 위치하고 있습니다\n",
      "지구은(는) 태양계에서 9번째에 위치하고 있습니다\n"
     ]
    }
   ],
   "source": [
    "solarsys = ['태양', '수성', '금성', '지구', '화성', '목성', '토성', '천왕성', '해왕성', '지구']\n",
    "planet = '지구'\n",
    "\n",
    "pos = solarsys.index(planet)\n",
    "print('{}은(는) 태양계에서 {}번째에 위치하고 있습니다' .format(planet, pos))\n",
    "\n",
    "pos = solarsys.index(planet, 5)\n",
    "print('{}은(는) 태양계에서 {}번째에 위치하고 있습니다' .format(planet, pos))"
   ]
  },
  {
   "cell_type": "code",
   "execution_count": 68,
   "metadata": {},
   "outputs": [
    {
     "name": "stdout",
     "output_type": "stream",
     "text": [
      "['태양', '수성', '금성', '지구', 'Mars', '목성', '토성', '천왕성', '해왕성']\n"
     ]
    }
   ],
   "source": [
    "solarsys = ['태양', '수성', '금성', '지구', '화성', '목성', '토성', '천왕성', '해왕성']\n",
    "planet = '화성'\n",
    "\n",
    "pos = solarsys.index(planet)\n",
    "solarsys[pos] = 'Mars'\n",
    "\n",
    "print(solarsys)"
   ]
  },
  {
   "cell_type": "code",
   "execution_count": 80,
   "metadata": {},
   "outputs": [
    {
     "name": "stdout",
     "output_type": "stream",
     "text": [
      "원본 list : [0, 1, 2, 3, 4]\n",
      "역순 list(reverse() 이용) : [4, 3, 2, 1, 0]\n",
      "원본 list : [0, 1, 2, 3, 4]\n",
      "역순 list(reversed() 이용) : [4, 3, 2, 1, 0]\n",
      "역순 list(슬라이싱 이용) : [4, 3, 2, 1, 0]\n"
     ]
    }
   ],
   "source": [
    "listdata = list(range(5))\n",
    "print('원본 list : ', end=''); print(listdata)\n",
    "listdata.reverse()\n",
    "print('역순 list(reverse() 이용) : ', end=''); print(listdata)\n",
    "\n",
    "listdata = list(range(5))\n",
    "ret1 = reversed(listdata)\n",
    "ret1 = list(ret1)\n",
    "print('원본 list : ', end=''); print(listdata)\n",
    "print('역순 list(reversed() 이용) : ', end=''); print(ret1)\n",
    "\n",
    "ret2 = listdata[::-1]\n",
    "print('역순 list(슬라이싱 이용) : ', end=''); print(ret2)"
   ]
  },
  {
   "cell_type": "code",
   "execution_count": 81,
   "metadata": {},
   "outputs": [
    {
     "name": "stdout",
     "output_type": "stream",
     "text": [
      "['a', 'b', 'c', 'd', 'e', 'f', 'g', 'h', 'i', 'j']\n",
      "['f', 'g', 'h', 'i', 'j', 'a', 'b', 'c', 'd', 'e']\n",
      "[0, 1, 2, 0, 1, 2, 0, 1, 2]\n"
     ]
    }
   ],
   "source": [
    "listdata1 = ['a', 'b', 'c', 'd', 'e']\n",
    "listdata2 = ['f', 'g', 'h', 'i', 'j']\n",
    "\n",
    "listdata3 = listdata1 + listdata2\n",
    "listdata4 = listdata2 + listdata1\n",
    "\n",
    "print(listdata3)\n",
    "print(listdata4)\n",
    "\n",
    "listdata = list(range(3))\n",
    "ret = listdata * 3\n",
    "print(ret)"
   ]
  },
  {
   "cell_type": "code",
   "execution_count": 86,
   "metadata": {},
   "outputs": [
    {
     "name": "stdout",
     "output_type": "stream",
     "text": [
      "리스트에 추가할 값을 입력하세요. [1/3] : 안뇽\n",
      "['안뇽']\n",
      "리스트에 추가할 값을 입력하세요. [2/3] : 안뇽뇽\n",
      "['안뇽', '안뇽뇽']\n",
      "리스트에 추가할 값을 입력하세요. [3/3] : 안뇽뇽뇽\n",
      "['안뇽', '안뇽뇽', '안뇽뇽뇽']\n"
     ]
    }
   ],
   "source": [
    "listdata = list()\n",
    "for i in range(3):\n",
    "    txt = input('리스트에 추가할 값을 입력하세요. [{}/3] : ' .format(i+1))\n",
    "    listdata.append(txt)\n",
    "    print(listdata)"
   ]
  },
  {
   "cell_type": "code",
   "execution_count": 84,
   "metadata": {},
   "outputs": [
    {
     "name": "stdout",
     "output_type": "stream",
     "text": [
      "['태양', '수성', '금성', '지구', '화성', 'Jupiter', '목성', '토성', '천왕성', '해왕성']\n"
     ]
    }
   ],
   "source": [
    "solarsys = ['태양', '수성', '금성', '지구', '화성', '목성', '토성', '천왕성', '해왕성']\n",
    "pos = solarsys.index('목성')\n",
    "solarsys.insert(pos, 'Jupiter')\n",
    "print(solarsys)"
   ]
  },
  {
   "cell_type": "code",
   "execution_count": 90,
   "metadata": {},
   "outputs": [
    {
     "name": "stdout",
     "output_type": "stream",
     "text": [
      "['수성', '금성', '지구', '화성', '목성', '토성', '천왕성', '해왕성']\n",
      "['수성', '금성', '지구', '화성', '목성', '토성', '해왕성']\n",
      "['수성', '화성', '목성', '토성', '해왕성']\n"
     ]
    }
   ],
   "source": [
    "listdata = []\n",
    "solarsys = ['태양', '수성', '금성', '지구', '화성', '목성', '토성', '천왕성', '해왕성']\n",
    "del solarsys[0]\n",
    "print(solarsys)\n",
    "del solarsys[-2]\n",
    "print(solarsys)\n",
    "\n",
    "del solarsys[1:3]\n",
    "print(solarsys)\n",
    "\n",
    "del solarsys\n",
    "#print(solarsys)"
   ]
  },
  {
   "cell_type": "code",
   "execution_count": 92,
   "metadata": {},
   "outputs": [
    {
     "name": "stdout",
     "output_type": "stream",
     "text": [
      "['태양', '수성', '금성', '지구', '목성', '토성', '천왕성', '해왕성']\n"
     ]
    }
   ],
   "source": [
    "solarsys = ['태양', '수성', '금성', '지구', '화성', '목성', '토성', '천왕성', '해왕성']\n",
    "solarsys.remove('화성')\n",
    "print(solarsys)"
   ]
  },
  {
   "cell_type": "code",
   "execution_count": 94,
   "metadata": {},
   "outputs": [
    {
     "name": "stdout",
     "output_type": "stream",
     "text": [
      "15\n",
      "(3, 1)\n"
     ]
    }
   ],
   "source": [
    "listdata = [2, 2, 1, 3, 8, 5, 7, 6, 3, 6, 2, 3, 9, 4, 4]\n",
    "listsize = len(listdata)\n",
    "print(listsize)\n",
    "\n",
    "c1 = listdata.count(2)\n",
    "c2 = listdata.count(7)\n",
    "print((c1, c2))"
   ]
  },
  {
   "cell_type": "code",
   "execution_count": 96,
   "metadata": {},
   "outputs": [
    {
     "name": "stdout",
     "output_type": "stream",
     "text": [
      "['Aimy', 'Bob', 'Kelly', 'Mary', 'Michale', 'Sams', 'Tom']\n",
      "['Mary', 'Sams', 'Aimy', 'Tom', 'Michale', 'Bob', 'Kelly']\n",
      "['Aimy', 'Bob', 'Kelly', 'Mary', 'Michale', 'Sams', 'Tom']\n",
      "['Tom', 'Sams', 'Michale', 'Mary', 'Kelly', 'Bob', 'Aimy']\n"
     ]
    }
   ],
   "source": [
    "namelist = ['Mary', 'Sams', 'Aimy', 'Tom', 'Michale', 'Bob', 'Kelly']\n",
    "namelist.sort()\n",
    "print(namelist)\n",
    "\n",
    "namelist = ['Mary', 'Sams', 'Aimy', 'Tom', 'Michale', 'Bob', 'Kelly']\n",
    "ret1 = sorted(namelist)\n",
    "ret2 = sorted(namelist, reverse=True)\n",
    "print(namelist)\n",
    "print(ret1)\n",
    "print(ret2)"
   ]
  },
  {
   "cell_type": "code",
   "execution_count": 97,
   "metadata": {},
   "outputs": [
    {
     "name": "stdout",
     "output_type": "stream",
     "text": [
      "[9, 7, 4, 5, 6, 2, 3, 1, 8, 10]\n",
      "[1, 9, 6, 10, 3, 8, 7, 4, 5, 2]\n",
      "[10, 4, 1, 7, 5, 8, 3, 9, 2, 6]\n"
     ]
    }
   ],
   "source": [
    "from random import shuffle\n",
    "\n",
    "listdata = list(range(1, 11))\n",
    "for i in range(3):\n",
    "    shuffle(listdata)\n",
    "    print(listdata)"
   ]
  },
  {
   "cell_type": "code",
   "execution_count": 105,
   "metadata": {},
   "outputs": [
    {
     "name": "stdout",
     "output_type": "stream",
     "text": [
      "[(0, '태양'), (1, '수성'), (2, '금성'), (3, '지구'), (4, '화성'), (5, '목성'), (6, '토성'), (7, '천왕성'), (8, '해왕성')]\n",
      "태양계의 1번째 천체 : 태양\n",
      "태양계의 2번째 천체 : 수성\n",
      "태양계의 3번째 천체 : 금성\n",
      "태양계의 4번째 천체 : 지구\n",
      "태양계의 5번째 천체 : 화성\n",
      "태양계의 6번째 천체 : 목성\n",
      "태양계의 7번째 천체 : 토성\n",
      "태양계의 8번째 천체 : 천왕성\n",
      "태양계의 9번째 천체 : 해왕성\n"
     ]
    }
   ],
   "source": [
    "solarsys = ['태양', '수성', '금성', '지구', '화성', '목성', '토성', '천왕성', '해왕성']\n",
    "ret = list(enumerate(solarsys)) #enumerate : 인덱스와 데이터를 한쌍으로\n",
    "print(ret)\n",
    "\n",
    "for (i, body) in enumerate(solarsys):\n",
    "    print('태양계의 {}번째 천체 : {}' .format(i+1, body))"
   ]
  },
  {
   "cell_type": "code",
   "execution_count": 106,
   "metadata": {},
   "outputs": [
    {
     "name": "stdout",
     "output_type": "stream",
     "text": [
      "65\n"
     ]
    }
   ],
   "source": [
    "listdata = [2, 2, 1, 3, 8, 5, 7, 6, 3, 6, 2, 3, 9, 4, 4]\n",
    "ret = sum(listdata)\n",
    "print(ret)"
   ]
  },
  {
   "cell_type": "code",
   "execution_count": 107,
   "metadata": {},
   "outputs": [
    {
     "name": "stdout",
     "output_type": "stream",
     "text": [
      "False\n",
      "True\n",
      "True\n",
      "True\n",
      "False\n",
      "False\n"
     ]
    }
   ],
   "source": [
    "listdata1 = [0, 1, 2, 3, 4] \n",
    "listdata2 = [True, True, True]\n",
    "listdata3 = ['', [], (), {}, None, False]\n",
    "\n",
    "print(all(listdata1)) #모두 True여야 True\n",
    "print(any(listdata1)) #하나라도 True면 True\n",
    "print(all(listdata2)) \n",
    "print(any(listdata2)) \n",
    "print(all(listdata3)) \n",
    "print(any(listdata3)) "
   ]
  },
  {
   "cell_type": "code",
   "execution_count": 109,
   "metadata": {},
   "outputs": [
    {
     "name": "stdout",
     "output_type": "stream",
     "text": [
      "{'태양': 'Sun', '수성': 'Mercury', '금성': 'Venus', '지구': 'Earth', '화성': 'Mars', '목성': 'Jupiter', '토성': 'Saturn', '천왕성': 'Uranus', '해왕성': 'Neptune'}\n"
     ]
    }
   ],
   "source": [
    "solar1 = ['태양', '수성', '금성', '지구', '화성', '목성', '토성', '천왕성', '해왕성']\n",
    "solar2 = ['Sun', 'Mercury', 'Venus', 'Earth', 'Mars', 'Jupiter', 'Saturn', 'Uranus', 'Neptune']\n",
    "solardict = {}\n",
    "\n",
    "for i, k in enumerate(solar1):\n",
    "    val = solar2[i]\n",
    "    solardict[k] = val\n",
    "    \n",
    "print(solardict)"
   ]
  },
  {
   "cell_type": "code",
   "execution_count": 111,
   "metadata": {},
   "outputs": [
    {
     "name": "stdout",
     "output_type": "stream",
     "text": [
      "{'Mary': 10999, 'Aimy': 9778, 'Tom': 20245, 'Michale': 27115, 'Bob': 5887, 'Kelly': 7855}\n",
      "{}\n"
     ]
    }
   ],
   "source": [
    "names = {'Mary':10999, 'Sams':2111, 'Aimy':9778, 'Tom':20245, \n",
    "'Michale':27115, 'Bob':5887, 'Kelly':7855}\n",
    "del names['Sams']\n",
    "print(names)\n",
    "\n",
    "names.clear()\n",
    "print(names)"
   ]
  },
  {
   "cell_type": "code",
   "execution_count": 120,
   "metadata": {},
   "outputs": [
    {
     "name": "stdout",
     "output_type": "stream",
     "text": [
      "dict_keys(['Mary', 'Sams', 'Aimy', 'Tom', 'Michale', 'Bob', 'Kelly'])\n",
      "dict_values([10999, 2111, 9778, 20245, 27115, 5887, 7855])\n",
      "[10999, 2111, 9778, 20245, 27115, 5887, 7855]\n",
      "출생아 수 총계 : 83990\n"
     ]
    }
   ],
   "source": [
    "names = {'Mary':10999, 'Sams':2111, 'Aimy':9778, 'Tom':20245, \n",
    "'Michale':27115, 'Bob':5887, 'Kelly':7855}\n",
    "keys = names.keys()\n",
    "vals = names.values()\n",
    "print(keys)\n",
    "print(vals)\n",
    "\n",
    "vals_list = list(vals)\n",
    "print(vals_list)\n",
    "ret = sum(vals_list)\n",
    "print('출생아 수 총계 : {}' .format(ret))"
   ]
  },
  {
   "cell_type": "code",
   "execution_count": 136,
   "metadata": {},
   "outputs": [
    {
     "name": "stdout",
     "output_type": "stream",
     "text": [
      "Key: Mary  \tValue: 10999\n",
      "Key: Sams  \tValue: 2111\n",
      "Key: Aimy  \tValue: 9778\n",
      "Key: Tom  \tValue: 20245\n",
      "Key: Michale  \tValue: 27115\n",
      "Key: Bob  \tValue: 5887\n",
      "Key: Kelly  \tValue: 7855\n"
     ]
    }
   ],
   "source": [
    "names = {'Mary':10999, 'Sams':2111, 'Aimy':9778, 'Tom':20245, \n",
    "'Michale':27115, 'Bob':5887, 'Kelly':7855}\n",
    "keys = names.keys()\n",
    "\n",
    "for k in keys:\n",
    "    print('Key: {}' .format(k), ' \\tValue: {}' .format(names[k]))\n",
    "    #print('Key: %s' %k, '\\tValue: %d' %names[k])\n",
    "    #print('Key: %s \\tValue: %d' %(k, names[k]))\n",
    "    #print('Key: {0} \\tValue: {1}' .format(k, names[k]))"
   ]
  },
  {
   "cell_type": "code",
   "execution_count": 118,
   "metadata": {},
   "outputs": [
    {
     "name": "stdout",
     "output_type": "stream",
     "text": [
      "dict_items([('Mary', 10999), ('Sams', 2111), ('Aimy', 9778), ('Tom', 20245), ('Michale', 27115), ('Bob', 5887), ('Kelly', 7855)])\n",
      "('Mary', 10999)\n",
      "('Sams', 2111)\n",
      "('Aimy', 9778)\n",
      "('Tom', 20245)\n",
      "('Michale', 27115)\n",
      "('Bob', 5887)\n",
      "('Kelly', 7855)\n"
     ]
    }
   ],
   "source": [
    "names = {'Mary':10999, 'Sams':2111, 'Aimy':9778, 'Tom':20245, \n",
    "'Michale':27115, 'Bob':5887, 'Kelly':7855}\n",
    "items = names.items()\n",
    "print(items)\n",
    "\n",
    "for item in items:\n",
    "    print(item)"
   ]
  },
  {
   "cell_type": "code",
   "execution_count": 138,
   "metadata": {},
   "outputs": [
    {
     "name": "stdout",
     "output_type": "stream",
     "text": [
      "이름을 입력하세요. : Mary\n",
      "이름이 <Mary>인 출생아 수는 <10999>명입니다.\n"
     ]
    }
   ],
   "source": [
    "names = {'Mary':10999, 'Sams':2111, 'Aimy':9778, 'Tom':20245, \n",
    "'Michale':27115, 'Bob':5887, 'Kelly':7855}\n",
    "k = input('이름을 입력하세요. : ')\n",
    "if k in names:\n",
    "    print('이름이 <{}>인 출생아 수는 <{}>명입니다.' .format(k, names[k]))\n",
    "else:\n",
    "    print('자료에 <{}> 이름이 존재하지 않습니다.' .format(k))\n",
    "    "
   ]
  },
  {
   "cell_type": "code",
   "execution_count": 142,
   "metadata": {},
   "outputs": [
    {
     "name": "stdout",
     "output_type": "stream",
     "text": [
      "['Aimy', 'Bob', 'Kelly', 'Mary', 'Michale', 'Sams', 'Tom']\n",
      "['Aimy', 'Bob', 'Kelly', 'Mary', 'Michale', 'Sams', 'Tom']\n",
      "[2111, 5887, 7855, 9778, 10999, 20245, 27115]\n"
     ]
    }
   ],
   "source": [
    " names = {'Mary':10999, 'Sams':2111, 'Aimy':9778, 'Tom':20245, \n",
    "'Michale':27115, 'Bob':5887, 'Kelly':7855}\n",
    "\n",
    "ret1 = sorted(names) #오름차순, key만 정렬\n",
    "ret2 = sorted(names.keys()) #오름차순, key만 정렬\n",
    "ret3 = sorted(names.values()) #오름차순, value만 정렬\n",
    "\n",
    "print(ret1)\n",
    "print(ret2)\n",
    "print(ret3)"
   ]
  },
  {
   "cell_type": "code",
   "execution_count": 146,
   "metadata": {},
   "outputs": [
    {
     "name": "stdout",
     "output_type": "stream",
     "text": [
      "[('Aimy', 9778), ('Bob', 5887), ('Kelly', 7855), ('Mary', 10999), ('Michale', 27115), ('Sams', 2111), ('Tom', 20245)]\n",
      "[('Aimy', 9778), ('Bob', 5887), ('Kelly', 7855), ('Mary', 10999), ('Michale', 27115), ('Sams', 2111), ('Tom', 20245)]\n",
      "[('Sams', 2111), ('Bob', 5887), ('Kelly', 7855), ('Aimy', 9778), ('Mary', 10999), ('Tom', 20245), ('Michale', 27115)]\n",
      "[('Michale', 27115), ('Tom', 20245), ('Mary', 10999), ('Aimy', 9778), ('Kelly', 7855), ('Bob', 5887), ('Sams', 2111)]\n"
     ]
    }
   ],
   "source": [
    " names = {'Mary':10999, 'Sams':2111, 'Aimy':9778, 'Tom':20245, \n",
    "'Michale':27115, 'Bob':5887, 'Kelly':7855}\n",
    "    \n",
    "def f1(x):\n",
    "    return x[0] #key\n",
    "\n",
    "def f2(x):\n",
    "    return x[1] #value\n",
    "\n",
    "ret1 = sorted(names.items()) #key 기준 오름차순\n",
    "ret2 = sorted(names.items(), key=f1) #key 기준 오름차순\n",
    "ret3 = sorted(names.items(), key=f2) #value 기준 오름차순\n",
    "ret4 = sorted(names.items(), key=f2, reverse=True) #value 기준 내림차순\n",
    "\n",
    "print(ret1)\n",
    "print(ret2)\n",
    "print(ret3)\n",
    "print(ret4)"
   ]
  },
  {
   "cell_type": "code",
   "execution_count": 152,
   "metadata": {},
   "outputs": [
    {
     "name": "stdout",
     "output_type": "stream",
     "text": [
      "문자 1개를 입력하세요. : 고\n",
      "입력 문자: 고 \t코드값: 44256[0xace0]\n"
     ]
    }
   ],
   "source": [
    "#ord : 문자 > 아스키 코드값\n",
    "#chr : 아스키 코드값 > 문자\n",
    "#hex : 16진수값\n",
    "\n",
    "ch = input('문자 1개를 입력하세요. : ')\n",
    "  \n",
    "if len(ch) != 0:\n",
    "    ch = ch[0]\n",
    "    chv = ord(ch)\n",
    "    print('입력 문자: {0} \\t코드값: {1}[{2}]' .format(ch, chv, hex(chv)))"
   ]
  },
  {
   "cell_type": "code",
   "execution_count": 157,
   "metadata": {},
   "outputs": [
    {
     "name": "stdout",
     "output_type": "stream",
     "text": [
      "문자 코드값을 입력하세요. :54620\n",
      "입력 코드값: 54620[0xd55c] \t문자: 한\n"
     ]
    }
   ],
   "source": [
    "val = input('문자 코드값을 입력하세요. :')\n",
    "val = int(val)\n",
    "\n",
    "try:\n",
    "    ch = chr(val)\n",
    "    print('입력 코드값: {0}[{1}] \\t문자: {2}' .format(val, hex(val), ch))\n",
    "except ValueError as err:\n",
    "    print('입력한 <{}>에 대한 문자가 존재하지 않습니다.' .format(val), '\\n',err)"
   ]
  },
  {
   "cell_type": "code",
   "execution_count": 160,
   "metadata": {},
   "outputs": [
    {
     "name": "stdout",
     "output_type": "stream",
     "text": [
      "'2+3'(을/를) eval()로 실행한 결과 : 5\n",
      "'round(3.7)'(을/를) eval()로 실행한 결과 : 4\n"
     ]
    }
   ],
   "source": [
    "expr1 = '2+3'\n",
    "expr2 = 'round(3.7)'\n",
    "\n",
    "ret1 = eval(expr1)\n",
    "ret2 = eval(expr2)\n",
    "\n",
    "print('\\'{}\\'(을/를) eval()로 실행한 결과 : {}' .format(expr1, ret1))\n",
    "print('\\'{}\\'(을/를) eval()로 실행한 결과 : {}' .format(expr2, ret2))"
   ]
  },
  {
   "cell_type": "code",
   "execution_count": 9,
   "metadata": {},
   "outputs": [
    {
     "name": "stdout",
     "output_type": "stream",
     "text": [
      "4\n",
      "Intro.pptx\n",
      "Report.docx\n",
      "[('Aimy', 9778), ('Bob', 5887), ('Kelly', 7855), ('Mary', 10999), ('Michale', 27115), ('Sams', 2111), ('Tom', 20245)]\n"
     ]
    }
   ],
   "source": [
    "add = lambda x,y : x+y\n",
    "ret = add(1,3)\n",
    "print(ret)\n",
    "\n",
    "funcs = [lambda x:x+'.pptx', lambda x:x+'.docx']\n",
    "ret1 = funcs[0]('Intro') #람다함수 호출\n",
    "ret2 = funcs[1]('Report')\n",
    "print(ret1)\n",
    "print(ret2)\n",
    "\n",
    "names = {'Mary':10999, 'Sams':2111, 'Aimy':9778, 'Tom':20245, 'Michale':27115,\n",
    "          'Bob':5887, 'Kelly':7855}\n",
    "ret3 = sorted(names.items(), key=lambda x:x[0]) #x:items, x[0]:keys\n",
    "print(ret3)"
   ]
  },
  {
   "cell_type": "code",
   "execution_count": 21,
   "metadata": {},
   "outputs": [
    {
     "name": "stdout",
     "output_type": "stream",
     "text": [
      "[1, 4, 9, 16, 25]\n",
      "[1, 4, 9, 16, 25]\n",
      "[11, 13, 17, 23, 31]\n",
      "[11, 13, 17, 23, 31]\n"
     ]
    }
   ],
   "source": [
    "func = lambda x:x*x\n",
    "args = [1,2,3,4,5]\n",
    "ret = map(func, args) #함수와 인자를 map에 함께 담으면 실행됨\n",
    "print(list(ret)) #map 객체는 list로 변형하여 확인\n",
    "print([*map(func, args)])\n",
    "\n",
    "func = lambda x,y:x*x+y\n",
    "x = [1, 2, 3, 4, 5]\n",
    "y = [10, 9, 8, 7,6]\n",
    "ret = map(func, x, y)\n",
    "print(list(ret))\n",
    "print([*map(func, x, y)])"
   ]
  }
 ],
 "metadata": {
  "kernelspec": {
   "display_name": "pydata",
   "language": "python",
   "name": "pydata"
  },
  "language_info": {
   "codemirror_mode": {
    "name": "ipython",
    "version": 3
   },
   "file_extension": ".py",
   "mimetype": "text/x-python",
   "name": "python",
   "nbconvert_exporter": "python",
   "pygments_lexer": "ipython3",
   "version": "3.7.10"
  }
 },
 "nbformat": 4,
 "nbformat_minor": 4
}
